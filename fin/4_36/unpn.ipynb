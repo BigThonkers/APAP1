{
 "cells": [
  {
   "cell_type": "code",
   "execution_count": 34,
   "metadata": {},
   "outputs": [
    {
     "name": "stdout",
     "output_type": "stream",
     "text": [
      "0.000143+/-0.000006\n"
     ]
    }
   ],
   "source": [
    "from uncertainties import ufloat\n",
    "from uncertainties import unumpy as unp\n",
    "import numpy as np\n",
    "\n",
    "m = ufloat(0.0057,0.0003)\n",
    "V = ufloat(2.225e-3,0.005e-3)\n",
    "A = np.pi*(ufloat(0.0135,0.0003)/2)**2\n",
    "pa = ufloat(98800,100)\n",
    "g = 9.81\n",
    "print(A)"
   ]
  },
  {
   "cell_type": "code",
   "execution_count": 33,
   "metadata": {},
   "outputs": [
    {
     "name": "stdout",
     "output_type": "stream",
     "text": [
      "(9.919+/-0.010)e+04\n"
     ]
    }
   ],
   "source": [
    "F = m*g\n",
    "ps = F/A\n",
    "p = ps + pa\n",
    "print(p)"
   ]
  },
  {
   "cell_type": "code",
   "execution_count": 17,
   "metadata": {},
   "outputs": [],
   "source": [
    "def f(t):\n",
    "    return (4*np.pi**2*m*V)/(A**2*p*t**2)\n",
    "def s_t(t,n):\n",
    "    return (sum(t)/len(t))/np.sqrt(n)"
   ]
  },
  {
   "cell_type": "code",
   "execution_count": 41,
   "metadata": {},
   "outputs": [
    {
     "name": "stdout",
     "output_type": "stream",
     "text": [
      "3.9234\n",
      "3.6136000000000004\n"
     ]
    }
   ],
   "source": [
    "L = unp.uarray([39.09, 38.96, 39.16, 39, 39.96],[s_t([39.09, 38.96, 39.16, 39, 39.96],100)])\n",
    "Ar = unp.uarray([36.1,36.18,36.14,36.1,36.16],s_t([36.1,36.18,36.14,36.1,36.16],100))\n",
    "print(L[1].s)\n",
    "print(Ar[1].s)"
   ]
  },
  {
   "cell_type": "code",
   "execution_count": 19,
   "metadata": {},
   "outputs": [],
   "source": [
    "T1 = []\n",
    "for i in L:\n",
    "    T1.append(i/100)\n",
    "\n",
    "T2 = []\n",
    "for i in Ar:\n",
    "    T2.append(i/100)"
   ]
  },
  {
   "cell_type": "code",
   "execution_count": 20,
   "metadata": {},
   "outputs": [
    {
     "name": "stdout",
     "output_type": "stream",
     "text": [
      "1.6+/-0.4\n",
      "1.6+/-0.4\n",
      "1.6+/-0.4\n",
      "1.6+/-0.4\n",
      "1.54+/-0.34\n",
      "1.9+/-0.4\n",
      "1.9+/-0.4\n",
      "1.9+/-0.4\n",
      "1.9+/-0.4\n",
      "1.9+/-0.4\n"
     ]
    }
   ],
   "source": [
    "for i in T1:\n",
    "    print(f(i))\n",
    "    \n",
    "for i in T2:\n",
    "    print(f(i))"
   ]
  },
  {
   "cell_type": "code",
   "execution_count": 21,
   "metadata": {},
   "outputs": [
    {
     "name": "stdout",
     "output_type": "stream",
     "text": [
      "[1.6123068508961242+/-0.36382363319421573\n",
      " 1.623084550199296+/-0.36722311153587556\n",
      " 1.6065478821804033+/-0.36201138038888564\n",
      " 1.619756853380531+/-0.36617239725900214\n",
      " 1.542865546973267+/-0.3421694228093605]\n"
     ]
    }
   ],
   "source": [
    "L100=L/100\n",
    "print(f(L100))"
   ]
  },
  {
   "cell_type": "code",
   "execution_count": 22,
   "metadata": {},
   "outputs": [],
   "source": [
    "L1000=np.array([6*60+32.32,6*60+32.52],s_t([6*60+32.32,6*60+32.52],1000))/1000\n",
    "Ar1000=np.array([6*60+10.68,6*60+04.06],s_t([6*60+10.68,6*60+04.06],1000))/1000"
   ]
  },
  {
   "cell_type": "code",
   "execution_count": 23,
   "metadata": {},
   "outputs": [
    {
     "name": "stdout",
     "output_type": "stream",
     "text": [
      "[1.600656502424931+/-0.16498817205717206\n",
      " 1.599025758806639+/-0.1648200826461908]\n"
     ]
    }
   ],
   "source": [
    "print(f(L1000))"
   ]
  },
  {
   "cell_type": "code",
   "execution_count": 24,
   "metadata": {},
   "outputs": [
    {
     "name": "stdout",
     "output_type": "stream",
     "text": [
      "[1.7930018246673662+/-0.1848142265994491\n",
      " 1.858801912812012+/-0.1915965913652431]\n"
     ]
    }
   ],
   "source": [
    "print(f(Ar1000))"
   ]
  },
  {
   "cell_type": "code",
   "execution_count": 38,
   "metadata": {},
   "outputs": [
    {
     "name": "stdout",
     "output_type": "stream",
     "text": [
      "1.58+/-0.17\n",
      "1.90+/-0.18\n",
      "1.60+/-0.14\n",
      "1.80+/-0.14\n",
      "1.59+/-0.13\n",
      "1.87+/-0.13\n"
     ]
    }
   ],
   "source": [
    "k100l=unp.uarray([1.6,1.6,1.6,1.6,1.5],[0.4,0.4,0.4,0.4,0.3])\n",
    "k100a=unp.uarray([1.9,1.9,1.9,1.9,1.9],[0.4])\n",
    "k1000l=unp.uarray([1.6,1.6],0.2)\n",
    "k1000a=unp.uarray([1.8,1.8],0.2)\n",
    "ktotl=np.append(k100l,k1000l)\n",
    "ktota=np.append(k100a,k1000a)\n",
    "\n",
    "def mean(a):\n",
    "    return sum(a)/len(a)\n",
    "\n",
    "print(mean(k100l))\n",
    "print(mean(k100a))\n",
    "print(mean(k1000l))\n",
    "print(mean(k1000a))\n",
    "print(mean(ktotl))\n",
    "print(mean(ktota))"
   ]
  },
  {
   "cell_type": "code",
   "execution_count": 39,
   "metadata": {},
   "outputs": [
    {
     "name": "stdout",
     "output_type": "stream",
     "text": [
      "0.6296296296296309\n",
      "1.5279384672152094\n"
     ]
    }
   ],
   "source": [
    "k=5/3\n",
    "def t(x_0,y,u):\n",
    "    return abs(x_0-y)/u\n",
    "\n",
    "print(t(mean(ktotl).n,k,mean(ktotl).s))\n",
    "print(t(mean(ktota).n,k,mean(ktota).s))"
   ]
  },
  {
   "cell_type": "code",
   "execution_count": null,
   "metadata": {},
   "outputs": [],
   "source": []
  }
 ],
 "metadata": {
  "kernelspec": {
   "display_name": "Python 3",
   "language": "python",
   "name": "python3"
  },
  "language_info": {
   "codemirror_mode": {
    "name": "ipython",
    "version": 3
   },
   "file_extension": ".py",
   "mimetype": "text/x-python",
   "name": "python",
   "nbconvert_exporter": "python",
   "pygments_lexer": "ipython3",
   "version": "3.6.5"
  }
 },
 "nbformat": 4,
 "nbformat_minor": 2
}
