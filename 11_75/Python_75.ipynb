{
 "cells": [
  {
   "cell_type": "code",
   "execution_count": 5,
   "metadata": {
    "collapsed": true
   },
   "outputs": [],
   "source": [
    "import THONKtools as THONK\n",
    "import numpy as np\n",
    "import pandas as pd\n",
    "from uncertainties import ufloat\n",
    "from uncertainties import unumpy as unp"
   ]
  },
  {
   "cell_type": "code",
   "execution_count": 4,
   "metadata": {
    "collapsed": true
   },
   "outputs": [],
   "source": [
    "def beta(b,g):\n",
    "    return b/g"
   ]
  },
  {
   "cell_type": "markdown",
   "metadata": {},
   "source": [
    "Glas: $1\\,\\mathrm{cm}\\hat{=}0.15\\,\\mathrm{mm}$\n",
    "\n",
    "Matt: $1\\,\\mathrm{cm}\\simeq 0.15\\,\\mathrm{mm}$\n",
    "\n",
    "None: $1\\,\\mathrm{cm}\\equiv0.15\\,\\mathrm{mm}$\n",
    "\n",
    "Unsicherheit: $\\pm0.03\\,\\mathrm{mm}$\n",
    "\n",
    "OR\n",
    "\n",
    "Glas: $1\\,\\mathrm{cm}\\ \\hat{=}\\ 3\\,\\mathrm{mm}$\n",
    "\n",
    "Matt: $1\\,\\mathrm{cm}\\simeq 3\\,\\mathrm{mm}$\n",
    "\n",
    "None: $1\\,\\mathrm{cm}\\equiv3\\,\\mathrm{mm}$"
   ]
  },
  {
   "cell_type": "code",
   "execution_count": 3,
   "metadata": {},
   "outputs": [
    {
     "name": "stdout",
     "output_type": "stream",
     "text": [
      "$\\beta =$ 19.6\n",
      "$V_M =$ 65.33333333333333\n",
      "$V_M =$ 1306.6666666666667\n"
     ]
    }
   ],
   "source": [
    "#Fehler pls\n",
    "\n",
    "f1=40\n",
    "f2=40\n",
    "#f3=\n",
    "f4=80\n",
    "s0=250\n",
    "d=50\n",
    "B=98.0\n",
    "G=5\n",
    "print(r'$\\beta =$',B/G)\n",
    "print(r'$V_M =$',B/G*10/3)\n",
    "print(r'$V_M =$',B/G*10/0.15)"
   ]
  },
  {
   "cell_type": "code",
   "execution_count": 18,
   "metadata": {},
   "outputs": [
    {
     "name": "stdout",
     "output_type": "stream",
     "text": [
      "113.82978723404256\n",
      "122.5\n"
     ]
    }
   ],
   "source": [
    "print(856/47*s0/f2)\n",
    "print(B/G*s0/f2)"
   ]
  },
  {
   "cell_type": "code",
   "execution_count": 27,
   "metadata": {
    "collapsed": true
   },
   "outputs": [],
   "source": [
    "ok=1156+50\n",
    "objektiv=300\n",
    "d=ok-objektiv\n",
    "b=ok-f4-300\n",
    "g=(1/f1-1/(ok-f4-300))**-1"
   ]
  },
  {
   "cell_type": "code",
   "execution_count": 28,
   "metadata": {},
   "outputs": [
    {
     "name": "stdout",
     "output_type": "stream",
     "text": [
      "61.406250000000014\n"
     ]
    }
   ],
   "source": [
    "print(b/g*s0/f4)"
   ]
  },
  {
   "cell_type": "code",
   "execution_count": 26,
   "metadata": {},
   "outputs": [
    {
     "name": "stdout",
     "output_type": "stream",
     "text": [
      "826\n",
      "42.035623409669206\n"
     ]
    }
   ],
   "source": [
    "print(b)\n",
    "print(g)"
   ]
  },
  {
   "cell_type": "code",
   "execution_count": 29,
   "metadata": {},
   "outputs": [
    {
     "name": "stdout",
     "output_type": "stream",
     "text": [
      "19.650000000000002\n"
     ]
    }
   ],
   "source": [
    "print(b/g)"
   ]
  },
  {
   "cell_type": "code",
   "execution_count": 30,
   "metadata": {},
   "outputs": [
    {
     "name": "stdout",
     "output_type": "stream",
     "text": [
      "3.125\n"
     ]
    }
   ],
   "source": [
    "print(s0/f4)"
   ]
  },
  {
   "cell_type": "code",
   "execution_count": null,
   "metadata": {
    "collapsed": true
   },
   "outputs": [],
   "source": []
  }
 ],
 "metadata": {
  "kernelspec": {
   "display_name": "Python 3",
   "language": "python",
   "name": "python3"
  },
  "language_info": {
   "codemirror_mode": {
    "name": "ipython",
    "version": 3
   },
   "file_extension": ".py",
   "mimetype": "text/x-python",
   "name": "python",
   "nbconvert_exporter": "python",
   "pygments_lexer": "ipython3",
   "version": "3.6.3"
  }
 },
 "nbformat": 4,
 "nbformat_minor": 2
}
