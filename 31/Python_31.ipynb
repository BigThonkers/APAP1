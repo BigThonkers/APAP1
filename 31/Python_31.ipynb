{
 "cells": [
  {
   "cell_type": "code",
   "execution_count": 34,
   "metadata": {},
   "outputs": [
    {
     "name": "stdout",
     "output_type": "stream",
     "text": [
      "10044.577,21.172,10045.576,20.793,10046.577,20.641,10047.578,20.945,10048.578,22.309,10049.578,64.317,10050.578,62.150,10051.579,58.326,10052.579,55.858,10053.579,53.609,10054.581,51.542,10055.581,50.323,10056.582,49.176,10057.582,48.473,10058.582,47.732,10059.581,47.251,10060.582,46.695,10061.583,47.510,10062.583,47.510,10063.583,47.103,10064.583,47.029,10065.584,47.066,10066.585,46.843,10067.585,46.880,10068.585,46.361,10069.585,46.917,10070.585,47.251,10071.585,46.436,10072.586,46.695,10073.586,46.621,10074.587,47.066,10075.588,46.917,10076.587,46.436,10077.587,46.917,10078.587,46.769,10079.588,46.917,10080.588,46.547,10081.589,46.806,10082.590,46.473,10083.591,46.473,10084.592,46.436,10085.592,46.361,10086.592,46.510,10087.592,46.139,10088.592,46.621,10089.593,46.176,10090.593,46.287,10091.593,46.213,10092.593,45.916,10093.592,46.102,10094.592,46.473,10095.592,46.139,10096.592,46.880,10097.592,46.436,10098.593,46.361,10099.594,45.954,10100.594,46.324,10101.595,46.658,10102.596,45.991,10103.596,46.436,10104.596,46.658,10105.596,46.361,10106.596,46.473,10107.597,46.176,10108.597,46.250,10109.598,46.213,10110.598,46.621,10111.597,46.806,10112.597,46.139,10113.598,46.065,10114.598,46.399,10115.598,46.473,10116.599,46.176,10117.600,46.028,10118.600,46.473,10119.601,46.361,10120.601,46.287,10121.601,46.102,\n"
     ]
    }
   ],
   "source": [
    "with open (r'C:\\Users\\patrick\\Documents\\uni\\Praktikum-A1\\31\\Measurements\\kalorimeter\\mix.txt','r') as myfile:\n",
    "    data=myfile.read().replace(',','.').replace('\\n',',').replace('\t',',')\n",
    "print(data)"
   ]
  },
  {
   "cell_type": "code",
   "execution_count": 1,
   "metadata": {},
   "outputs": [
    {
     "name": "stdout",
     "output_type": "stream",
     "text": [
      "['10044.577', '21.172', '10045.576', '20.793', '10046.577', '20.641', '10047.578', '20.945', '10048.578', '22.309', '10049.578', '64.317', '10050.578', '62.150', '10051.579', '58.326', '10052.579', '55.858', '10053.579', '53.609', '10054.581', '51.542', '10055.581', '50.323', '10056.582', '49.176', '10057.582', '48.473', '10058.582', '47.732', '10059.581', '47.251', '10060.582', '46.695', '10061.583', '47.510', '10062.583', '47.510', '10063.583', '47.103', '10064.583', '47.029', '10065.584', '47.066', '10066.585', '46.843', '10067.585', '46.880', '10068.585', '46.361', '10069.585', '46.917', '10070.585', '47.251', '10071.585', '46.436', '10072.586', '46.695', '10073.586', '46.621', '10074.587', '47.066', '10075.588', '46.917', '10076.587', '46.436', '10077.587', '46.917', '10078.587', '46.769', '10079.588', '46.917', '10080.588', '46.547', '10081.589', '46.806', '10082.590', '46.473', '10083.591', '46.473', '10084.592', '46.436', '10085.592', '46.361', '10086.592', '46.510', '10087.592', '46.139', '10088.592', '46.621', '10089.593', '46.176', '10090.593', '46.287', '10091.593', '46.213', '10092.593', '45.916', '10093.592', '46.102', '10094.592', '46.473', '10095.592', '46.139', '10096.592', '46.880', '10097.592', '46.436', '10098.593', '46.361', '10099.594', '45.954', '10100.594', '46.324', '10101.595', '46.658', '10102.596', '45.991', '10103.596', '46.436', '10104.596', '46.658', '10105.596', '46.361', '10106.596', '46.473', '10107.597', '46.176', '10108.597', '46.250', '10109.598', '46.213', '10110.598', '46.621', '10111.597', '46.806', '10112.597', '46.139', '10113.598', '46.065', '10114.598', '46.399', '10115.598', '46.473', '10116.599', '46.176', '10117.600', '46.028', '10118.600', '46.473', '10119.601', '46.361', '10120.601', '46.287', '10121.601', '46.102', '']\n",
      "[10044.577    21.172 10045.576    20.793 10046.577    20.641 10047.578\n",
      "    20.945 10048.578    22.309 10049.578    64.317 10050.578    62.15\n",
      " 10051.579    58.326 10052.579    55.858 10053.579    53.609 10054.581\n",
      "    51.542 10055.581    50.323 10056.582    49.176 10057.582    48.473\n",
      " 10058.582    47.732 10059.581    47.251 10060.582    46.695 10061.583\n",
      "    47.51  10062.583    47.51  10063.583    47.103 10064.583    47.029\n",
      " 10065.584    47.066 10066.585    46.843 10067.585    46.88  10068.585\n",
      "    46.361 10069.585    46.917 10070.585    47.251 10071.585    46.436\n",
      " 10072.586    46.695 10073.586    46.621 10074.587    47.066 10075.588\n",
      "    46.917 10076.587    46.436 10077.587    46.917 10078.587    46.769\n",
      " 10079.588    46.917 10080.588    46.547 10081.589    46.806 10082.59\n",
      "    46.473 10083.591    46.473 10084.592    46.436 10085.592    46.361\n",
      " 10086.592    46.51  10087.592    46.139 10088.592    46.621 10089.593\n",
      "    46.176 10090.593    46.287 10091.593    46.213 10092.593    45.916\n",
      " 10093.592    46.102 10094.592    46.473 10095.592    46.139 10096.592\n",
      "    46.88  10097.592    46.436 10098.593    46.361 10099.594    45.954\n",
      " 10100.594    46.324 10101.595    46.658 10102.596    45.991 10103.596\n",
      "    46.436 10104.596    46.658 10105.596    46.361 10106.596    46.473\n",
      " 10107.597    46.176 10108.597    46.25  10109.598    46.213 10110.598\n",
      "    46.621 10111.597    46.806 10112.597    46.139 10113.598    46.065\n",
      " 10114.598    46.399 10115.598    46.473 10116.599    46.176 10117.6\n",
      "    46.028 10118.6      46.473 10119.601    46.361 10120.601    46.287\n",
      " 10121.601    46.102]\n",
      "[10044.577 10045.576 10046.577 10047.578 10048.578 10049.578 10050.578\n",
      " 10051.579 10052.579 10053.579 10054.581 10055.581 10056.582 10057.582\n",
      " 10058.582 10059.581 10060.582 10061.583 10062.583 10063.583 10064.583\n",
      " 10065.584 10066.585 10067.585 10068.585 10069.585 10070.585 10071.585\n",
      " 10072.586 10073.586 10074.587 10075.588 10076.587 10077.587 10078.587\n",
      " 10079.588 10080.588 10081.589 10082.59  10083.591 10084.592 10085.592\n",
      " 10086.592 10087.592 10088.592 10089.593 10090.593 10091.593 10092.593\n",
      " 10093.592 10094.592 10095.592 10096.592 10097.592 10098.593 10099.594\n",
      " 10100.594 10101.595 10102.596 10103.596 10104.596 10105.596 10106.596\n",
      " 10107.597 10108.597 10109.598 10110.598 10111.597 10112.597 10113.598\n",
      " 10114.598 10115.598 10116.599 10117.6   10118.6   10119.601 10120.601\n",
      " 10121.601]\n",
      "[21.172 20.793 20.641 20.945 22.309 64.317 62.15  58.326 55.858 53.609\n",
      " 51.542 50.323 49.176 48.473 47.732 47.251 46.695 47.51  47.51  47.103\n",
      " 47.029 47.066 46.843 46.88  46.361 46.917 47.251 46.436 46.695 46.621\n",
      " 47.066 46.917 46.436 46.917 46.769 46.917 46.547 46.806 46.473 46.473\n",
      " 46.436 46.361 46.51  46.139 46.621 46.176 46.287 46.213 45.916 46.102\n",
      " 46.473 46.139 46.88  46.436 46.361 45.954 46.324 46.658 45.991 46.436\n",
      " 46.658 46.361 46.473 46.176 46.25  46.213 46.621 46.806 46.139 46.065\n",
      " 46.399 46.473 46.176 46.028 46.473 46.361 46.287 46.102]\n"
     ]
    }
   ],
   "source": [
    "import numpy as np\n",
    "\n",
    "#array = np.array([10044.577,21.172,10045.576,20.793,10046.577,20.641,10047.578,20.945,10048.578,22.309,10049.578,64.317,10050.578,62.150,10051.579,58.326,10052.579,55.858,10053.579,53.609,10054.581,51.542,10055.581,50.323,10056.582,49.176,10057.582,48.473,10058.582,47.732,10059.581,47.251,10060.582,46.695,10061.583,47.510,10062.583,47.510,10063.583,47.103,10064.583,47.029,10065.584,47.066,10066.585,46.843,10067.585,46.880,10068.585,46.361,10069.585,46.917,10070.585,47.251,10071.585,46.436,10072.586,46.695,10073.586,46.621,10074.587,47.066,10075.588,46.917,10076.587,46.436,10077.587,46.917,10078.587,46.769,10079.588,46.917,10080.588,46.547,10081.589,46.806,10082.590,46.473,10083.591,46.473,10084.592,46.436,10085.592,46.361,10086.592,46.510,10087.592,46.139,10088.592,46.621,10089.593,46.176,10090.593,46.287,10091.593,46.213,10092.593,45.916,10093.592,46.102,10094.592,46.473,10095.592,46.139,10096.592,46.880,10097.592,46.436,10098.593,46.361,10099.594,45.954,10100.594,46.324,10101.595,46.658,10102.596,45.991,10103.596,46.436,10104.596,46.658,10105.596,46.361,10106.596,46.473,10107.597,46.176,10108.597,46.250,10109.598,46.213,10110.598,46.621,10111.597,46.806,10112.597,46.139,10113.598,46.065,10114.598,46.399,10115.598,46.473,10116.599,46.176,10117.600,46.028,10118.600,46.473,10119.601,46.361,10120.601,46.287,10121.601,46.102])\n",
    "with open (r'C:\\Users\\patrick\\Documents\\uni\\Praktikum-A1\\31\\Measurements\\kalorimeter\\mix.txt','r') as myfile:\n",
    "    data=myfile.read().replace(',','.').replace('\\n',',').replace('\t',',')\n",
    "\n",
    "datarray = data.split(',')\n",
    "print(datarray)\n",
    "array = np.array([float(i) for i in datarray[:-1]])\n",
    "\n",
    "print(array)\n",
    "print(array[0::2])\n",
    "print(array[1::2])"
   ]
  },
  {
   "cell_type": "code",
   "execution_count": 1,
   "metadata": {},
   "outputs": [
    {
     "ename": "NameError",
     "evalue": "name 'array' is not defined",
     "output_type": "error",
     "traceback": [
      "\u001b[1;31m---------------------------------------------------------------------------\u001b[0m",
      "\u001b[1;31mNameError\u001b[0m                                 Traceback (most recent call last)",
      "\u001b[1;32m<ipython-input-1-f9f5edba259f>\u001b[0m in \u001b[0;36m<module>\u001b[1;34m()\u001b[0m\n\u001b[0;32m      1\u001b[0m \u001b[1;32mimport\u001b[0m \u001b[0mmatplotlib\u001b[0m\u001b[1;33m.\u001b[0m\u001b[0mpyplot\u001b[0m \u001b[1;32mas\u001b[0m \u001b[0mplt\u001b[0m\u001b[1;33m\u001b[0m\u001b[0m\n\u001b[0;32m      2\u001b[0m \u001b[1;33m\u001b[0m\u001b[0m\n\u001b[1;32m----> 3\u001b[1;33m \u001b[0mx\u001b[0m\u001b[1;33m=\u001b[0m\u001b[0marray\u001b[0m\u001b[1;33m[\u001b[0m\u001b[1;36m0\u001b[0m\u001b[1;33m:\u001b[0m\u001b[1;33m:\u001b[0m\u001b[1;36m2\u001b[0m\u001b[1;33m]\u001b[0m\u001b[1;33m-\u001b[0m\u001b[0marray\u001b[0m\u001b[1;33m[\u001b[0m\u001b[1;36m0\u001b[0m\u001b[1;33m]\u001b[0m\u001b[1;33m\u001b[0m\u001b[0m\n\u001b[0m\u001b[0;32m      4\u001b[0m \u001b[0my\u001b[0m\u001b[1;33m=\u001b[0m\u001b[0marray\u001b[0m\u001b[1;33m[\u001b[0m\u001b[1;36m1\u001b[0m\u001b[1;33m:\u001b[0m\u001b[1;33m:\u001b[0m\u001b[1;36m2\u001b[0m\u001b[1;33m]\u001b[0m\u001b[1;33m\u001b[0m\u001b[0m\n\u001b[0;32m      5\u001b[0m \u001b[1;33m\u001b[0m\u001b[0m\n",
      "\u001b[1;31mNameError\u001b[0m: name 'array' is not defined"
     ]
    }
   ],
   "source": [
    "import matplotlib.pyplot as plt\n",
    "\n",
    "x=array[0::2]-array[0]\n",
    "y=array[1::2]\n",
    "\n",
    "plt.plot(x,y)\n",
    "plt.grid()\n",
    "plt.show()"
   ]
  },
  {
   "cell_type": "code",
   "execution_count": null,
   "metadata": {
    "collapsed": true
   },
   "outputs": [],
   "source": [
    "with open ('/home/a/Documents/uni/AP1/git/Praktikum-A1/31/Measurements/kalorimeter/hotwater.txt','r') as myfile:\n",
    "    data=myfile.read().replace(',','.').replace('\\n',',').replace('\t',',')\n",
    "print(data)\n"
   ]
  },
  {
   "cell_type": "code",
   "execution_count": 7,
   "metadata": {},
   "outputs": [
    {
     "name": "stdout",
     "output_type": "stream",
     "text": [
      "[ 9993.969  9994.969  9995.97   9996.971  9997.972  9998.972  9999.972\n",
      " 10000.973 10001.974 10002.975 10003.977 10004.978 10005.978 10006.977\n",
      " 10007.978]\n",
      "[81.957 82.214 81.884 81.664 81.957 82.067 81.26  81.847 81.187 81.444\n",
      " 81.223 80.527 80.857 80.16  80.38 ]\n"
     ]
    }
   ],
   "source": [
    "import numpy as np\n",
    "hotwater = np.array([9993.969,81.957,9994.969,82.214,9995.970,81.884,9996.971,81.664,9997.972,81.957,9998.972,82.067,9999.972,81.260,10000.973,81.847,10001.974,81.187,10002.975,81.444,10003.977,81.223,10004.978,80.527,10005.978,80.857,10006.977,80.160,10007.978,80.380])\n",
    "print(hotwater[0::2])\n",
    "print(hotwater[1::2])"
   ]
  },
  {
   "cell_type": "code",
   "execution_count": 6,
   "metadata": {},
   "outputs": [
    {
     "ename": "NameError",
     "evalue": "name 'hotwater' is not defined",
     "output_type": "error",
     "traceback": [
      "\u001b[1;31m---------------------------------------------------------------------------\u001b[0m",
      "\u001b[1;31mNameError\u001b[0m                                 Traceback (most recent call last)",
      "\u001b[1;32m<ipython-input-6-91fd2356ea24>\u001b[0m in \u001b[0;36m<module>\u001b[1;34m()\u001b[0m\n\u001b[0;32m      1\u001b[0m \u001b[1;32mimport\u001b[0m \u001b[0mmatplotlib\u001b[0m\u001b[1;33m.\u001b[0m\u001b[0mpyplot\u001b[0m \u001b[1;32mas\u001b[0m \u001b[0mplt\u001b[0m\u001b[1;33m\u001b[0m\u001b[0m\n\u001b[0;32m      2\u001b[0m \u001b[1;33m\u001b[0m\u001b[0m\n\u001b[1;32m----> 3\u001b[1;33m \u001b[0mx\u001b[0m\u001b[1;33m=\u001b[0m\u001b[0mhotwater\u001b[0m\u001b[1;33m[\u001b[0m\u001b[1;36m0\u001b[0m\u001b[1;33m:\u001b[0m\u001b[1;33m:\u001b[0m\u001b[1;36m2\u001b[0m\u001b[1;33m]\u001b[0m\u001b[1;33m-\u001b[0m\u001b[0mhotwater\u001b[0m\u001b[1;33m[\u001b[0m\u001b[1;36m0\u001b[0m\u001b[1;33m]\u001b[0m\u001b[1;33m\u001b[0m\u001b[0m\n\u001b[0m\u001b[0;32m      4\u001b[0m \u001b[0my\u001b[0m\u001b[1;33m=\u001b[0m\u001b[0mhotwater\u001b[0m\u001b[1;33m[\u001b[0m\u001b[1;36m1\u001b[0m\u001b[1;33m:\u001b[0m\u001b[1;33m:\u001b[0m\u001b[1;36m2\u001b[0m\u001b[1;33m]\u001b[0m\u001b[1;33m\u001b[0m\u001b[0m\n\u001b[0;32m      5\u001b[0m \u001b[1;33m\u001b[0m\u001b[0m\n",
      "\u001b[1;31mNameError\u001b[0m: name 'hotwater' is not defined"
     ]
    }
   ],
   "source": [
    "import matplotlib.pyplot as plt\n",
    "\n",
    "x=hotwater[0::2]-hotwater[0]\n",
    "y=hotwater[1::2]\n",
    "\n",
    "plt.plot(x,y)\n",
    "plt.grid()\n",
    "plt.show()"
   ]
  },
  {
   "cell_type": "code",
   "execution_count": null,
   "metadata": {
    "collapsed": true
   },
   "outputs": [],
   "source": [
    "with open ('/home/a/Documents/uni/AP1/git/Praktikum-A1/31/Measurements/kalorimeter/icewater','r') as myfile:\n",
    "    data=myfile.read().replace(',','.').replace('\\n',',').replace('\t',',')\n",
    "print(data)"
   ]
  },
  {
   "cell_type": "code",
   "execution_count": null,
   "metadata": {
    "collapsed": true
   },
   "outputs": [],
   "source": [
    "import numpy as np\n",
    "icewater = np.array([9850.794,0.983,9851.793,1.787,9852.794,1.634,9853.794,1.863,9854.794,2.284,9855.794,2.093,9856.794,-0.975,9857.794,0.715,9858.795,1.902,9859.795,1.787,9860.795,1.174,9861.795,1.251,9862.796,1.251,9863.797,1.557,9864.798,1.327,9865.798,1.251])\n",
    "print(icewater[0::2])\n",
    "print(icewater[1::2])"
   ]
  },
  {
   "cell_type": "code",
   "execution_count": null,
   "metadata": {
    "collapsed": true
   },
   "outputs": [],
   "source": [
    "import matplotlib.pyplot as plt\n",
    "\n",
    "x=icewater[0::2]-icewater[0]\n",
    "y=icewater[1::2]\n",
    "\n",
    "plt.plot(x,y)\n",
    "plt.grid()\n",
    "\n",
    "x=array[0::2]-array[0]\n",
    "y=array[1::2]\n",
    "\n",
    "plt.plot(x,y)\n",
    "\n",
    "x=hotwater[0::2]-hotwater[0]\n",
    "y=hotwater[1::2]\n",
    "\n",
    "plt.plot(x,y)\n",
    "\n",
    "plt.show()"
   ]
  },
  {
   "cell_type": "code",
   "execution_count": 83,
   "metadata": {},
   "outputs": [
    {
     "data": {
      "image/png": "[encoded data removed]",
      "text/plain": [
       "<matplotlib.figure.Figure at 0x283ab05beb8>"
      ]
     },
     "metadata": {},
     "output_type": "display_data"
    },
    {
     "name": "stdout",
     "output_type": "stream",
     "text": [
      "10.138517810396394\n",
      "-5.2406143562263345\n"
     ]
    }
   ],
   "source": [
    "import matplotlib.pyplot as plt\n",
    "from scipy.optimize import curve_fit\n",
    "import numpy as np\n",
    "\n",
    "def fitfunc(t,y_0,y_1,k):\n",
    "    return y_0+y_1*np.exp(-k*t)\n",
    "\n",
    "t_in=array[10::2]-array[10]\n",
    "T=array[11::2]\n",
    "\n",
    "popt,pvoc=curve_fit(fitfunc,t_in[:12],T[:12])#,method='dogbox')#,rcond=-1)\n",
    "y_0,y_1,k=popt\n",
    "T_fit=fitfunc(np.linspace(-3.5,12,25),y_0,y_1,k)\n",
    "x=np.linspace(-15,75,250)\n",
    "\n",
    "a_m,b_m,c_m=np.polyfit(t_in[:12],T[:12],2)\n",
    "x_polyfit=np.linspace(-4,12,25)\n",
    "T_polyfit=a_m*(x_polyfit**2)+b_m*x_polyfit+c_m\n",
    "\n",
    "a_l,b_l=np.polyfit(t_in[13:],T[13:],1)\n",
    "l_fit=a_l*x+b_l\n",
    "\n",
    "t_in2=hotwater[0::2]-hotwater[0]\n",
    "T2=hotwater[1::2]\n",
    "t_in2_=t_in2-t_in2[-1]-10\n",
    "\n",
    "a_h,b_h=np.polyfit(t_in2_,T2,1)\n",
    "h_fit=a_h*x+b_h\n",
    "\n",
    "a_m1,b_m1=np.polyfit(t_in[:4],T[:4],1)\n",
    "x_m1=np.linspace(-5.5,5,25)\n",
    "T_m1=a_m1*x_m1+b_m1\n",
    "\n",
    "a_m2,b_m2=np.polyfit(t_in[5:10],T[5:10],1)\n",
    "x_m2=np.linspace(5,10,25)\n",
    "T_m2=a_m2*x_m2+b_m2\n",
    "\n",
    "\n",
    "#plt.plot(np.linspace(-3.5,12,25),T_fit)\n",
    "plt.plot(x,l_fit)\n",
    "#plt.plot(x_polyfit,T_polyfit)\n",
    "plt.plot(t_in,T,'x')\n",
    "plt.plot(x_m1,T_m1)\n",
    "plt.plot(x_m2,T_m2)\n",
    "plt.plot(x,h_fit)\n",
    "plt.plot(t_in2_,T2,'x')\n",
    "plt.grid()\n",
    "plt.ylabel('Temperatur')\n",
    "plt.xlabel('Zeit')\n",
    "plt.savefig(fname='Graph_Mix_Kali.png',dpi=300)\n",
    "\n",
    "plt.show()\n",
    "\n",
    "#print((b_m2-b_l)/(a_l-a_m2))\n",
    "t_1=t_in[5]\n",
    "t_2=(b_m2-b_l)/(a_l-a_m2)\n",
    "T_m2int=(a_m2/2)*(t_2**2-t_1**2)+b_m2*(t_2-t_1)\n",
    "T_lint=(a_l/2)*(t_2**2-t_1**2)+b_l*(t_2-t_1)\n",
    "print(T_m2int-T_lint)\n",
    "#print(T_lint)\n",
    "#print(a_l,b_l,a_m2,b_m2)\n",
    "#print(T_m2[0],T_m2[24])\n",
    "#print(t_in[4])\n",
    "#print(T_m2[10])\n",
    "#print(T_m2[5])\n",
    "#print(T_m2[5:24])\n",
    "#print(l_fit[5:10])\n",
    "t_2=(b_m1-b_h)/(a_h-a_m1)\n",
    "print(t_2)\n",
    "\n"
   ]
  },
  {
   "cell_type": "code",
   "execution_count": null,
   "metadata": {
    "collapsed": true
   },
   "outputs": [],
   "source": [
    "\n",
    "plt.plot(t_in,np.log(T-min(T)),'-o')#T_fit[-1:]))\n",
    "plt.grid()\n",
    "plt.show()"
   ]
  },
  {
   "cell_type": "code",
   "execution_count": null,
   "metadata": {
    "collapsed": true
   },
   "outputs": [],
   "source": [
    "print(T_fit[-1:])"
   ]
  },
  {
   "cell_type": "code",
   "execution_count": null,
   "metadata": {
    "collapsed": true
   },
   "outputs": [],
   "source": []
  }
 ],
 "metadata": {
  "kernelspec": {
   "display_name": "Python 3",
   "language": "python",
   "name": "python3"
  },
  "language_info": {
   "codemirror_mode": {
    "name": "ipython",
    "version": 3
   },
   "file_extension": ".py",
   "mimetype": "text/x-python",
   "name": "python",
   "nbconvert_exporter": "python",
   "pygments_lexer": "ipython3",
   "version": "3.6.3"
  }
 },
 "nbformat": 4,
 "nbformat_minor": 2
}
