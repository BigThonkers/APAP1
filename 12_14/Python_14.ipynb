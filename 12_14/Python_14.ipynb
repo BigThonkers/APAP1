{
 "cells": [
  {
   "cell_type": "code",
   "execution_count": 2,
   "metadata": {},
   "outputs": [],
   "source": [
    "import pandas as pd\n",
    "from uncertainties import unumpy as unp\n",
    "from uncertainties import ufloat\n",
    "import numpy as np\n",
    "import matplotlib.pyplot as plt\n",
    "import THONKtools as THONK"
   ]
  },
  {
   "cell_type": "code",
   "execution_count": 3,
   "metadata": {},
   "outputs": [],
   "source": [
    "data=pd.read_csv('measurements',delimiter='\\t',index_col=None)"
   ]
  },
  {
   "cell_type": "code",
   "execution_count": 4,
   "metadata": {},
   "outputs": [
    {
     "data": {
      "text/html": [
       "<div>\n",
       "<style scoped>\n",
       "    .dataframe tbody tr th:only-of-type {\n",
       "        vertical-align: middle;\n",
       "    }\n",
       "\n",
       "    .dataframe tbody tr th {\n",
       "        vertical-align: top;\n",
       "    }\n",
       "\n",
       "    .dataframe thead th {\n",
       "        text-align: right;\n",
       "    }\n",
       "</style>\n",
       "<table border=\"1\" class=\"dataframe\">\n",
       "  <thead>\n",
       "    <tr style=\"text-align: right;\">\n",
       "      <th></th>\n",
       "      <th>Messung</th>\n",
       "      <th>Position</th>\n",
       "      <th>Streuung_links</th>\n",
       "      <th>Streuung_rechts</th>\n",
       "    </tr>\n",
       "  </thead>\n",
       "  <tbody>\n",
       "    <tr>\n",
       "      <th>0</th>\n",
       "      <td>b0</td>\n",
       "      <td>110.35</td>\n",
       "      <td>0.0</td>\n",
       "      <td>0.0</td>\n",
       "    </tr>\n",
       "    <tr>\n",
       "      <th>1</th>\n",
       "      <td>b1</td>\n",
       "      <td>109.00</td>\n",
       "      <td>85.5</td>\n",
       "      <td>86.5</td>\n",
       "    </tr>\n",
       "    <tr>\n",
       "      <th>2</th>\n",
       "      <td>b2</td>\n",
       "      <td>109.00</td>\n",
       "      <td>87.2</td>\n",
       "      <td>88.4</td>\n",
       "    </tr>\n",
       "    <tr>\n",
       "      <th>3</th>\n",
       "      <td>b3</td>\n",
       "      <td>108.00</td>\n",
       "      <td>64.5</td>\n",
       "      <td>65.5</td>\n",
       "    </tr>\n",
       "    <tr>\n",
       "      <th>4</th>\n",
       "      <td>b4</td>\n",
       "      <td>108.50</td>\n",
       "      <td>76.6</td>\n",
       "      <td>78.2</td>\n",
       "    </tr>\n",
       "    <tr>\n",
       "      <th>5</th>\n",
       "      <td>b5</td>\n",
       "      <td>107.50</td>\n",
       "      <td>48.5</td>\n",
       "      <td>50.4</td>\n",
       "    </tr>\n",
       "    <tr>\n",
       "      <th>6</th>\n",
       "      <td>d6</td>\n",
       "      <td>111.50</td>\n",
       "      <td>64.0</td>\n",
       "      <td>65.0</td>\n",
       "    </tr>\n",
       "    <tr>\n",
       "      <th>7</th>\n",
       "      <td>d7</td>\n",
       "      <td>111.00</td>\n",
       "      <td>75.2</td>\n",
       "      <td>76.2</td>\n",
       "    </tr>\n",
       "    <tr>\n",
       "      <th>8</th>\n",
       "      <td>d8</td>\n",
       "      <td>112.00</td>\n",
       "      <td>54.4</td>\n",
       "      <td>55.7</td>\n",
       "    </tr>\n",
       "    <tr>\n",
       "      <th>9</th>\n",
       "      <td>d9</td>\n",
       "      <td>111.75</td>\n",
       "      <td>49.6</td>\n",
       "      <td>50.7</td>\n",
       "    </tr>\n",
       "    <tr>\n",
       "      <th>10</th>\n",
       "      <td>d10</td>\n",
       "      <td>111.25</td>\n",
       "      <td>69.4</td>\n",
       "      <td>70.5</td>\n",
       "    </tr>\n",
       "    <tr>\n",
       "      <th>11</th>\n",
       "      <td>b11</td>\n",
       "      <td>109.25</td>\n",
       "      <td>69.4</td>\n",
       "      <td>71.1</td>\n",
       "    </tr>\n",
       "  </tbody>\n",
       "</table>\n",
       "</div>"
      ],
      "text/plain": [
       "   Messung  Position  Streuung_links  Streuung_rechts\n",
       "0       b0    110.35             0.0              0.0\n",
       "1       b1    109.00            85.5             86.5\n",
       "2       b2    109.00            87.2             88.4\n",
       "3       b3    108.00            64.5             65.5\n",
       "4       b4    108.50            76.6             78.2\n",
       "5       b5    107.50            48.5             50.4\n",
       "6       d6    111.50            64.0             65.0\n",
       "7       d7    111.00            75.2             76.2\n",
       "8       d8    112.00            54.4             55.7\n",
       "9       d9    111.75            49.6             50.7\n",
       "10     d10    111.25            69.4             70.5\n",
       "11     b11    109.25            69.4             71.1"
      ]
     },
     "execution_count": 4,
     "metadata": {},
     "output_type": "execute_result"
    }
   ],
   "source": [
    "data"
   ]
  },
  {
   "cell_type": "code",
   "execution_count": 33,
   "metadata": {
    "scrolled": false
   },
   "outputs": [
    {
     "data": {
      "image/png": "[encoded data removed]",
      "text/plain": [
       "<Figure size 720x540 with 1 Axes>"
      ]
     },
     "metadata": {},
     "output_type": "display_data"
    }
   ],
   "source": [
    "d=ufloat(63.8,0.5)\n",
    "u=0.2\n",
    "p=(unp.uarray(data.Streuung_links,u)+unp.uarray(data.Streuung_rechts,u))/2\n",
    "\n",
    "def T(B,s):\n",
    "    return (B)/s\n",
    "\n",
    "fig=plt.figure()\n",
    "ax = fig.add_subplot(1, 1, 1)\n",
    "\n",
    "ax.minorticks_on()\n",
    "\n",
    "# Customize the major grid\n",
    "ax.grid(which='major', linestyle='-', linewidth='1', color='black')\n",
    "# Customize the minor grid\n",
    "ax.grid(which='minor', linestyle=':', color='blue')\n",
    "\n",
    "pos=unp.uarray(data.Position,u)\n",
    "th=(T(p,d/2))\n",
    "\n",
    "plt.ylim([-0.1,1])\n",
    "\n",
    "xf=np.linspace(106.5,113,100)\n",
    "\n",
    "ax.errorbar(x=data.Position[2::],y=unp.nominal_values(unp.cos((th[2::]/2))),fmt='x'\n",
    "             ,xerr=unp.std_devs(pos[2::]),yerr=unp.std_devs(unp.cos(th[2::]/2)))\n",
    "\n",
    "a,b=np.polyfit(data.Position[2:6],np.cos(unp.nominal_values(th[2:6]/2)),deg=1)\n",
    "fit=a*xf+b\n",
    "ax.plot(xf,fit)\n",
    "a1=a\n",
    "er1=THONK.Db(data.Position[2:6],np.cos(unp.nominal_values(th[2:6]/2)))\n",
    "\n",
    "a,b=np.polyfit(data.Position[6:11],np.cos(unp.nominal_values(th[6:11]/2)),deg=1)\n",
    "fit=a*xf+b\n",
    "ax.plot(xf,fit)\n",
    "a2=a\n",
    "er2=THONK.Db(data.Position[6:11],np.cos(unp.nominal_values(th[6:11]/2)))\n",
    "\n",
    "fig_size=plt.rcParams[\"figure.figsize\"]\n",
    "fig_size[0]=10\n",
    "fig_size[1]=7.5\n",
    "plt.rcParams[\"figure.figsize\"]=fig_size\n",
    "plt.xlabel(r'$b$')\n",
    "plt.ylabel(r'$\\cos\\left(\\frac{\\theta}{2}\\right)$')\n",
    "plt.savefig(fname='graph.png',dpi=300)\n",
    "\n",
    "plt.show()"
   ]
  },
  {
   "cell_type": "code",
   "execution_count": 6,
   "metadata": {},
   "outputs": [
    {
     "name": "stdout",
     "output_type": "stream",
     "text": [
      "[110.35+/-0.2 109.0+/-0.2 109.0+/-0.2 108.0+/-0.2 108.5+/-0.2 107.5+/-0.2\n",
      " 111.5+/-0.2 111.0+/-0.2 112.0+/-0.2 111.75+/-0.2 111.25+/-0.2\n",
      " 109.25+/-0.2]\n",
      "[0.22099438211470765+/-0.010527140386664493\n",
      " 0.19339448638095394+/-0.010802642673057753\n",
      " 0.5243806299888338+/-0.007055716708877509\n",
      " 0.3500553415766737+/-0.009144864386086244\n",
      " 0.7143661951790359+/-0.004524792077420773\n",
      " 0.5310375303302504+/-0.006971314680397545\n",
      " 0.37488799053200134+/-0.008862140883512922\n",
      " 0.6502729457953712+/-0.005406186671126495\n",
      " 0.7066456020116514+/-0.004632400222214907\n",
      " 0.456805983472631+/-0.007893789980678348\n",
      " 0.4526180348841045+/-0.007944586137150758]\n"
     ]
    }
   ],
   "source": [
    "print(pos)\n",
    "print((unp.cos(th[1::]/2)))"
   ]
  },
  {
   "cell_type": "code",
   "execution_count": 7,
   "metadata": {},
   "outputs": [
    {
     "name": "stdout",
     "output_type": "stream",
     "text": [
      "[0.0+/-0.004433271355401553 2.6959247648902824+/-0.021588043403899825\n",
      " 2.7523510971786838+/-0.022021018401873697\n",
      " 2.0376175548589344+/-0.01657275283937418\n",
      " 2.4263322884012544+/-0.01952510103994434\n",
      " 1.5501567398119125+/-0.012932188411475955\n",
      " 2.021943573667712+/-0.016454425366851034\n",
      " 2.3730407523510975+/-0.019118599032663164\n",
      " 1.725705329153605+/-0.014232412688219231\n",
      " 1.572100313479624+/-0.013093872107429733\n",
      " 2.192789968652038+/-0.017747501282285794\n",
      " 2.2021943573667713+/-0.017818876413117215]\n"
     ]
    }
   ],
   "source": [
    "print(th)"
   ]
  },
  {
   "cell_type": "code",
   "execution_count": 8,
   "metadata": {},
   "outputs": [
    {
     "name": "stdout",
     "output_type": "stream",
     "text": [
      "-0.3474480829612865 +/- 563996.2297032317\n",
      "0.3202438116262999 +/- 713924.6118397654\n"
     ]
    }
   ],
   "source": [
    "print(a1,'+/-',er1)\n",
    "print(a2,'+/-',er2)"
   ]
  },
  {
   "cell_type": "code",
   "execution_count": 60,
   "metadata": {},
   "outputs": [
    {
     "name": "stdout",
     "output_type": "stream",
     "text": [
      "2.6606278384874638\n",
      "2.905120839796032\n"
     ]
    }
   ],
   "source": [
    "print(-a1**(-1)-0.435/2)\n",
    "print(a2**(-1)-0.435/2)"
   ]
  },
  {
   "cell_type": "code",
   "execution_count": 81,
   "metadata": {},
   "outputs": [
    {
     "name": "stdout",
     "output_type": "stream",
     "text": [
      "563996.2297032317\n"
     ]
    }
   ],
   "source": [
    "sl=np.array(data.Streuung_links)\n",
    "sr=np.array(data.Streuung_rechts)\n",
    "pos=(sl+sr)/2\n",
    "p=(unp.uarray(sl,u)+unp.uarray(sr,u))/2\n",
    "\n",
    "post=unp.uarray(np.array(data.Position),u)\n",
    "th=(T(p,d/2))\n",
    "\n",
    "er1=THONK.Da(unp.nominal_values(post[2:6]),np.cos(unp.nominal_values(th[2:6]/2)))\n",
    "print(er1)"
   ]
  },
  {
   "cell_type": "code",
   "execution_count": 31,
   "metadata": {},
   "outputs": [
    {
     "name": "stdout",
     "output_type": "stream",
     "text": [
      "[0.0+/-0.14142135623730953 86.0+/-0.14142135623730953\n",
      " 87.80000000000001+/-0.14142135623730953 65.0+/-0.14142135623730953\n",
      " 77.4+/-0.14142135623730953 49.45+/-0.14142135623730953\n",
      " 64.5+/-0.14142135623730953 75.7+/-0.14142135623730953\n",
      " 55.05+/-0.14142135623730953 50.150000000000006+/-0.14142135623730953\n",
      " 69.95+/-0.14142135623730953 70.25+/-0.14142135623730953]\n"
     ]
    }
   ],
   "source": [
    "print(p)"
   ]
  },
  {
   "cell_type": "code",
   "execution_count": 32,
   "metadata": {},
   "outputs": [
    {
     "name": "stdout",
     "output_type": "stream",
     "text": [
      "[0.0+/-0.004433271355401553 2.6959247648902824+/-0.021588043403899825\n",
      " 2.7523510971786838+/-0.022021018401873697\n",
      " 2.0376175548589344+/-0.01657275283937418\n",
      " 2.4263322884012544+/-0.01952510103994434\n",
      " 1.5501567398119125+/-0.012932188411475955\n",
      " 2.021943573667712+/-0.016454425366851034\n",
      " 2.3730407523510975+/-0.019118599032663164\n",
      " 1.725705329153605+/-0.014232412688219231\n",
      " 1.572100313479624+/-0.013093872107429733\n",
      " 2.192789968652038+/-0.017747501282285794\n",
      " 2.2021943573667713+/-0.017818876413117215]\n"
     ]
    }
   ],
   "source": [
    "print(th)"
   ]
  },
  {
   "cell_type": "code",
   "execution_count": 35,
   "metadata": {},
   "outputs": [
    {
     "data": {
      "text/plain": [
       "2.7828743391417783"
      ]
     },
     "execution_count": 35,
     "metadata": {},
     "output_type": "execute_result"
    }
   ],
   "source": [
    "THONK.mean([-a1**(-1)-0.435/2,a2**(-1)-0.435/2])"
   ]
  },
  {
   "cell_type": "code",
   "execution_count": null,
   "metadata": {},
   "outputs": [],
   "source": []
  }
 ],
 "metadata": {
  "kernelspec": {
   "display_name": "Python 3",
   "language": "python",
   "name": "python3"
  },
  "language_info": {
   "codemirror_mode": {
    "name": "ipython",
    "version": 3
   },
   "file_extension": ".py",
   "mimetype": "text/x-python",
   "name": "python",
   "nbconvert_exporter": "python",
   "pygments_lexer": "ipython3",
   "version": "3.6.5"
  }
 },
 "nbformat": 4,
 "nbformat_minor": 2
}
