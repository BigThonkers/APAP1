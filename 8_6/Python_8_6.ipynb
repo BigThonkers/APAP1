{
 "cells": [
  {
   "cell_type": "code",
   "execution_count": 1,
   "metadata": {
    "collapsed": true
   },
   "outputs": [],
   "source": [
    "from uncertainties import ufloat\n",
    "from uncertainties import unumpy as unp\n",
    "import numpy as np\n",
    "import matplotlib.pyplot as plt\n",
    "from scipy.optimize import curve_fit\n",
    "import pandas as pd"
   ]
  },
  {
   "cell_type": "code",
   "execution_count": 42,
   "metadata": {},
   "outputs": [
    {
     "data": {
      "text/html": [
       "<div>\n",
       "<style>\n",
       "    .dataframe thead tr:only-child th {\n",
       "        text-align: right;\n",
       "    }\n",
       "\n",
       "    .dataframe thead th {\n",
       "        text-align: left;\n",
       "    }\n",
       "\n",
       "    .dataframe tbody tr th {\n",
       "        vertical-align: top;\n",
       "    }\n",
       "</style>\n",
       "<table border=\"1\" class=\"dataframe\">\n",
       "  <thead>\n",
       "    <tr style=\"text-align: right;\">\n",
       "      <th></th>\n",
       "      <th>Name</th>\n",
       "      <th>Masse</th>\n",
       "    </tr>\n",
       "  </thead>\n",
       "  <tbody>\n",
       "    <tr>\n",
       "      <th>0</th>\n",
       "      <td>y050</td>\n",
       "      <td>49.98</td>\n",
       "    </tr>\n",
       "    <tr>\n",
       "      <th>1</th>\n",
       "      <td>y100</td>\n",
       "      <td>100.01</td>\n",
       "    </tr>\n",
       "    <tr>\n",
       "      <th>2</th>\n",
       "      <td>y200</td>\n",
       "      <td>199.56</td>\n",
       "    </tr>\n",
       "    <tr>\n",
       "      <th>3</th>\n",
       "      <td>s050</td>\n",
       "      <td>50.02</td>\n",
       "    </tr>\n",
       "    <tr>\n",
       "      <th>4</th>\n",
       "      <td>s100</td>\n",
       "      <td>100.00</td>\n",
       "    </tr>\n",
       "    <tr>\n",
       "      <th>5</th>\n",
       "      <td>s200</td>\n",
       "      <td>199.90</td>\n",
       "    </tr>\n",
       "    <tr>\n",
       "      <th>6</th>\n",
       "      <td>p050</td>\n",
       "      <td>49.96</td>\n",
       "    </tr>\n",
       "    <tr>\n",
       "      <th>7</th>\n",
       "      <td>p100</td>\n",
       "      <td>99.96</td>\n",
       "    </tr>\n",
       "    <tr>\n",
       "      <th>8</th>\n",
       "      <td>p200</td>\n",
       "      <td>199.71</td>\n",
       "    </tr>\n",
       "  </tbody>\n",
       "</table>\n",
       "</div>"
      ],
      "text/plain": [
       "   Name   Masse\n",
       "0  y050   49.98\n",
       "1  y100  100.01\n",
       "2  y200  199.56\n",
       "3  s050   50.02\n",
       "4  s100  100.00\n",
       "5  s200  199.90\n",
       "6  p050   49.96\n",
       "7  p100   99.96\n",
       "8  p200  199.71"
      ]
     },
     "execution_count": 42,
     "metadata": {},
     "output_type": "execute_result"
    }
   ],
   "source": [
    "um=0.05/1000\n",
    "ub=0.05/100\n",
    "us=0.03/1000\n",
    "ud=0.005/1000\n",
    "weights=pd.read_csv('weights',decimal='.',delimiter='\\t')\n",
    "warr=unp.uarray(weights.Masse,um)\n",
    "weights"
   ]
  },
  {
   "cell_type": "code",
   "execution_count": 67,
   "metadata": {},
   "outputs": [
    {
     "data": {
      "text/html": [
       "<div>\n",
       "<style>\n",
       "    .dataframe thead tr:only-child th {\n",
       "        text-align: right;\n",
       "    }\n",
       "\n",
       "    .dataframe thead th {\n",
       "        text-align: left;\n",
       "    }\n",
       "\n",
       "    .dataframe tbody tr th {\n",
       "        vertical-align: top;\n",
       "    }\n",
       "</style>\n",
       "<table border=\"1\" class=\"dataframe\">\n",
       "  <thead>\n",
       "    <tr style=\"text-align: right;\">\n",
       "      <th></th>\n",
       "      <th>Bieghoehe_1</th>\n",
       "      <th>Bieghoehe_2</th>\n",
       "      <th>Bieghoehe_3</th>\n",
       "      <th>Bieghoehe_4</th>\n",
       "    </tr>\n",
       "    <tr>\n",
       "      <th>Gewicht</th>\n",
       "      <th></th>\n",
       "      <th></th>\n",
       "      <th></th>\n",
       "      <th></th>\n",
       "    </tr>\n",
       "  </thead>\n",
       "  <tbody>\n",
       "    <tr>\n",
       "      <th>y100</th>\n",
       "      <td>0.11</td>\n",
       "      <td>0.12</td>\n",
       "      <td>0.10</td>\n",
       "      <td>0.12</td>\n",
       "    </tr>\n",
       "    <tr>\n",
       "      <th>y100+s100</th>\n",
       "      <td>0.24</td>\n",
       "      <td>0.23</td>\n",
       "      <td>0.23</td>\n",
       "      <td>0.23</td>\n",
       "    </tr>\n",
       "    <tr>\n",
       "      <th>y100+s100+p100</th>\n",
       "      <td>0.36</td>\n",
       "      <td>0.35</td>\n",
       "      <td>0.34</td>\n",
       "      <td>0.35</td>\n",
       "    </tr>\n",
       "    <tr>\n",
       "      <th>p200+y200</th>\n",
       "      <td>0.47</td>\n",
       "      <td>0.47</td>\n",
       "      <td>0.48</td>\n",
       "      <td>0.49</td>\n",
       "    </tr>\n",
       "    <tr>\n",
       "      <th>p100+p200+y200</th>\n",
       "      <td>0.60</td>\n",
       "      <td>0.59</td>\n",
       "      <td>0.59</td>\n",
       "      <td>0.61</td>\n",
       "    </tr>\n",
       "    <tr>\n",
       "      <th>p100+s100+p200+y200</th>\n",
       "      <td>0.71</td>\n",
       "      <td>0.72</td>\n",
       "      <td>0.72</td>\n",
       "      <td>0.73</td>\n",
       "    </tr>\n",
       "    <tr>\n",
       "      <th>p100+s100+p200+y200+y100</th>\n",
       "      <td>0.83</td>\n",
       "      <td>0.83</td>\n",
       "      <td>0.83</td>\n",
       "      <td>0.85</td>\n",
       "    </tr>\n",
       "    <tr>\n",
       "      <th>y100+s100+s200+p200+y200</th>\n",
       "      <td>0.95</td>\n",
       "      <td>0.95</td>\n",
       "      <td>0.95</td>\n",
       "      <td>0.93</td>\n",
       "    </tr>\n",
       "    <tr>\n",
       "      <th>y100+s100+s200+p200+y200+p100</th>\n",
       "      <td>1.07</td>\n",
       "      <td>1.07</td>\n",
       "      <td>1.07</td>\n",
       "      <td>1.05</td>\n",
       "    </tr>\n",
       "    <tr>\n",
       "      <th>y100+s100+s200+p200+y200+p100+y050+s050</th>\n",
       "      <td>1.19</td>\n",
       "      <td>1.19</td>\n",
       "      <td>1.18</td>\n",
       "      <td>1.17</td>\n",
       "    </tr>\n",
       "  </tbody>\n",
       "</table>\n",
       "</div>"
      ],
      "text/plain": [
       "                                         Bieghoehe_1  Bieghoehe_2  \\\n",
       "Gewicht                                                             \n",
       "y100                                            0.11         0.12   \n",
       "y100+s100                                       0.24         0.23   \n",
       "y100+s100+p100                                  0.36         0.35   \n",
       "p200+y200                                       0.47         0.47   \n",
       "p100+p200+y200                                  0.60         0.59   \n",
       "p100+s100+p200+y200                             0.71         0.72   \n",
       "p100+s100+p200+y200+y100                        0.83         0.83   \n",
       "y100+s100+s200+p200+y200                        0.95         0.95   \n",
       "y100+s100+s200+p200+y200+p100                   1.07         1.07   \n",
       "y100+s100+s200+p200+y200+p100+y050+s050         1.19         1.19   \n",
       "\n",
       "                                         Bieghoehe_3  Bieghoehe_4  \n",
       "Gewicht                                                            \n",
       "y100                                            0.10         0.12  \n",
       "y100+s100                                       0.23         0.23  \n",
       "y100+s100+p100                                  0.34         0.35  \n",
       "p200+y200                                       0.48         0.49  \n",
       "p100+p200+y200                                  0.59         0.61  \n",
       "p100+s100+p200+y200                             0.72         0.73  \n",
       "p100+s100+p200+y200+y100                        0.83         0.85  \n",
       "y100+s100+s200+p200+y200                        0.95         0.93  \n",
       "y100+s100+s200+p200+y200+p100                   1.07         1.05  \n",
       "y100+s100+s200+p200+y200+p100+y050+s050         1.18         1.17  "
      ]
     },
     "execution_count": 67,
     "metadata": {},
     "output_type": "execute_result"
    }
   ],
   "source": [
    "long=pd.read_csv('long_measurement',delimiter='\\t',index_col=0)\n",
    "long"
   ]
  },
  {
   "cell_type": "code",
   "execution_count": 27,
   "metadata": {
    "collapsed": true
   },
   "outputs": [],
   "source": [
    "weights.Name=weights.Masse"
   ]
  },
  {
   "cell_type": "code",
   "execution_count": 25,
   "metadata": {},
   "outputs": [
    {
     "data": {
      "text/plain": [
       "'y100+s100'"
      ]
     },
     "execution_count": 25,
     "metadata": {},
     "output_type": "execute_result"
    }
   ],
   "source": [
    "long.Gewicht[1]"
   ]
  },
  {
   "cell_type": "code",
   "execution_count": null,
   "metadata": {
    "collapsed": true
   },
   "outputs": [],
   "source": [
    "eval "
   ]
  },
  {
   "cell_type": "code",
   "execution_count": 46,
   "metadata": {
    "collapsed": true
   },
   "outputs": [],
   "source": [
    "y050,y100,y200,s050,s100,s200,p050,p100,p200=unp.uarray(weights.Masse/1000,um)"
   ]
  },
  {
   "cell_type": "code",
   "execution_count": 49,
   "metadata": {
    "collapsed": true
   },
   "outputs": [],
   "source": [
    "xuarr1=[y100,y100+s100,y100+s100+p100,p200+y200,p100+p200+y200,p100+s100+p200+y200,p100+s100+p200+y200+y100,y100+s100+s200+p200+y200,y100+s100+s200+p200+y200+p100,y100+s100+s200+p200+y200+p100+y050+s050]"
   ]
  },
  {
   "cell_type": "code",
   "execution_count": 50,
   "metadata": {},
   "outputs": [
    {
     "name": "stdout",
     "output_type": "stream",
     "text": [
      "[0.10001 0.20001 0.29997 0.39927 0.49923 0.59923 0.69924 0.79918 0.89914\n",
      " 0.99914]\n"
     ]
    }
   ],
   "source": [
    "print(unp.nominal_values(xuarr1))"
   ]
  },
  {
   "cell_type": "code",
   "execution_count": 52,
   "metadata": {
    "collapsed": true
   },
   "outputs": [],
   "source": [
    "yuarr1=unp.uarray(long.Bieghoehe_1/1000,ud)\n",
    "yuarr2=unp.uarray(long.Bieghoehe_2/1000,ud)\n",
    "yuarr3=unp.uarray(long.Bieghoehe_3/1000,ud)\n",
    "yuarr4=unp.uarray(long.Bieghoehe_4/1000,ud)"
   ]
  },
  {
   "cell_type": "code",
   "execution_count": 66,
   "metadata": {},
   "outputs": [
    {
     "name": "stdout",
     "output_type": "stream",
     "text": [
      "[4.85273931e-06 3.00794129e-06]\n"
     ]
    },
    {
     "data": {
      "image/png": "[encoded data removed]",
      "text/plain": [
       "<matplotlib.figure.Figure at 0x197c815cb38>"
      ]
     },
     "metadata": {},
     "output_type": "display_data"
    }
   ],
   "source": [
    "plt.plot(unp.nominal_values(xuarr1),unp.nominal_values(yuarr1),'x',label='Messreihe 1')\n",
    "plt.plot(unp.nominal_values(xuarr1),unp.nominal_values(yuarr2),'x',label='Messreihe 2')\n",
    "plt.plot(unp.nominal_values(xuarr1),unp.nominal_values(yuarr3),'x',label='Messreihe 3')\n",
    "plt.plot(unp.nominal_values(xuarr1),unp.nominal_values(yuarr4),'x',label='Messreihe 4')\n",
    "#Polynom\n",
    "def fitfunc(x,a,b):\n",
    "    return a*x+b\n",
    "\n",
    "#Fitten\n",
    "xfit=np.linspace(unp.nominal_values(xuarr1)[0],unp.nominal_values(xuarr1)[-1],100)\n",
    "popt,pcov=curve_fit(fitfunc,unp.nominal_values(xuarr1),unp.nominal_values(yuarr1))\n",
    "a,b=popt\n",
    "c,d=pcov\n",
    "fit=a*xfit+b\n",
    "\n",
    "#Ausgabe\n",
    "plt.plot(xfit,fit,'-',color='orange',label='Lineare Regression')\n",
    "print(np.sqrt(np.diag(pcov)))\n",
    "c=np.sqrt(np.diag(pcov))[0]\n",
    "d=np.sqrt(np.diag(pcov))[1]\n",
    "dfit1=(a+c)*(xfit)+(b-d)\n",
    "dfit2=(a-c)*(xfit)+(b+d)\n",
    "plt.plot(xfit,dfit1,'--',color='orange')\n",
    "plt.plot(xfit,dfit2,'--',color='orange')\n",
    "\n",
    "#plt.legend()\n",
    "fig_size=plt.rcParams[\"figure.figsize\"]\n",
    "fig_size[0]=10\n",
    "fig_size[1]=7.5\n",
    "plt.xlabel(r'$\\mathrm{Masse}\\ [\\mathrm{kg}]$',size='15')\n",
    "plt.ylabel(r'$\\mathrm{Biegh\\\"ohe}\\ [\\mathrm{m}]$',size='15')\n",
    "plt.rcParams[\"figure.figsize\"]=fig_size\n",
    "plt.grid()\n",
    "plt.show()"
   ]
  },
  {
   "cell_type": "code",
   "execution_count": null,
   "metadata": {
    "scrolled": true
   },
   "outputs": [],
   "source": [
    "al=pd.read_csv('aluminium.txt',delimiter='\\t')\n",
    "al\n",
    "al_a=pd.read_csv('aluminium_turnt.txt',delimiter='\\t')\n",
    "al_a\n",
    "br=pd.read_csv('brass.txt',delimiter='\\t')\n",
    "br\n",
    "st=pd.read_csv('steel.txt',delimiter='\\t')\n",
    "st\n",
    "al_l1=pd.read_csv('aluminium_length.txt',delimiter='\\t')\n",
    "al_l1\n",
    "al_l2=pd.read_csv('aluminium_length_.txt',delimiter='\\t')\n",
    "al_l2\n"
   ]
  },
  {
   "cell_type": "code",
   "execution_count": 74,
   "metadata": {},
   "outputs": [
    {
     "name": "stdout",
     "output_type": "stream",
     "text": [
      "[0.39946000000000004+/-7.071067811865475e-05\n",
      " 0.49942000000000003+/-8.660254037844386e-05 0.59943+/-0.0001\n",
      " 0.69943+/-0.00011180339887498949 0.74941+/-0.0001224744871391589\n",
      " 0.79943+/-0.00013228756555322952 0.84939+/-0.0001414213562373095]\n",
      "[0.59917+/-8.660254037844386e-05 0.69913+/-0.0001\n",
      " 0.79914+/-0.00011180339887498949 0.89914+/-0.0001224744871391589\n",
      " 0.94912+/-0.00013228756555322952\n",
      " 0.9991399999999999+/-0.0001414213562373095 1.0491+/-0.00015]\n"
     ]
    }
   ],
   "source": [
    "xuarr2=np.array([y200+s200,y200+s200+p100,y200+s200+p100+y100,y200+s200+p100+y100+s100,y200+s200+p100+y100+s100+y050,y200+s200+p100+y100+s100+y050+s050,y200+s200+p100+y100+s100+y050+s050+p050])\n",
    "xuarr3=np.array(xuarr2)+p200\n",
    "print(xuarr2)\n",
    "print(xuarr3)"
   ]
  },
  {
   "cell_type": "code",
   "execution_count": 75,
   "metadata": {
    "collapsed": true
   },
   "outputs": [],
   "source": [
    "len1=ufloat(0.0405,ud)\n",
    "len2=ufloat(0.0550,ud)\n",
    "len3=ufloat(0.0355,ud)"
   ]
  },
  {
   "cell_type": "code",
   "execution_count": 81,
   "metadata": {},
   "outputs": [],
   "source": [
    "yuarr5=unp.uarray(al.Bieghoehe_1/1000,ud)\n",
    "yuarr6=unp.uarray(al.Rueckwaerts_1/1000,ud)\n",
    "yuarr7=unp.uarray(al.Bieghoehe_2/1000,ud)\n",
    "yuarr8=unp.uarray(al.Rueckwaerts_2/1000,ud)\n",
    "yuarr9=unp.uarray(st.Bieghoehe_1/1000,ud)\n",
    "yuarr10=unp.uarray(st.Rueckwaerts_1/1000,ud)\n",
    "yuarr11=unp.uarray(st.Bieghoehe_2/1000,ud)\n",
    "yuarr12=unp.uarray(st.Rueckwaerts_2/1000,ud)\n",
    "yuarr13=unp.uarray(br.Bieghoehe_1/1000,ud)\n",
    "yuarr14=unp.uarray(br.Rueckwaerts_1/1000,ud)\n",
    "yuarr15=unp.uarray(br.Bieghoehe_2/1000,ud)\n",
    "yuarr16=unp.uarray(br.Rueckwaerts_2/1000,ud)"
   ]
  },
  {
   "cell_type": "code",
   "execution_count": 128,
   "metadata": {},
   "outputs": [
    {
     "data": {
      "image/png": "[encoded data removed]",
      "text/plain": [
       "<matplotlib.figure.Figure at 0x197ca2bce80>"
      ]
     },
     "metadata": {},
     "output_type": "display_data"
    }
   ],
   "source": [
    "plt.plot(unp.nominal_values(xuarr2),unp.nominal_values(yuarr5),'x',label='Alu 1')\n",
    "plt.plot(unp.nominal_values(xuarr2),unp.nominal_values(yuarr6),'+',label=r'Alu 1 $\\leftarrow$')\n",
    "plt.plot(unp.nominal_values(xuarr3),unp.nominal_values(yuarr7),'x',label='Alu 2')\n",
    "plt.plot(unp.nominal_values(xuarr3),unp.nominal_values(yuarr8),'+',label=r'Alu 2 $\\leftarrow$')\n",
    "plt.plot(unp.nominal_values(xuarr2),unp.nominal_values(yuarr9),'x',label='Stahl 1')\n",
    "plt.plot(unp.nominal_values(xuarr2),unp.nominal_values(yuarr10),'+',label=r'Stahl 1 $\\leftarrow$')\n",
    "plt.plot(unp.nominal_values(xuarr3),unp.nominal_values(yuarr11),'x',label='Stahl 2')\n",
    "plt.plot(unp.nominal_values(xuarr3),unp.nominal_values(yuarr12),'+',label=r'Stahl 2 $\\leftarrow$')\n",
    "plt.plot(unp.nominal_values(xuarr2),unp.nominal_values(yuarr13),'x',label='Messing 1')\n",
    "plt.plot(unp.nominal_values(xuarr2),unp.nominal_values(yuarr14),'+',label=r'Messing 1 $\\leftarrow$')\n",
    "plt.plot(unp.nominal_values(xuarr3),unp.nominal_values(yuarr15),'x',label='Messing 2')\n",
    "plt.plot(unp.nominal_values(xuarr3),unp.nominal_values(yuarr16),'+',label=r'Messing 2 $\\leftarrow$')\n",
    "#Polynom\n",
    "def fitfunc(x,a,b):\n",
    "    return a*x+b\n",
    "\n",
    "#Fitten\n",
    "xfit=np.linspace(unp.nominal_values(xuarr2)[0],unp.nominal_values(xuarr2)[-1],100)\n",
    "popt,pcov=curve_fit(fitfunc,unp.nominal_values(xuarr2),unp.nominal_values(yuarr5))\n",
    "a,b=popt\n",
    "fit=a*xfit+b\n",
    "\n",
    "#Ausgabe\n",
    "plt.plot(xfit,fit,'-',color='orange')#,label='Lineare Regression')\n",
    "c=np.sqrt(np.diag(pcov))[0]\n",
    "d=np.sqrt(np.diag(pcov))[1]\n",
    "dfit1=(a+c)*(xfit)+(b-d)\n",
    "dfit2=(a-c)*(xfit)+(b+d)\n",
    "plt.plot(xfit,dfit1,'--',color='orange')\n",
    "plt.plot(xfit,dfit2,'--',color='orange')\n",
    "\n",
    "def linreg(xfit,xarr,yarr,markeraus='-',markergrenz='--',color='orange',labelaus='Lineare Regression',labelgrenz=None,unumpy=False,first=0,last=-1,xnum=100,xfitrestrictl=None,xfitrestrictr=None,yfitrestrictl=None,yfitrestrictr=None):\n",
    "    import numpy as np\n",
    "    import matplotlib.pyplot as plt\n",
    "    if unumpy == True:\n",
    "        from uncertainties import unumpy as unp\n",
    "        xfit=np.linspace(unp.nominal_values(xarr)[first],unp.nominal_values(xarr)[last],xnum)\n",
    "        popt,pcov=curve_fit(fitfunc,unp.nominal_values(xarr)[xfitrestrictl:xfitrestrictr],unp.nominal_values(yarr)[yfitrestrictl:yfitrestrictr])\n",
    "    else:\n",
    "        xfit=np.linspace(xarr[first],xarr[last],xnum)\n",
    "        popt,pcov=curve_fit(fitfunc,xarr[xfitrestrict:xfitrestrictr],yarr[yfitrestrictl:yfitrestrictr])\n",
    "    a,b=popt\n",
    "    fit=a*xfit+b\n",
    "    c=np.sqrt(np.diag(pcov))[0]\n",
    "    d=np.sqrt(np.diag(pcov))[1]\n",
    "    dfit1=(a+c)*(xfit)+(b-d)\n",
    "    dfit2=(a-c)*(xfit)+(b+d)\n",
    "    plt.plot(xfit,fit,markeraus,color=color,label=labelaus)\n",
    "    plt.plot(xfit,dfit1,markergrenz,color=color,label=labelgrenz)\n",
    "    plt.plot(xfit,dfit2,markergrenz,color=color,label=labelgrenz)\n",
    "    return\n",
    "\n",
    "linreg(xfit,xuarr2,yuarr6,color='red',labelaus=None,unumpy=True)\n",
    "linreg(xfit,xuarr3,yuarr7,labelaus=None,unumpy=True)\n",
    "linreg(xfit,xuarr3,yuarr8,labelaus=None,unumpy=True)\n",
    "linreg(xfit,xuarr2,yuarr9,labelaus=None,color='green',unumpy=True)\n",
    "linreg(xfit,xuarr2,yuarr10,labelaus=None,color='green',unumpy=True)\n",
    "linreg(xfit,xuarr3,yuarr11,labelaus=None,color='magenta',unumpy=True)\n",
    "linreg(xfit,xuarr3,yuarr12,labelaus=None,color='magenta',unumpy=True)\n",
    "linreg(xfit,xuarr2,yuarr13,labelaus=None,color='purple',unumpy=True)\n",
    "linreg(xfit,xuarr2,yuarr14,labelaus=None,unumpy=True)\n",
    "linreg(xfit,xuarr3,yuarr15,labelaus=None,color='purple',unumpy=True)\n",
    "linreg(xfit,xuarr3,yuarr16,labelaus=None,unumpy=True)\n",
    "\n",
    "plt.legend()\n",
    "fig_size=plt.rcParams[\"figure.figsize\"]\n",
    "fig_size[0]=10\n",
    "fig_size[1]=7.5\n",
    "plt.xlabel(r'$\\mathrm{Masse}\\ [\\mathrm{kg}]$',size='15')\n",
    "plt.ylabel(r'$\\mathrm{Biegh\\\"ohe}\\ [\\mathrm{m}]$',size='15')\n",
    "plt.rcParams[\"figure.figsize\"]=fig_size\n",
    "plt.grid()\n",
    "plt.show()"
   ]
  },
  {
   "cell_type": "code",
   "execution_count": null,
   "metadata": {
    "collapsed": true
   },
   "outputs": [],
   "source": []
  },
  {
   "cell_type": "code",
   "execution_count": null,
   "metadata": {
    "collapsed": true
   },
   "outputs": [],
   "source": []
  },
  {
   "cell_type": "code",
   "execution_count": null,
   "metadata": {
    "collapsed": true
   },
   "outputs": [],
   "source": []
  },
  {
   "cell_type": "code",
   "execution_count": null,
   "metadata": {
    "collapsed": true
   },
   "outputs": [],
   "source": []
  },
  {
   "cell_type": "code",
   "execution_count": null,
   "metadata": {
    "collapsed": true
   },
   "outputs": [],
   "source": []
  }
 ],
 "metadata": {
  "kernelspec": {
   "display_name": "Python 3",
   "language": "python",
   "name": "python3"
  },
  "language_info": {
   "codemirror_mode": {
    "name": "ipython",
    "version": 3
   },
   "file_extension": ".py",
   "mimetype": "text/x-python",
   "name": "python",
   "nbconvert_exporter": "python",
   "pygments_lexer": "ipython3",
   "version": "3.6.3"
  }
 },
 "nbformat": 4,
 "nbformat_minor": 2
}
