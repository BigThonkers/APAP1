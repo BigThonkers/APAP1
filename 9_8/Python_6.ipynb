{
 "cells": [
  {
   "cell_type": "code",
   "execution_count": 1,
   "metadata": {},
   "outputs": [
    {
     "name": "stdout",
     "output_type": "stream",
     "text": [
      "d 1 0.0034247491638795995\n",
      "d 2 0.003696825511038429\n",
      "d 3 0.00553392607099143\n",
      "d 4 0.00687347046413502\n",
      "d 5 0.007842780125\n"
     ]
    }
   ],
   "source": [
    "from uncertainties import ufloat\n",
    "from uncertainties import unumpy as unp\n",
    "import numpy as np\n",
    "import matplotlib.pyplot as plt\n",
    "from scipy.optimize import curve_fit\n",
    "\n",
    "def eq1(r,l):\n",
    "    return r**4/l\n",
    "\n",
    "def eq2(d,l):\n",
    "    return d**4/l\n",
    "\n",
    "def d(r):\n",
    "    return 2*r\n",
    "\n",
    "def r(d):\n",
    "    return d/2\n",
    "\n",
    "def I(V,t):\n",
    "    return V/t\n",
    "\n",
    "def mean(a):\n",
    "    return sum(a)/len(a)\n",
    "\n",
    "d1=0.80\n",
    "l1=119.6\n",
    "d4=0.95\n",
    "l4=118.5\n",
    "d3=0.82\n",
    "l3=81.7\n",
    "d5=0.89\n",
    "l5=80\n",
    "d2=0.82\n",
    "l2=122.3\n",
    "\n",
    "print('d 1',eq2(d1,l1))\n",
    "print('d 2',eq2(d2,l2))\n",
    "print('d 3',eq2(d3,l3))\n",
    "print('d 4',eq2(d4,l4))\n",
    "print('d 5',eq2(d5,l5))"
   ]
  },
  {
   "cell_type": "code",
   "execution_count": 10,
   "metadata": {},
   "outputs": [
    {
     "name": "stdout",
     "output_type": "stream",
     "text": [
      "[0.2786885245901639+/-0.016621044817052635\n",
      " 0.30085959885386815+/-0.024263666637051408\n",
      " 0.27910685805422647+/-0.010106909488038648\n",
      " 0.27845845399866337+/-0.01129272640424173\n",
      " 0.30437188710570007+/-0.02812780402998205]\n",
      "[0.89637702 0.00485885]\n"
     ]
    },
    {
     "data": {
      "image/png": "[encoded data removed]",
      "text/plain": [
       "<Figure size 720x540 with 1 Axes>"
      ]
     },
     "metadata": {},
     "output_type": "display_data"
    }
   ],
   "source": [
    "uv=0.5\n",
    "ut=0.3\n",
    "\n",
    "I1=mean(np.array([I(ufloat(5.5,uv),ufloat(38.56,ut)),I(ufloat(6.0,uv),ufloat(40.14,ut)),I(ufloat(7.5,uv),ufloat(50.74,ut)),I(ufloat(8.0,uv),ufloat(59.79,ut)),I(ufloat(5.0,uv),ufloat(31.52,ut))]))\n",
    "I4=mean(np.array([I(ufloat(8.5,uv),ufloat(30.50,ut)),I(ufloat(6.3,uv),ufloat(20.94,ut)),I(ufloat(14.0,uv),ufloat(50.16,ut)),I(ufloat(12.5,uv),ufloat(44.89,ut)),I(ufloat(5.5,uv),ufloat(18.07,ut))]))\n",
    "I3=mean(np.array([I(ufloat(9.7,uv),ufloat(48.52,ut)),I(ufloat(7.0,uv),ufloat(34.81,ut)),I(ufloat(8.0,uv),ufloat(38.8,ut)),I(ufloat(5.5,uv),ufloat(25.58,ut)),I(ufloat(11.5,uv),ufloat(57.77,ut))]))\n",
    "I5=mean(np.array([I(ufloat(13.0,uv),ufloat(47.28,ut)),I(ufloat(9.0,uv),ufloat(32.83,ut)),I(ufloat(6.0,uv),ufloat(20.32,ut)),I(ufloat(11.7,uv),ufloat(42.32,ut)),I(ufloat(15.0,uv),ufloat(54.86,ut))]))\n",
    "I2=mean(np.array([I(ufloat(5.0,uv),ufloat(31.09,ut)),I(ufloat(7.7,uv),ufloat(56.25,ut)),I(ufloat(7.5,uv),ufloat(50.15,ut)),I(ufloat(7.0,uv),ufloat(45.27,ut)),I(ufloat(6.0,uv),ufloat(38.184,ut))]))\n",
    "\n",
    "print(np.array([I(ufloat(8.5,uv),ufloat(30.50,ut)),I(ufloat(6.3,uv),ufloat(20.94,ut)),I(ufloat(14.0,uv),ufloat(50.16,ut)),I(ufloat(12.5,uv),ufloat(44.89,ut)),I(ufloat(5.5,uv),ufloat(18.07,ut))]))\n",
    "\n",
    "#Iarrayn=[I1.n,I2.n,I3.n,I4.n,I5.n]\n",
    "#Iarrays=[I1.s,I2.s,I3.s,I4.s,I5.s]\n",
    "\n",
    "Iarrayn=[I1.n,I2.n,I3.n,I5.n]#I5.n,I4.n]\n",
    "Iarrays=[I1.s,I2.s,I3.s,I5.s]#I5.s,I4.s]\n",
    "Iarray=[I1,I2,I3,I5]\n",
    "\n",
    "meanI=mean(Iarray)\n",
    "\n",
    "#darray=[eq2(d1,l1),eq2(d2,l2),eq2(d3,l3),eq2(d4,l4),eq2(d5,l5)]\n",
    "darray=[eq2(d1,l1),eq2(d2,l2),eq2(d3,l3),eq2(d5,l5)]#eq2(d5,l5),eq2(d4,l4)]\n",
    "#darrayn=[eq2(d1,l1).n,eq2(d2,l2).n,eq2(d3,l3).n,eq2(d4,l4).n,eq2(d5,l5).n]\n",
    "#darrays=[eq2(d1,l1).s,eq2(d2,l2).s,eq2(d3,l3).s,eq2(d4,l4).s,eq2(d5,l5).s]\n",
    "\n",
    "#Polynom\n",
    "def fitfunc(x,a,b):\n",
    "    return a*x+b\n",
    "\n",
    "#Fitten\n",
    "xfit=np.linspace(0.003,0.008,100)\n",
    "popt,pcov=curve_fit(fitfunc,darray,Iarrayn)\n",
    "a,b=popt\n",
    "c,d=pcov\n",
    "fit=a*xfit+b\n",
    "\n",
    "#Ausgabe\n",
    "plt.plot(xfit,fit,'-',color='orange',label='Lineare Regression')\n",
    "print(np.sqrt(np.diag(pcov)))\n",
    "c=np.sqrt(np.diag(pcov))[0]\n",
    "d=np.sqrt(np.diag(pcov))[1]\n",
    "dfit1=(a+c)*(xfit)+fit\n",
    "dfit2=(a-c)*(xfit)+fit\n",
    "#plt.plot(xfit,dfit1,'--',color='orange')\n",
    "#plt.plot(xfit,dfit2,'--',color='orange')\n",
    "\n",
    "plt.plot(darray,Iarrayn,'x',label='Messwerte',color='blue')\n",
    "plt.errorbar(x=darray,y=Iarrayn,yerr=Iarrays,fmt='none',label='Fehlerbalken',color='red')\n",
    "\n",
    "plt.grid()\n",
    "fig_size=plt.rcParams[\"figure.figsize\"]\n",
    "fig_size[0]=10\n",
    "fig_size[1]=7.5\n",
    "plt.xlabel(r'$\\frac{d^4}{l}\\ [\\mathrm{mm}^3]$',size='15')\n",
    "plt.ylabel(r'$I_V\\ [\\mathrm{A}]$',size='15')\n",
    "plt.rcParams[\"figure.figsize\"]=fig_size\n",
    "plt.legend()\n",
    "#plt.savefig(fname='/home/a/Documents/uni/AP1/git/Praktikum-A1/9_8/graph_without_5.png',dpi=300)\n",
    "plt.show()"
   ]
  },
  {
   "cell_type": "code",
   "execution_count": 9,
   "metadata": {},
   "outputs": [
    {
     "name": "stdout",
     "output_type": "stream",
     "text": [
      "[4.96928422 0.02852677]\n"
     ]
    },
    {
     "data": {
      "image/png": "[encoded data removed]",
      "text/plain": [
       "<Figure size 720x540 with 1 Axes>"
      ]
     },
     "metadata": {},
     "output_type": "display_data"
    }
   ],
   "source": [
    "Iarrayn=[I1.n,I2.n,I3.n,I4.n,I5.n]\n",
    "Iarrays=[I1.s,I2.s,I3.s,I4.s,I5.s]\n",
    "Iarray=[I1,I2,I3,I4,I5]\n",
    "\n",
    "meanI=mean(Iarray)\n",
    "\n",
    "darray=[eq2(d1,l1),eq2(d2,l2),eq2(d3,l3),eq2(d4,l4),eq2(d5,l5)]\n",
    "\n",
    "#Fitten\n",
    "xfit=np.linspace(0.003,0.008,100)\n",
    "popt,pcov=curve_fit(fitfunc,darray,Iarrayn)\n",
    "a,b=popt\n",
    "c,d=pcov\n",
    "fit=a*xfit+b\n",
    "\n",
    "#Ausgabe\n",
    "plt.plot(xfit,fit,'-',color='orange',label='Lineare Regression')\n",
    "print(np.sqrt(np.diag(pcov)))\n",
    "c=np.sqrt(np.diag(pcov))[0]\n",
    "d=np.sqrt(np.diag(pcov))[1]\n",
    "dfit1=(a+c)*(xfit)+fit\n",
    "dfit2=(a-c)*(xfit)+fit\n",
    "#plt.plot(xfit,dfit1,'--',color='orange')\n",
    "#plt.plot(xfit,dfit2,'--',color='orange')\n",
    "\n",
    "plt.plot(darray,Iarrayn,'x',label='Messwerte',color='blue')\n",
    "plt.errorbar(x=darray,y=Iarrayn,yerr=Iarrays,fmt='none',label='Fehlerbalken',color='red')\n",
    "\n",
    "plt.grid()\n",
    "fig_size=plt.rcParams[\"figure.figsize\"]\n",
    "fig_size[0]=10\n",
    "fig_size[1]=7.5\n",
    "plt.xlabel(r'$\\frac{d^4}{l}\\ [\\mathrm{mm}^3]$',size='15')\n",
    "plt.ylabel(r'$I_V\\ [\\mathrm{A}]$',size='15')\n",
    "plt.rcParams[\"figure.figsize\"]=fig_size\n",
    "plt.legend()\n",
    "plt.savefig(fname='/home/a/Documents/uni/AP1/git/Praktikum-A1/9_8/graph_with_5.png',dpi=300)\n",
    "plt.show()"
   ]
  },
  {
   "cell_type": "markdown",
   "metadata": {},
   "source": [
    "In der Formel $I_V=\\frac{V}{t}$ haben sowohl $V$ und $t$ Fehler. Wir verwenden hier also die verallgemeinerte Formel f\\\"ur Quotienten:\n",
    "$$\n",
    "\\left\\vert\\frac{\\Delta z}{z}\\right\\vert=\\sqrt{\\left(a\\frac{\\Delta x}{x}\\right)^2+\\left(b\\frac{\\Delta y}{y}\\right)^2+\\ldots}\\textrm{ f\\\"ur }z=x^a\\ y^b\\ldots\n",
    "$$\n",
    "Hier also:\n",
    "$$\n",
    "\\left\\vert\\frac{\\Delta I_V}{I_V}\\right\\vert=\\sqrt{\\left(\\frac{\\Delta V}{V}\\right)^2+\\left(-1\\frac{\\Delta t}{t}\\right)^2}\n",
    "$$\n",
    "Da $\\frac{d^4}{l}$ aus Werten ohne vorhandenem Fehler bestehen, berechnen wir daf\\\"ur keinen Fehler.\n",
    "\n",
    "Um unseren Mittelwert zu berechnen, rechnen wir ganz leicht mit \n",
    "$$\n",
    "\\frac{\\sum_{i=1}^n I{_V_i}}{n}\\label{mean}\n",
    "$$\n",
    "den Nominalwert, und mit\n",
    "$$\n",
    "s_x=\\sqrt{\\frac{1}{n-1}\\sum_{i=1}^n(x_i-\\overline{x})^2}\\label{meanstd}\n",
    "$$\n",
    "die Standardunsichertheit dessen.\n",
    "\n",
    "Unsere Mittelwerte der $I_V$ f\\\"ur jede Position werden dann gegen $\\nicefrac{d^4}{l}$ aufgetragen, siehe Abbildung (\\ref{Abb1}).\n",
    "\n",
    "Da wir jedoch klar erkennen k\\\"onnen, dass $I{_V_4}$ mit der linearen Steigung der anderen Werte nicht \\\"ubereinstimmt, lassen wir diesen Wert weg und erhalten die Gerade, welche in Abbildung (\\ref{Abb2}) gefunden werden kann.\n"
   ]
  },
  {
   "cell_type": "markdown",
   "metadata": {},
   "source": [
    "Um die Steigung der Ausgleichsgeraden zu berechnen, nehmen wir folgende Formel zunutze:\n",
    "$$\n",
    "a=\\frac{\\sum x_i^2\\sum y_i-\\sum x_i\\sum x_iy_i}{n\\sum x_i^2-(\\sum x_i)^2}\n",
    "$$\n"
   ]
  },
  {
   "cell_type": "code",
   "execution_count": 11,
   "metadata": {},
   "outputs": [
    {
     "name": "stdout",
     "output_type": "stream",
     "text": [
      "0.041+/-0.009\n"
     ]
    }
   ],
   "source": [
    "def a(x,y):\n",
    "    n=len(x)\n",
    "    return (sum(x**2)*sum(y)-sum(x)*sum(x*y))/(n*sum(x**2)-(sum(x))**2)\n",
    "\n",
    "print(a(np.array(darray),np.array(Iarray)))"
   ]
  },
  {
   "cell_type": "markdown",
   "metadata": {},
   "source": [
    "Wir erhalten als Ergebnis daraus f\\\"ur unser $a$ einen Wert von $(0.014\\pm0.011)\\,\\mathrm{mm}^3$\n",
    "\n",
    "Um aus unseren Werten $\\Delta p$ zu berechnen, verwenden wir\n",
    "$$\n",
    "\\Delta p=\\rho_w hg\n",
    "$$"
   ]
  },
  {
   "cell_type": "code",
   "execution_count": 12,
   "metadata": {},
   "outputs": [
    {
     "name": "stdout",
     "output_type": "stream",
     "text": [
      "132+/-29\n"
     ]
    }
   ],
   "source": [
    "rho=1000\n",
    "g=9.81\n",
    "\n",
    "def Dp(h):\n",
    "    return rho*h*g\n",
    "\n",
    "print(Dp(ufloat(0.0135,0.003)))"
   ]
  },
  {
   "cell_type": "markdown",
   "metadata": {},
   "source": [
    "Da der einzige Wert mit einem Fehler $h$ ist, rechnen wir einfach mit\n",
    "$$\n",
    "\\Delta z=\\left|{\\dif f}{\\dif x}\\right|\\Delta x\\textrm{ f\\\"ur }z=f(x)\n",
    "$$\n",
    "unseren Fehler aus.\n",
    "Mit $\\rho_w=1000\\,\\frac{\\mathrm{kg}}{\\mathrm{m}^3}$, $g=9.81\\,\\frac{\\mathrm{m}}{\\mathrm{s}^2}$ und $h=(135\\pm3)\\,\\mathrm{mm}$ erhalten wir als Wert $\\Delta p=(132\\pm29)\\,$bar."
   ]
  },
  {
   "cell_type": "markdown",
   "metadata": {},
   "source": [
    "Da wir als Endergebnis $\\eta$ wollen, m\\\"ussen wir erstmal die Gleichung (\\ref{hagen}) umstellen und wir erhalten:\n",
    "$$\n",
    "\\eta=\\frac{\\pi R^4\\Delta p}{8I_V l}.\n",
    "$$\n",
    "Hier haben $\\Delta p$ und $I_V$ Fehler. Wir wenden also wieder die Gleichung f\\\"ur Produkte an und erhalten:\n",
    "$$\n",
    "\\left\\vert\\frac{\\Delta\\eta}{\\eta}\\right\\vert=\\sqrt{\\left(\\frac{\\Delta\\Delta p}{\\Delta p}\\right)^2+\\left(-1\\frac{\\Delta I_V}{I_V}\\right)^2}\n",
    "$$"
   ]
  },
  {
   "cell_type": "code",
   "execution_count": 13,
   "metadata": {},
   "outputs": [
    {
     "name": "stdout",
     "output_type": "stream",
     "text": [
      "0.076+/-0.017\n",
      "0.118+/-0.027\n",
      "0.088+/-0.020\n",
      "0.091+/-0.020\n",
      "0.081+/-0.018\n"
     ]
    }
   ],
   "source": [
    "def eta(R,p,I,l):\n",
    "    return np.pi*R**4*p/(8*I*l)\n",
    "\n",
    "Dep=Dp(ufloat(0.0135,0.003))\n",
    "\n",
    "print(eta(d1/2,Dep,I1,l1))\n",
    "print(eta(d2/2,Dep,I2,l3))\n",
    "print(eta(d3/2,Dep,I3,l3))\n",
    "print(eta(d5/2,Dep,I5,l5))\n",
    "\n",
    "print(mean([eta(d1/2,Dep,I1,l1),eta(d2/2,Dep,I2,l2),eta(d4/2,Dep,I4,l4),eta(d5/2,Dep,I5,l5)]))"
   ]
  },
  {
   "cell_type": "markdown",
   "metadata": {},
   "source": [
    "Als Ergebnis f\\\"ur $\\eta$ erhalten wir f\\\"ur unsere vier verwendeten Messreihen:\n",
    "$\\begin{itemize}\n",
    "\\item (0.076\\pm0.017)\\,\\mathrm{\\frac{kg}{ms}}\n",
    "\\item (0.118\\pm0.027)\\,\\mathrm{\\frac{kg}{ms}}\n",
    "\\item (0.088\\pm0.020)\\,\\mathrm{\\frac{kg}{ms}}\n",
    "\\item (0.091\\pm0.020)\\,\\mathrm{\\frac{kg}{ms}}\n",
    "\\end{itemize}\n",
    "$\n",
    "\n",
    "Nutzen wir die Formeln (\\ref{mean}) und (\\ref{meanstd}) um unseren Mittelwert zu bestimmen, so erhalten wir als Standardunsicherheit\n",
    "\\[\n",
    "0.08\\pm0.018\\,\\mathrm{\\frac{kg}{ms}}\n",
    "\\]\n",
    "\n",
    "Als n\\\"achstes betrachten wir den durchschnittlichen Fehler der Messungen und die Streuung:"
   ]
  },
  {
   "cell_type": "code",
   "execution_count": 14,
   "metadata": {},
   "outputs": [
    {
     "name": "stdout",
     "output_type": "stream",
     "text": [
      "0.006002401151947\n",
      "0.0532381980128027\n"
     ]
    }
   ],
   "source": [
    "print(mean(Iarrays))\n",
    "print(np.std(Iarrayn))"
   ]
  },
  {
   "cell_type": "markdown",
   "metadata": {},
   "source": [
    "Wir erhalten als durchschnittlichen Fehler $0.006\\,$A und als Streuung $0.570\\,$A."
   ]
  },
  {
   "cell_type": "markdown",
   "metadata": {},
   "source": [
    "Anhand der Fehlerbalken ist zu erkennen, dass der Fehler mit zunehmenden $\\frac{d^4}{l}$ steigt. Da die Formel f\\\"ur $I_V$ zu  $\\frac{1}{l}$ und $\\left(\\frac{d}{2}\\right)^2$ proportional ist, aber diese Werte keine statistischen Fehler haben, ist klar, dass dies aufgrund von systematischer Fehler der Fall sein muss. Erstaunlich ist dies nicht, da sowohl $d$ und $l$ vorgegeben worden sind ohne Fehler, wodurch sie systematische Fehler sind.\n",
    "\n"
   ]
  },
  {
   "cell_type": "code",
   "execution_count": null,
   "metadata": {},
   "outputs": [],
   "source": []
  }
 ],
 "metadata": {
  "kernelspec": {
   "display_name": "Python 3",
   "language": "python",
   "name": "python3"
  },
  "language_info": {
   "codemirror_mode": {
    "name": "ipython",
    "version": 3
   },
   "file_extension": ".py",
   "mimetype": "text/x-python",
   "name": "python",
   "nbconvert_exporter": "python",
   "pygments_lexer": "ipython3",
   "version": "3.6.5"
  }
 },
 "nbformat": 4,
 "nbformat_minor": 2
}
