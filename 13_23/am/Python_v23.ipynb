{
 "cells": [
  {
   "cell_type": "code",
   "execution_count": 15,
   "metadata": {},
   "outputs": [
    {
     "name": "stdout",
     "output_type": "stream",
     "text": [
      "(330.524+/-13.04788538422989, 343.252+/-33.488025098533356, 339.754+/-1.3222497835129339)\n",
      "338+/-12\n"
     ]
    }
   ],
   "source": [
    "from uncertainties import ufloat\n",
    "from uncertainties import unumpy as unp\n",
    "import numpy as np\n",
    "import matplotlib.pyplot as plt\n",
    "from scipy.optimize import curve_fit\n",
    "\n",
    "def mean(a):\n",
    "    return sum(a)/len(a)\n",
    "\n",
    "x1 = ufloat(11.1,0.5)\n",
    "x2 = ufloat(18.5,0.5)\n",
    "x3 = ufloat(25.5,0.5)\n",
    "x4 = ufloat(35.0,0.5)\n",
    "\n",
    "y1 = ufloat(40,0.5)\n",
    "y2 = ufloat(44.0,0.5)\n",
    "\n",
    "nu = (2176,2173)\n",
    "\n",
    "f1 = ufloat(mean(nu),1)\n",
    "f2 = ufloat(4186,0.5)\n",
    "f3 = ufloat(6610,0.5)\n",
    "\n",
    "w1 = 2*ufloat(0.076,0.003)\n",
    "w2 = 2*ufloat(0.041,0.004)\n",
    "w3 = 2*ufloat(0.0257,0.0001)\n",
    "\n",
    "c1 = f1*w1\n",
    "c2 = f2*w2\n",
    "c3 = f3*w3\n",
    "\n",
    "cx = (c1, c2, c3)\n",
    "print(cx)\n",
    "print(mean(cx))"
   ]
  },
  {
   "cell_type": "code",
   "execution_count": 16,
   "metadata": {},
   "outputs": [
    {
     "name": "stdout",
     "output_type": "stream",
     "text": [
      "0.0095+/-0.0004 0.0103+/-0.0004 0.0115+/-0.0004 0.0133+/-0.0004\n",
      "0.0096+/-0.0004 0.0101+/-0.0006 0.0116+/-0.0005 0.0133+/-0.0009\n"
     ]
    }
   ],
   "source": [
    "ab1 = 0.015\n",
    "ab2 = 0.03\n",
    "ab3 = 0.045\n",
    "ab4 = 0.06\n",
    "T1 = ufloat(2.09,0.01)\n",
    "T2 = ufloat(2.14,0.05)\n",
    "T3 = ufloat(2.29,0.01)\n",
    "T4 = ufloat(2.45,0.06)\n",
    "\n",
    "I0 = ufloat(0.0093,0.0004)\n",
    "m = ufloat(1.109,0.005)\n",
    "\n",
    "I1 = I0 + m*ab1**2\n",
    "I2 = I0 + m*ab2**2\n",
    "I3 = I0 + m*ab3**2\n",
    "I4 = I0 + m*ab4**2\n",
    "\n",
    "M1 = (T1**2*D)/(4*np.pi**2)\n",
    "M2 = (T2**2*D)/(4*np.pi**2)\n",
    "M3 = (T3**2*D)/(4*np.pi**2)\n",
    "M4 = (T4**2*D)/(4*np.pi**2)\n",
    "\n",
    "print(I1,I2,I3,I4)\n",
    "print(M1,M2,M3,M4)"
   ]
  },
  {
   "cell_type": "code",
   "execution_count": 18,
   "metadata": {},
   "outputs": [
    {
     "name": "stdout",
     "output_type": "stream",
     "text": [
      "0.2683281573\n",
      "0.0597022314126\n",
      "0.156173761889\n"
     ]
    }
   ],
   "source": [
    "Ta = 1.593\n",
    "Tb = 1.59\n",
    "Tc = 1.59\n",
    "\n",
    "ua = 0.005\n",
    "ub = 0.01\n",
    "uc = 0.05\n",
    "\n",
    "def t(x,y,p,q):\n",
    "    return (x-y)/(np.sqrt(p**2 + q**2))\n",
    "\n",
    "print(t(Ta,Tb,ua,ub))\n",
    "print(t(Ta,Tc,ua,uc))\n",
    "print(t(9.3,9.2,0.4,0.5))"
   ]
  },
  {
   "cell_type": "markdown",
   "metadata": {},
   "source": [
    "In der Formel $I_V=\\frac{V}{t}$ haben sowohl $V$ und $t$ Fehler. Wir verwenden hier also die verallgemeinerte Formel f\\\"ur Quotienten:\n",
    "$$\n",
    "\\left\\vert\\frac{\\Delta z}{z}\\right\\vert=\\sqrt{\\left(a\\frac{\\Delta x}{x}\\right)^2+\\left(b\\frac{\\Delta y}{y}\\right)^2+\\ldots}\\textrm{ f\\\"ur }z=x^a\\ y^b\\ldots\n",
    "$$\n",
    "Hier also:\n",
    "$$\n",
    "\\left\\vert\\frac{\\Delta I_V}{I_V}\\right\\vert=\\sqrt{\\left(\\frac{\\Delta V}{V}\\right)^2+\\left(-1\\frac{\\Delta t}{t}\\right)^2}\n",
    "$$\n",
    "Da $\\frac{d^4}{l}$ aus Werten ohne vorhandenem Fehler bestehen, berechnen wir daf\\\"ur keinen Fehler.\n",
    "\n",
    "Um unseren Mittelwert zu berechnen, rechnen wir ganz leicht mit \n",
    "$$\n",
    "\\frac{\\sum_{i=1}^n I{_V_i}}{n}\\label{mean}\n",
    "$$\n",
    "den Nominalwert, und mit\n",
    "$$\n",
    "s_x=\\sqrt{\\frac{1}{n-1}\\sum_{i=1}^n(x_i-\\overline{x})^2}\\label{meanstd}\n",
    "$$\n",
    "die Standardunsichertheit dessen.\n",
    "\n",
    "Unsere Mittelwerte der $I_V$ f\\\"ur jede Position werden dann gegen $\\nicefrac{d^4}{l}$ aufgetragen, siehe Abbildung (\\ref{Abb1}).\n",
    "\n",
    "Da wir jedoch klar erkennen k\\\"onnen, dass $I{_V_4}$ mit der linearen Steigung der anderen Werte nicht \\\"ubereinstimmt, lassen wir diesen Wert weg und erhalten die Gerade, welche in Abbildung (\\ref{Abb2}) gefunden werden kann.\n"
   ]
  },
  {
   "cell_type": "markdown",
   "metadata": {},
   "source": [
    "Um die Steigung der Ausgleichsgeraden zu berechnen, nehmen wir folgende Formel zunutze:\n",
    "$$\n",
    "a=\\frac{\\sum x_i^2\\sum y_i-\\sum x_i\\sum x_iy_i}{n\\sum x_i^2-(\\sum x_i)^2}\n",
    "$$\n"
   ]
  },
  {
   "cell_type": "code",
   "execution_count": 11,
   "metadata": {},
   "outputs": [
    {
     "name": "stdout",
     "output_type": "stream",
     "text": [
      "0.041+/-0.009\n"
     ]
    }
   ],
   "source": [
    "def a(x,y):\n",
    "    n=len(x)\n",
    "    return (sum(x**2)*sum(y)-sum(x)*sum(x*y))/(n*sum(x**2)-(sum(x))**2)\n",
    "\n",
    "print(a(np.array(darray),np.array(Iarray)))"
   ]
  },
  {
   "cell_type": "markdown",
   "metadata": {},
   "source": [
    "Wir erhalten als Ergebnis daraus f\\\"ur unser $a$ einen Wert von $(0.014\\pm0.011)\\,\\mathrm{mm}^3$\n",
    "\n",
    "Um aus unseren Werten $\\Delta p$ zu berechnen, verwenden wir\n",
    "$$\n",
    "\\Delta p=\\rho_w hg\n",
    "$$"
   ]
  },
  {
   "cell_type": "code",
   "execution_count": 12,
   "metadata": {},
   "outputs": [
    {
     "name": "stdout",
     "output_type": "stream",
     "text": [
      "132+/-29\n"
     ]
    }
   ],
   "source": [
    "rho=1000\n",
    "g=9.81\n",
    "\n",
    "def Dp(h):\n",
    "    return rho*h*g\n",
    "\n",
    "print(Dp(ufloat(0.0135,0.003)))"
   ]
  },
  {
   "cell_type": "markdown",
   "metadata": {},
   "source": [
    "Da der einzige Wert mit einem Fehler $h$ ist, rechnen wir einfach mit\n",
    "$$\n",
    "\\Delta z=\\left|{\\dif f}{\\dif x}\\right|\\Delta x\\textrm{ f\\\"ur }z=f(x)\n",
    "$$\n",
    "unseren Fehler aus.\n",
    "Mit $\\rho_w=1000\\,\\frac{\\mathrm{kg}}{\\mathrm{m}^3}$, $g=9.81\\,\\frac{\\mathrm{m}}{\\mathrm{s}^2}$ und $h=(135\\pm3)\\,\\mathrm{mm}$ erhalten wir als Wert $\\Delta p=(132\\pm29)\\,$bar."
   ]
  },
  {
   "cell_type": "markdown",
   "metadata": {},
   "source": [
    "Da wir als Endergebnis $\\eta$ wollen, m\\\"ussen wir erstmal die Gleichung (\\ref{hagen}) umstellen und wir erhalten:\n",
    "$$\n",
    "\\eta=\\frac{\\pi R^4\\Delta p}{8I_V l}.\n",
    "$$\n",
    "Hier haben $\\Delta p$ und $I_V$ Fehler. Wir wenden also wieder die Gleichung f\\\"ur Produkte an und erhalten:\n",
    "$$\n",
    "\\left\\vert\\frac{\\Delta\\eta}{\\eta}\\right\\vert=\\sqrt{\\left(\\frac{\\Delta\\Delta p}{\\Delta p}\\right)^2+\\left(-1\\frac{\\Delta I_V}{I_V}\\right)^2}\n",
    "$$"
   ]
  },
  {
   "cell_type": "code",
   "execution_count": 13,
   "metadata": {},
   "outputs": [
    {
     "name": "stdout",
     "output_type": "stream",
     "text": [
      "0.076+/-0.017\n",
      "0.118+/-0.027\n",
      "0.088+/-0.020\n",
      "0.091+/-0.020\n",
      "0.081+/-0.018\n"
     ]
    }
   ],
   "source": [
    "def eta(R,p,I,l):\n",
    "    return np.pi*R**4*p/(8*I*l)\n",
    "\n",
    "Dep=Dp(ufloat(0.0135,0.003))\n",
    "\n",
    "print(eta(d1/2,Dep,I1,l1))\n",
    "print(eta(d2/2,Dep,I2,l3))\n",
    "print(eta(d3/2,Dep,I3,l3))\n",
    "print(eta(d5/2,Dep,I5,l5))\n",
    "\n",
    "print(mean([eta(d1/2,Dep,I1,l1),eta(d2/2,Dep,I2,l2),eta(d4/2,Dep,I4,l4),eta(d5/2,Dep,I5,l5)]))"
   ]
  },
  {
   "cell_type": "markdown",
   "metadata": {},
   "source": [
    "Als Ergebnis f\\\"ur $\\eta$ erhalten wir f\\\"ur unsere vier verwendeten Messreihen:\n",
    "$\\begin{itemize}\n",
    "\\item (0.076\\pm0.017)\\,\\mathrm{\\frac{kg}{ms}}\n",
    "\\item (0.118\\pm0.027)\\,\\mathrm{\\frac{kg}{ms}}\n",
    "\\item (0.088\\pm0.020)\\,\\mathrm{\\frac{kg}{ms}}\n",
    "\\item (0.091\\pm0.020)\\,\\mathrm{\\frac{kg}{ms}}\n",
    "\\end{itemize}\n",
    "$\n",
    "\n",
    "Nutzen wir die Formeln (\\ref{mean}) und (\\ref{meanstd}) um unseren Mittelwert zu bestimmen, so erhalten wir als Standardunsicherheit\n",
    "\\[\n",
    "0.08\\pm0.018\\,\\mathrm{\\frac{kg}{ms}}\n",
    "\\]\n",
    "\n",
    "Als n\\\"achstes betrachten wir den durchschnittlichen Fehler der Messungen und die Streuung:"
   ]
  },
  {
   "cell_type": "code",
   "execution_count": 32,
   "metadata": {},
   "outputs": [
    {
     "ename": "NameError",
     "evalue": "name 'mean' is not defined",
     "output_type": "error",
     "traceback": [
      "\u001b[0;31m---------------------------------------------------------------------------\u001b[0m",
      "\u001b[0;31mNameError\u001b[0m                                 Traceback (most recent call last)",
      "\u001b[0;32m<ipython-input-32-d8aaaa64de10>\u001b[0m in \u001b[0;36m<module>\u001b[0;34m()\u001b[0m\n\u001b[0;32m----> 1\u001b[0;31m \u001b[0mprint\u001b[0m\u001b[0;34m(\u001b[0m\u001b[0mmean\u001b[0m\u001b[0;34m(\u001b[0m\u001b[0mIarrays\u001b[0m\u001b[0;34m)\u001b[0m\u001b[0;34m)\u001b[0m\u001b[0;34m\u001b[0m\u001b[0m\n\u001b[0m\u001b[1;32m      2\u001b[0m \u001b[0mprint\u001b[0m\u001b[0;34m(\u001b[0m\u001b[0mnp\u001b[0m\u001b[0;34m.\u001b[0m\u001b[0mstd\u001b[0m\u001b[0;34m(\u001b[0m\u001b[0mIarrayn\u001b[0m\u001b[0;34m)\u001b[0m\u001b[0;34m)\u001b[0m\u001b[0;34m\u001b[0m\u001b[0m\n",
      "\u001b[0;31mNameError\u001b[0m: name 'mean' is not defined"
     ]
    }
   ],
   "source": [
    "print(mean(Iarrays))\n",
    "print(np.std(Iarrayn))"
   ]
  },
  {
   "cell_type": "markdown",
   "metadata": {},
   "source": [
    "Wir erhalten als durchschnittlichen Fehler $0.006\\,$A und als Streuung $0.570\\,$A."
   ]
  },
  {
   "cell_type": "markdown",
   "metadata": {},
   "source": [
    "Anhand der Fehlerbalken ist zu erkennen, dass der Fehler mit zunehmenden $\\frac{d^4}{l}$ steigt. Da die Formel f\\\"ur $I_V$ zu  $\\frac{1}{l}$ und $\\left(\\frac{d}{2}\\right)^2$ proportional ist, aber diese Werte keine statistischen Fehler haben, ist klar, dass dies aufgrund von systematischer Fehler der Fall sein muss. Erstaunlich ist dies nicht, da sowohl $d$ und $l$ vorgegeben worden sind ohne Fehler, wodurch sie systematische Fehler sind.\n",
    "\n"
   ]
  },
  {
   "cell_type": "code",
   "execution_count": null,
   "metadata": {
    "collapsed": true
   },
   "outputs": [],
   "source": []
  }
 ],
 "metadata": {
  "kernelspec": {
   "display_name": "Python 3",
   "language": "python",
   "name": "python3"
  }
 },
 "nbformat": 4,
 "nbformat_minor": 2
}
