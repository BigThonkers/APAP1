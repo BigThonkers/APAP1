{
 "cells": [
  {
   "cell_type": "code",
   "execution_count": 1,
   "metadata": {},
   "outputs": [
    {
     "name": "stdout",
     "output_type": "stream",
     "text": [
      "d 1 0.0034247491638795995\n",
      "d 2 0.003696825511038429\n",
      "d 3 0.00553392607099143\n",
      "d 4 0.00687347046413502\n",
      "d 5 0.007842780125\n"
     ]
    }
   ],
   "source": [
    "from uncertainties import ufloat\n",
    "from uncertainties import unumpy as unp\n",
    "import numpy as np\n",
    "import matplotlib.pyplot as plt\n",
    "from scipy.optimize import curve_fit\n",
    "\n",
    "def eq1(r,l):\n",
    "    return r**4/l\n",
    "\n",
    "def eq2(d,l):\n",
    "    return d**4/l\n",
    "\n",
    "def d(r):\n",
    "    return 2*r\n",
    "\n",
    "def r(d):\n",
    "    return d/2\n",
    "\n",
    "def I(V,t):\n",
    "    return V/t\n",
    "\n",
    "def mean(a):\n",
    "    return sum(a)/len(a)\n",
    "\n",
    "d1=0.80\n",
    "l1=119.6\n",
    "d4=0.95\n",
    "l4=118.5\n",
    "d3=0.82\n",
    "l3=81.7\n",
    "d5=0.89\n",
    "l5=80\n",
    "d2=0.82\n",
    "l2=122.3\n",
    "\n",
    "print('d 1',eq2(d1,l1))\n",
    "print('d 2',eq2(d2,l2))\n",
    "print('d 3',eq2(d3,l3))\n",
    "print('d 4',eq2(d4,l4))\n",
    "print('d 5',eq2(d5,l5))"
   ]
  },
  {
   "cell_type": "code",
   "execution_count": 3,
   "metadata": {},
   "outputs": [
    {
     "name": "stdout",
     "output_type": "stream",
     "text": [
      "[0.2786885245901639+/-0.016621044817052635\n",
      " 0.30085959885386815+/-0.024263666637051408\n",
      " 0.27910685805422647+/-0.010106909488038648\n",
      " 0.27845845399866337+/-0.01129272640424173\n",
      " 0.30437188710570007+/-0.02812780402998205]\n",
      "[4.96928431 0.02852677]\n"
     ]
    },
    {
     "data": {
      "image/png": "[encoded data removed]",
      "text/plain": [
       "<Figure size 720x540 with 1 Axes>"
      ]
     },
     "metadata": {},
     "output_type": "display_data"
    }
   ],
   "source": [
    "uv=0.5\n",
    "ut=0.3\n",
    "\n",
    "I1=mean(np.array([I(ufloat(5.5,uv),ufloat(38.56,ut)),I(ufloat(6.0,uv),ufloat(40.14,ut)),I(ufloat(7.5,uv),ufloat(50.74,ut)),I(ufloat(8.0,uv),ufloat(59.79,ut)),I(ufloat(5.0,uv),ufloat(31.52,ut))]))\n",
    "I4=mean(np.array([I(ufloat(8.5,uv),ufloat(30.50,ut)),I(ufloat(6.3,uv),ufloat(20.94,ut)),I(ufloat(14.0,uv),ufloat(50.16,ut)),I(ufloat(12.5,uv),ufloat(44.89,ut)),I(ufloat(5.5,uv),ufloat(18.07,ut))]))\n",
    "I3=mean(np.array([I(ufloat(9.7,uv),ufloat(48.52,ut)),I(ufloat(7.0,uv),ufloat(34.81,ut)),I(ufloat(8.0,uv),ufloat(38.8,ut)),I(ufloat(5.5,uv),ufloat(25.58,ut)),I(ufloat(11.5,uv),ufloat(57.77,ut))]))\n",
    "I5=mean(np.array([I(ufloat(13.0,uv),ufloat(47.28,ut)),I(ufloat(9.0,uv),ufloat(32.83,ut)),I(ufloat(6.0,uv),ufloat(20.32,ut)),I(ufloat(11.7,uv),ufloat(42.32,ut)),I(ufloat(15.0,uv),ufloat(54.86,ut))]))\n",
    "I2=mean(np.array([I(ufloat(5.0,uv),ufloat(31.09,ut)),I(ufloat(7.7,uv),ufloat(56.25,ut)),I(ufloat(7.5,uv),ufloat(50.15,ut)),I(ufloat(7.0,uv),ufloat(45.27,ut)),I(ufloat(6.0,uv),ufloat(38.184,ut))]))\n",
    "\n",
    "print(np.array([I(ufloat(8.5,uv),ufloat(30.50,ut)),I(ufloat(6.3,uv),ufloat(20.94,ut)),I(ufloat(14.0,uv),ufloat(50.16,ut)),I(ufloat(12.5,uv),ufloat(44.89,ut)),I(ufloat(5.5,uv),ufloat(18.07,ut))]))\n",
    "\n",
    "#Iarrayn=[I1.n,I2.n,I3.n,I4.n,I5.n]\n",
    "#Iarrays=[I1.s,I2.s,I3.s,I4.s,I5.s]\n",
    "\n",
    "Iarrayn=[I1.n,I2.n,I3.n,I5.n,I4.n]\n",
    "Iarrays=[I1.s,I2.s,I3.s,I5.s,I4.s]\n",
    "\n",
    "#darray=[eq2(d1,l1),eq2(d2,l2),eq2(d3,l3),eq2(d4,l4),eq2(d5,l5)]\n",
    "darray=[eq2(d1,l1),eq2(d2,l2),eq2(d3,l3),eq2(d5,l5),eq2(d4,l4)]\n",
    "#darrayn=[eq2(d1,l1).n,eq2(d2,l2).n,eq2(d3,l3).n,eq2(d4,l4).n,eq2(d5,l5).n]\n",
    "#darrays=[eq2(d1,l1).s,eq2(d2,l2).s,eq2(d3,l3).s,eq2(d4,l4).s,eq2(d5,l5).s]\n",
    "\n",
    "#Polynom\n",
    "def fitfunc(x,a,b):\n",
    "    return a*x+b\n",
    "\n",
    "#Fitten\n",
    "xfit=np.linspace(0.003,0.008,100)\n",
    "popt,pcov=curve_fit(fitfunc,darray,Iarrayn)\n",
    "a,b=popt\n",
    "c,d=pcov\n",
    "fit=a*xfit+b\n",
    "\n",
    "#Ausgabe\n",
    "plt.plot(xfit,fit,'-',color='orange',label='Lineare Regression')\n",
    "print(np.sqrt(np.diag(pcov)))\n",
    "c=np.sqrt(np.diag(pcov))[0]\n",
    "d=np.sqrt(np.diag(pcov))[1]\n",
    "dfit1=(a+c)*(xfit)+fit\n",
    "dfit2=(a-c)*(xfit)+fit\n",
    "#plt.plot(xfit,dfit1,'--',color='orange')\n",
    "#plt.plot(xfit,dfit2,'--',color='orange')\n",
    "\n",
    "plt.plot(darray,Iarrayn,'x',label='Messwerte',color='blue')\n",
    "plt.errorbar(x=darray,y=Iarrayn,yerr=Iarrays,fmt='none',label='Fehlerbalken',color='red')\n",
    "\n",
    "plt.grid()\n",
    "fig_size=plt.rcParams[\"figure.figsize\"]\n",
    "fig_size[0]=10\n",
    "fig_size[1]=7.5\n",
    "plt.xlabel(r'$\\frac{d^4}{l}\\ [\\mathrm{mm}^3]$',size='15')\n",
    "plt.ylabel(r'$I_V\\ [\\mathrm{A}]$',size='15')\n",
    "plt.rcParams[\"figure.figsize\"]=fig_size\n",
    "plt.legend()\n",
    "plt.show()"
   ]
  },
  {
   "cell_type": "code",
   "execution_count": null,
   "metadata": {},
   "outputs": [],
   "source": []
  }
 ],
 "metadata": {
  "kernelspec": {
   "display_name": "Python 3",
   "language": "python",
   "name": "python3"
  },
  "language_info": {
   "codemirror_mode": {
    "name": "ipython",
    "version": 3
   },
   "file_extension": ".py",
   "mimetype": "text/x-python",
   "name": "python",
   "nbconvert_exporter": "python",
   "pygments_lexer": "ipython3",
   "version": "3.6.5"
  }
 },
 "nbformat": 4,
 "nbformat_minor": 2
}
