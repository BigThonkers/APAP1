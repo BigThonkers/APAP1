{
 "cells": [
  {
   "cell_type": "code",
   "execution_count": 4,
   "metadata": {},
   "outputs": [],
   "source": [
    "import numpy as np\n",
    "from uncertainties import ufloat\n",
    "from uncertainties import unumpy as unp\n",
    "\n",
    "m=ufloat(5.70,0.03)#g\n",
    "d=ufloat(1.35,0.03)#cm\n",
    "a=ufloat(3.5,0.5)#cm\n",
    "T=ufloat(26,0.3)#C\n",
    "p=ufloat(988,1)#mbar\n",
    "\n",
    "def s_n(n):\n",
    "    return np.sqrt(n)\n",
    "\n",
    "def s_t(t,n):\n",
    "    return (sum(t)/len(t))/np.sqrt(n)\n",
    "\n",
    "def sec(m):\n",
    "    return 60*m\n",
    "\n",
    "n1=ufloat(1000,s_n(1000))\n",
    "t1=ufloat(sec(6)+32.34,s_t([sec(6)+32.34],1000))\n",
    "n2=n1\n",
    "t2=ufloat(sec(6)+32.52,s_t([sec(6)+32.52],1000))\n",
    "n3=ufloat(100,s_n(100))"
   ]
  },
  {
   "cell_type": "code",
   "execution_count": null,
   "metadata": {},
   "outputs": [],
   "source": []
  }
 ],
 "metadata": {
  "kernelspec": {
   "display_name": "Python 3",
   "language": "python",
   "name": "python3"
  },
  "language_info": {
   "codemirror_mode": {
    "name": "ipython",
    "version": 3
   },
   "file_extension": ".py",
   "mimetype": "text/x-python",
   "name": "python",
   "nbconvert_exporter": "python",
   "pygments_lexer": "ipython3",
   "version": "3.6.5"
  }
 },
 "nbformat": 4,
 "nbformat_minor": 2
}
