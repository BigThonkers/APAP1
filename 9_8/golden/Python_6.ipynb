{
 "cells": [
  {
   "cell_type": "code",
   "execution_count": 1,
   "metadata": {},
   "outputs": [
    {
     "name": "stdout",
     "output_type": "stream",
     "text": [
      "d 1 3.4247491638795994e-12\n",
      "d 2 3.69682551103843e-12\n",
      "d 3 5.5339260709914325e-12\n",
      "d 4 6.873470464135021e-12\n",
      "d 5 7.842780124999997e-12\n"
     ]
    }
   ],
   "source": [
    "from uncertainties import ufloat\n",
    "from uncertainties import unumpy as unp\n",
    "import numpy as np\n",
    "import matplotlib.pyplot as plt\n",
    "from scipy.optimize import curve_fit\n",
    "\n",
    "def eq1(r,l):\n",
    "    return r**4/l\n",
    "\n",
    "def eq2(d,l):\n",
    "    return d**4/l\n",
    "\n",
    "def d(r):\n",
    "    return 2*r\n",
    "\n",
    "def r(d):\n",
    "    return d/2\n",
    "\n",
    "def I(V,t):\n",
    "    return V/t\n",
    "\n",
    "def mean(a):\n",
    "    return sum(a)/len(a)\n",
    "\n",
    "d1=0.00080\n",
    "l1=0.1196\n",
    "d4=0.00095\n",
    "l4=0.1185\n",
    "d3=0.00082\n",
    "l3=0.0817\n",
    "d5=0.00089\n",
    "l5=0.080\n",
    "d2=0.00082\n",
    "l2=0.1223\n",
    "\n",
    "print('d 1',eq2(d1,l1))\n",
    "print('d 2',eq2(d2,l2))\n",
    "print('d 3',eq2(d3,l3))\n",
    "print('d 4',eq2(d4,l4))\n",
    "print('d 5',eq2(d5,l5))"
   ]
  },
  {
   "cell_type": "code",
   "execution_count": 21,
   "metadata": {},
   "outputs": [
    {
     "name": "stdout",
     "output_type": "stream",
     "text": [
      "[2.786885245901639e-07+/-1.6621044817052634e-08\n",
      " 3.0085959885386817e-07+/-2.4263666637051406e-08\n",
      " 2.7910685805422647e-07+/-1.0106909488038647e-08\n",
      " 2.784584539986634e-07+/-1.1292726404241729e-08\n",
      " 3.0437188710570006e-07+/-2.812780402998205e-08]\n",
      "[  8.96377021e+02   4.85884642e-09]\n"
     ]
    },
    {
     "ename": "TypeError",
     "evalue": "print_figure() missing 1 required positional argument: 'filename'",
     "output_type": "error",
     "traceback": [
      "\u001b[0;31m---------------------------------------------------------------------------\u001b[0m",
      "\u001b[0;31mTypeError\u001b[0m                                 Traceback (most recent call last)",
      "\u001b[0;32m<ipython-input-21-59b109bc991b>\u001b[0m in \u001b[0;36m<module>\u001b[0;34m()\u001b[0m\n\u001b[1;32m     56\u001b[0m \u001b[0mplt\u001b[0m\u001b[0;34m.\u001b[0m\u001b[0mrcParams\u001b[0m\u001b[0;34m[\u001b[0m\u001b[0;34m\"figure.figsize\"\u001b[0m\u001b[0;34m]\u001b[0m\u001b[0;34m=\u001b[0m\u001b[0mfig_size\u001b[0m\u001b[0;34m\u001b[0m\u001b[0m\n\u001b[1;32m     57\u001b[0m \u001b[0mplt\u001b[0m\u001b[0;34m.\u001b[0m\u001b[0mlegend\u001b[0m\u001b[0;34m(\u001b[0m\u001b[0;34m)\u001b[0m\u001b[0;34m\u001b[0m\u001b[0m\n\u001b[0;32m---> 58\u001b[0;31m \u001b[0mplt\u001b[0m\u001b[0;34m.\u001b[0m\u001b[0msavefig\u001b[0m\u001b[0;34m(\u001b[0m\u001b[0mfname\u001b[0m\u001b[0;34m=\u001b[0m\u001b[0;34m'graph_without_5.png'\u001b[0m\u001b[0;34m,\u001b[0m\u001b[0mdpi\u001b[0m\u001b[0;34m=\u001b[0m\u001b[0;36m300\u001b[0m\u001b[0;34m)\u001b[0m\u001b[0;34m\u001b[0m\u001b[0m\n\u001b[0m\u001b[1;32m     59\u001b[0m \u001b[0mplt\u001b[0m\u001b[0;34m.\u001b[0m\u001b[0mshow\u001b[0m\u001b[0;34m(\u001b[0m\u001b[0;34m)\u001b[0m\u001b[0;34m\u001b[0m\u001b[0m\n",
      "\u001b[0;32m~/anaconda3/lib/python3.6/site-packages/matplotlib/pyplot.py\u001b[0m in \u001b[0;36msavefig\u001b[0;34m(*args, **kwargs)\u001b[0m\n\u001b[1;32m    695\u001b[0m \u001b[0;32mdef\u001b[0m \u001b[0msavefig\u001b[0m\u001b[0;34m(\u001b[0m\u001b[0;34m*\u001b[0m\u001b[0margs\u001b[0m\u001b[0;34m,\u001b[0m \u001b[0;34m**\u001b[0m\u001b[0mkwargs\u001b[0m\u001b[0;34m)\u001b[0m\u001b[0;34m:\u001b[0m\u001b[0;34m\u001b[0m\u001b[0m\n\u001b[1;32m    696\u001b[0m     \u001b[0mfig\u001b[0m \u001b[0;34m=\u001b[0m \u001b[0mgcf\u001b[0m\u001b[0;34m(\u001b[0m\u001b[0;34m)\u001b[0m\u001b[0;34m\u001b[0m\u001b[0m\n\u001b[0;32m--> 697\u001b[0;31m     \u001b[0mres\u001b[0m \u001b[0;34m=\u001b[0m \u001b[0mfig\u001b[0m\u001b[0;34m.\u001b[0m\u001b[0msavefig\u001b[0m\u001b[0;34m(\u001b[0m\u001b[0;34m*\u001b[0m\u001b[0margs\u001b[0m\u001b[0;34m,\u001b[0m \u001b[0;34m**\u001b[0m\u001b[0mkwargs\u001b[0m\u001b[0;34m)\u001b[0m\u001b[0;34m\u001b[0m\u001b[0m\n\u001b[0m\u001b[1;32m    698\u001b[0m     \u001b[0mfig\u001b[0m\u001b[0;34m.\u001b[0m\u001b[0mcanvas\u001b[0m\u001b[0;34m.\u001b[0m\u001b[0mdraw_idle\u001b[0m\u001b[0;34m(\u001b[0m\u001b[0;34m)\u001b[0m   \u001b[0;31m# need this if 'transparent=True' to reset colors\u001b[0m\u001b[0;34m\u001b[0m\u001b[0m\n\u001b[1;32m    699\u001b[0m     \u001b[0;32mreturn\u001b[0m \u001b[0mres\u001b[0m\u001b[0;34m\u001b[0m\u001b[0m\n",
      "\u001b[0;32m~/anaconda3/lib/python3.6/site-packages/matplotlib/figure.py\u001b[0m in \u001b[0;36msavefig\u001b[0;34m(self, *args, **kwargs)\u001b[0m\n\u001b[1;32m   1571\u001b[0m             \u001b[0mself\u001b[0m\u001b[0;34m.\u001b[0m\u001b[0mset_frameon\u001b[0m\u001b[0;34m(\u001b[0m\u001b[0mframeon\u001b[0m\u001b[0;34m)\u001b[0m\u001b[0;34m\u001b[0m\u001b[0m\n\u001b[1;32m   1572\u001b[0m \u001b[0;34m\u001b[0m\u001b[0m\n\u001b[0;32m-> 1573\u001b[0;31m         \u001b[0mself\u001b[0m\u001b[0;34m.\u001b[0m\u001b[0mcanvas\u001b[0m\u001b[0;34m.\u001b[0m\u001b[0mprint_figure\u001b[0m\u001b[0;34m(\u001b[0m\u001b[0;34m*\u001b[0m\u001b[0margs\u001b[0m\u001b[0;34m,\u001b[0m \u001b[0;34m**\u001b[0m\u001b[0mkwargs\u001b[0m\u001b[0;34m)\u001b[0m\u001b[0;34m\u001b[0m\u001b[0m\n\u001b[0m\u001b[1;32m   1574\u001b[0m \u001b[0;34m\u001b[0m\u001b[0m\n\u001b[1;32m   1575\u001b[0m         \u001b[0;32mif\u001b[0m \u001b[0mframeon\u001b[0m\u001b[0;34m:\u001b[0m\u001b[0;34m\u001b[0m\u001b[0m\n",
      "\u001b[0;31mTypeError\u001b[0m: print_figure() missing 1 required positional argument: 'filename'"
     ]
    }
   ],
   "source": [
    "uv=0.0000005\n",
    "ut=0.3\n",
    "\n",
    "I1=mean(np.array([I(ufloat(0.0000055,uv),ufloat(38.56,ut)),I(ufloat(0.0000060,uv),ufloat(40.14,ut)),I(ufloat(0.0000075,uv),ufloat(50.74,ut)),I(ufloat(0.0000080,uv),ufloat(59.79,ut)),I(ufloat(0.0000050,uv),ufloat(31.52,ut))]))\n",
    "I4=mean(np.array([I(ufloat(0.0000085,uv),ufloat(30.50,ut)),I(ufloat(0.0000063,uv),ufloat(20.94,ut)),I(ufloat(0.0000140,uv),ufloat(50.16,ut)),I(ufloat(0.0000125,uv),ufloat(44.89,ut)),I(ufloat(0.0000055,uv),ufloat(18.07,ut))]))\n",
    "I3=mean(np.array([I(ufloat(0.0000097,uv),ufloat(48.52,ut)),I(ufloat(0.0000070,uv),ufloat(34.81,ut)),I(ufloat(0.0000080,uv),ufloat(38.80,ut)),I(ufloat(0.0000055,uv),ufloat(25.58,ut)),I(ufloat(0.0000115,uv),ufloat(57.77,ut))]))\n",
    "I5=mean(np.array([I(ufloat(0.0000130,uv),ufloat(47.28,ut)),I(ufloat(0.0000090,uv),ufloat(32.83,ut)),I(ufloat(0.0000060,uv),ufloat(20.32,ut)),I(ufloat(0.0000117,uv),ufloat(42.32,ut)),I(ufloat(0.0000150,uv),ufloat(54.86,ut))]))\n",
    "I2=mean(np.array([I(ufloat(0.0000050,uv),ufloat(31.09,ut)),I(ufloat(0.0000077,uv),ufloat(56.25,ut)),I(ufloat(0.0000075,uv),ufloat(50.15,ut)),I(ufloat(0.0000070,uv),ufloat(45.27,ut)),I(ufloat(0.0000060,uv),ufloat(38.184,ut))]))\n",
    "\n",
    "print(np.array([I(ufloat(0.0000085,uv),ufloat(30.50,ut)),I(ufloat(0.0000063,uv),ufloat(20.94,ut)),I(ufloat(0.0000140,uv),ufloat(50.16,ut)),I(ufloat(0.0000125,uv),ufloat(44.89,ut)),I(ufloat(0.0000055,uv),ufloat(18.07,ut))]))\n",
    "\n",
    "#Iarrayn=[I1.n,I2.n,I3.n,I4.n,I5.n]\n",
    "#Iarrays=[I1.s,I2.s,I3.s,I4.s,I5.s]\n",
    "\n",
    "Iarrayn=[I1.n,I2.n,I3.n,I5.n]#I5.n,I4.n]\n",
    "Iarrays=[I1.s,I2.s,I3.s,I5.s]#I5.s,I4.s]\n",
    "Iarray=[I1,I2,I3,I5]\n",
    "\n",
    "meanI=mean(Iarray)\n",
    "\n",
    "#darray=[eq2(d1,l1),eq2(d2,l2),eq2(d3,l3),eq2(d4,l4),eq2(d5,l5)]\n",
    "darray=[eq2(d1,l1),eq2(d2,l2),eq2(d3,l3),eq2(d5,l5)]#eq2(d5,l5),eq2(d4,l4)]\n",
    "#darrayn=[eq2(d1,l1).n,eq2(d2,l2).n,eq2(d3,l3).n,eq2(d4,l4).n,eq2(d5,l5).n]\n",
    "#darrays=[eq2(d1,l1).s,eq2(d2,l2).s,eq2(d3,l3).s,eq2(d4,l4).s,eq2(d5,l5).s]\n",
    "\n",
    "#Polynom\n",
    "def fitfunc(x,a,b):\n",
    "    return a*x+b\n",
    "\n",
    "#Fitten\n",
    "xfit=np.linspace(3e-12,8e-12,100)\n",
    "popt,pcov=curve_fit(fitfunc,darray,Iarrayn)\n",
    "a,b=popt\n",
    "c,d=pcov\n",
    "fit=a*xfit+b\n",
    "\n",
    "#Ausgabe\n",
    "plt.plot(xfit,fit,'-',color='orange',label='Lineare Regression')\n",
    "print(np.sqrt(np.diag(pcov)))\n",
    "c=np.sqrt(np.diag(pcov))[0]\n",
    "d=np.sqrt(np.diag(pcov))[1]\n",
    "dfit1=(a+c)*(xfit)+(b-d)\n",
    "dfit2=(a-c)*(xfit)+(b+d)\n",
    "plt.plot(xfit,dfit1,'--',color='orange')\n",
    "plt.plot(xfit,dfit2,'--',color='orange')\n",
    "\n",
    "plt.plot(darray,Iarrayn,'x',label='Messwerte',color='blue')\n",
    "plt.errorbar(x=darray,y=Iarrayn,yerr=Iarrays,fmt='none',label='Fehlerbalken',color='red')\n",
    "\n",
    "plt.grid()\n",
    "fig_size=plt.rcParams[\"figure.figsize\"]\n",
    "fig_size[0]=10\n",
    "fig_size[1]=7.5\n",
    "plt.xlabel(r'$\\frac{d^4}{l}\\ [\\mathrm{m}^3]$',size='15')\n",
    "plt.ylabel(r'$I_V\\ \\left[\\mathrm{\\frac{m^3}{s}}\\right]$',size='15')\n",
    "plt.rcParams[\"figure.figsize\"]=fig_size\n",
    "plt.legend()\n",
    "#plt.savefig(fname='/home/a/Documents/uni/AP1/git/Praktikum-A1/9_8/graph_without_5.png',dpi=300)\n",
    "plt.show()"
   ]
  },
  {
   "cell_type": "code",
   "execution_count": 15,
   "metadata": {},
   "outputs": [
    {
     "name": "stdout",
     "output_type": "stream",
     "text": [
      "[  4.96928415e+03   2.85267694e-08]\n"
     ]
    },
    {
     "ename": "TypeError",
     "evalue": "print_figure() missing 1 required positional argument: 'filename'",
     "output_type": "error",
     "traceback": [
      "\u001b[0;31m---------------------------------------------------------------------------\u001b[0m",
      "\u001b[0;31mTypeError\u001b[0m                                 Traceback (most recent call last)",
      "\u001b[0;32m<ipython-input-15-fbf252efff03>\u001b[0m in \u001b[0;36m<module>\u001b[0;34m()\u001b[0m\n\u001b[1;32m     34\u001b[0m \u001b[0mplt\u001b[0m\u001b[0;34m.\u001b[0m\u001b[0mrcParams\u001b[0m\u001b[0;34m[\u001b[0m\u001b[0;34m\"figure.figsize\"\u001b[0m\u001b[0;34m]\u001b[0m\u001b[0;34m=\u001b[0m\u001b[0mfig_size\u001b[0m\u001b[0;34m\u001b[0m\u001b[0m\n\u001b[1;32m     35\u001b[0m \u001b[0mplt\u001b[0m\u001b[0;34m.\u001b[0m\u001b[0mlegend\u001b[0m\u001b[0;34m(\u001b[0m\u001b[0;34m)\u001b[0m\u001b[0;34m\u001b[0m\u001b[0m\n\u001b[0;32m---> 36\u001b[0;31m \u001b[0mplt\u001b[0m\u001b[0;34m.\u001b[0m\u001b[0msavefig\u001b[0m\u001b[0;34m(\u001b[0m\u001b[0mfname\u001b[0m\u001b[0;34m=\u001b[0m\u001b[0;34m'/Users/Andrez/Documents/gitpups/Praktikum\\ A1/9_8/graph_with_5.png'\u001b[0m\u001b[0;34m,\u001b[0m\u001b[0mdpi\u001b[0m\u001b[0;34m=\u001b[0m\u001b[0;36m300\u001b[0m\u001b[0;34m)\u001b[0m\u001b[0;34m\u001b[0m\u001b[0m\n\u001b[0m\u001b[1;32m     37\u001b[0m \u001b[0mplt\u001b[0m\u001b[0;34m.\u001b[0m\u001b[0mshow\u001b[0m\u001b[0;34m(\u001b[0m\u001b[0;34m)\u001b[0m\u001b[0;34m\u001b[0m\u001b[0m\n",
      "\u001b[0;32m~/anaconda3/lib/python3.6/site-packages/matplotlib/pyplot.py\u001b[0m in \u001b[0;36msavefig\u001b[0;34m(*args, **kwargs)\u001b[0m\n\u001b[1;32m    695\u001b[0m \u001b[0;32mdef\u001b[0m \u001b[0msavefig\u001b[0m\u001b[0;34m(\u001b[0m\u001b[0;34m*\u001b[0m\u001b[0margs\u001b[0m\u001b[0;34m,\u001b[0m \u001b[0;34m**\u001b[0m\u001b[0mkwargs\u001b[0m\u001b[0;34m)\u001b[0m\u001b[0;34m:\u001b[0m\u001b[0;34m\u001b[0m\u001b[0m\n\u001b[1;32m    696\u001b[0m     \u001b[0mfig\u001b[0m \u001b[0;34m=\u001b[0m \u001b[0mgcf\u001b[0m\u001b[0;34m(\u001b[0m\u001b[0;34m)\u001b[0m\u001b[0;34m\u001b[0m\u001b[0m\n\u001b[0;32m--> 697\u001b[0;31m     \u001b[0mres\u001b[0m \u001b[0;34m=\u001b[0m \u001b[0mfig\u001b[0m\u001b[0;34m.\u001b[0m\u001b[0msavefig\u001b[0m\u001b[0;34m(\u001b[0m\u001b[0;34m*\u001b[0m\u001b[0margs\u001b[0m\u001b[0;34m,\u001b[0m \u001b[0;34m**\u001b[0m\u001b[0mkwargs\u001b[0m\u001b[0;34m)\u001b[0m\u001b[0;34m\u001b[0m\u001b[0m\n\u001b[0m\u001b[1;32m    698\u001b[0m     \u001b[0mfig\u001b[0m\u001b[0;34m.\u001b[0m\u001b[0mcanvas\u001b[0m\u001b[0;34m.\u001b[0m\u001b[0mdraw_idle\u001b[0m\u001b[0;34m(\u001b[0m\u001b[0;34m)\u001b[0m   \u001b[0;31m# need this if 'transparent=True' to reset colors\u001b[0m\u001b[0;34m\u001b[0m\u001b[0m\n\u001b[1;32m    699\u001b[0m     \u001b[0;32mreturn\u001b[0m \u001b[0mres\u001b[0m\u001b[0;34m\u001b[0m\u001b[0m\n",
      "\u001b[0;32m~/anaconda3/lib/python3.6/site-packages/matplotlib/figure.py\u001b[0m in \u001b[0;36msavefig\u001b[0;34m(self, *args, **kwargs)\u001b[0m\n\u001b[1;32m   1571\u001b[0m             \u001b[0mself\u001b[0m\u001b[0;34m.\u001b[0m\u001b[0mset_frameon\u001b[0m\u001b[0;34m(\u001b[0m\u001b[0mframeon\u001b[0m\u001b[0;34m)\u001b[0m\u001b[0;34m\u001b[0m\u001b[0m\n\u001b[1;32m   1572\u001b[0m \u001b[0;34m\u001b[0m\u001b[0m\n\u001b[0;32m-> 1573\u001b[0;31m         \u001b[0mself\u001b[0m\u001b[0;34m.\u001b[0m\u001b[0mcanvas\u001b[0m\u001b[0;34m.\u001b[0m\u001b[0mprint_figure\u001b[0m\u001b[0;34m(\u001b[0m\u001b[0;34m*\u001b[0m\u001b[0margs\u001b[0m\u001b[0;34m,\u001b[0m \u001b[0;34m**\u001b[0m\u001b[0mkwargs\u001b[0m\u001b[0;34m)\u001b[0m\u001b[0;34m\u001b[0m\u001b[0m\n\u001b[0m\u001b[1;32m   1574\u001b[0m \u001b[0;34m\u001b[0m\u001b[0m\n\u001b[1;32m   1575\u001b[0m         \u001b[0;32mif\u001b[0m \u001b[0mframeon\u001b[0m\u001b[0;34m:\u001b[0m\u001b[0;34m\u001b[0m\u001b[0m\n",
      "\u001b[0;31mTypeError\u001b[0m: print_figure() missing 1 required positional argument: 'filename'"
     ]
    }
   ],
   "source": [
    "Iarrayn=[I1.n,I2.n,I3.n,I4.n,I5.n]\n",
    "Iarrays=[I1.s,I2.s,I3.s,I4.s,I5.s]\n",
    "Iarray=[I1,I2,I3,I4,I5]\n",
    "\n",
    "meanI=mean(Iarray)\n",
    "\n",
    "darray=[eq2(d1,l1),eq2(d2,l2),eq2(d3,l3),eq2(d4,l4),eq2(d5,l5)]\n",
    "\n",
    "#Fitten\n",
    "popt,pcov=curve_fit(fitfunc,darray,Iarrayn)\n",
    "a,b=popt\n",
    "c,d=pcov\n",
    "fit=a*xfit+b\n",
    "\n",
    "#Ausgabe\n",
    "plt.plot(xfit,fit,'-',color='orange',label='Lineare Regression')\n",
    "print(np.sqrt(np.diag(pcov)))\n",
    "c=np.sqrt(np.diag(pcov))[0]\n",
    "d=np.sqrt(np.diag(pcov))[1]\n",
    "dfit1=(a+c)*(xfit)+(b-d)\n",
    "dfit2=(a-c)*(xfit)+(b+d)\n",
    "plt.plot(xfit,dfit1,'--',color='orange')\n",
    "plt.plot(xfit,dfit2,'--',color='orange')\n",
    "\n",
    "plt.plot(darray,Iarrayn,'x',label='Messwerte',color='blue')\n",
    "plt.errorbar(x=darray,y=Iarrayn,yerr=Iarrays,fmt='none',label='Fehlerbalken',color='red')\n",
    "\n",
    "plt.grid()\n",
    "fig_size=plt.rcParams[\"figure.figsize\"]\n",
    "fig_size[0]=10\n",
    "fig_size[1]=7.5\n",
    "plt.xlabel(r'$\\frac{d^4}{l}\\ [\\mathrm{m}^3]$',size='15')\n",
    "plt.ylabel(r'$I_V\\ \\left[\\mathrm{\\frac{m^3}{s}}\\right]$',size='15')\n",
    "plt.rcParams[\"figure.figsize\"]=fig_size\n",
    "plt.legend()\n",
    "plt.savefig(fname='/home/a/Documents/uni/AP1/git/Praktikum-A1/9_8/graph_with_5.png',dpi=300)\n",
    "plt.show()"
   ]
  },
  {
   "cell_type": "markdown",
   "metadata": {},
   "source": [
    "In der Formel $I_V=\\frac{V}{t}$ haben sowohl $V$ und $t$ Fehler. Wir verwenden hier also die verallgemeinerte Formel f\\\"ur Quotienten:\n",
    "$$\n",
    "\\left\\vert\\frac{\\Delta z}{z}\\right\\vert=\\sqrt{\\left(a\\frac{\\Delta x}{x}\\right)^2+\\left(b\\frac{\\Delta y}{y}\\right)^2+\\ldots}\\textrm{ f\\\"ur }z=x^a\\ y^b\\ldots\n",
    "$$\n",
    "Hier also:\n",
    "$$\n",
    "\\left\\vert\\frac{\\Delta I_V}{I_V}\\right\\vert=\\sqrt{\\left(\\frac{\\Delta V}{V}\\right)^2+\\left(-1\\frac{\\Delta t}{t}\\right)^2}\n",
    "$$\n",
    "Da $\\frac{d^4}{l}$ aus Werten ohne vorhandenem Fehler bestehen, berechnen wir daf\\\"ur keinen Fehler.\n",
    "\n",
    "Um unseren Mittelwert zu berechnen, rechnen wir ganz leicht mit \n",
    "$$\n",
    "\\frac{\\sum_{i=1}^n I{_V_i}}{n}\\label{mean}\n",
    "$$\n",
    "den Nominalwert, und mit\n",
    "$$\n",
    "s_x=\\sqrt{\\frac{1}{n-1}\\sum_{i=1}^n(x_i-\\overline{x})^2}\\label{meanstd}\n",
    "$$\n",
    "die Standardunsichertheit dessen.\n",
    "\n",
    "Unsere Mittelwerte der $I_V$ f\\\"ur jede Position werden dann gegen $\\nicefrac{d^4}{l}$ aufgetragen, siehe Abbildung (\\ref{Abb1}).\n",
    "\n",
    "Da wir jedoch klar erkennen k\\\"onnen, dass $I{_V_4}$ mit der linearen Steigung der anderen Werte nicht \\\"ubereinstimmt, lassen wir diesen Wert weg und erhalten die Gerade, welche in Abbildung (\\ref{Abb2}) gefunden werden kann.\n"
   ]
  },
  {
   "cell_type": "markdown",
   "metadata": {},
   "source": [
    "Um die Steigung der Ausgleichsgeraden zu berechnen, nehmen wir folgende Formel zunutze:\n",
    "$$\n",
    "a=\\frac{\\sum x_i^2\\sum y_i-\\sum x_i\\sum x_iy_i}{n\\sum x_i^2-(\\sum x_i)^2}\n",
    "$$\n"
   ]
  },
  {
   "cell_type": "code",
   "execution_count": 4,
   "metadata": {},
   "outputs": [
    {
     "name": "stdout",
     "output_type": "stream",
     "text": [
      "(2.8+/-0.9)e-08\n"
     ]
    }
   ],
   "source": [
    "def a(x,y):\n",
    "    n=len(x)\n",
    "    return (sum(x**2)*sum(y)-sum(x)*sum(x*y))/(n*sum(x**2)-(sum(x))**2)\n",
    "\n",
    "print(a(np.array(darray),np.array(Iarray)))"
   ]
  },
  {
   "cell_type": "markdown",
   "metadata": {},
   "source": [
    "Wir erhalten als Ergebnis daraus f\\\"ur unser $a$ einen Wert von $(0.014\\pm0.011)\\,\\mathrm{mm}^3$\n",
    "\n",
    "Um aus unseren Werten $\\Delta p$ zu berechnen, verwenden wir\n",
    "$$\n",
    "\\Delta p=\\rho_w hg\n",
    "$$"
   ]
  },
  {
   "cell_type": "code",
   "execution_count": 5,
   "metadata": {},
   "outputs": [
    {
     "name": "stdout",
     "output_type": "stream",
     "text": [
      "1324+/-29\n"
     ]
    }
   ],
   "source": [
    "rho=1000\n",
    "g=9.81\n",
    "\n",
    "def Dp(h):\n",
    "    return rho*h*g\n",
    "\n",
    "print(Dp(ufloat(0.135,0.003)))"
   ]
  },
  {
   "cell_type": "markdown",
   "metadata": {},
   "source": [
    "Da der einzige Wert mit einem Fehler $h$ ist, rechnen wir einfach mit\n",
    "$$\n",
    "\\Delta z=\\left|{\\dif f}{\\dif x}\\right|\\Delta x\\textrm{ f\\\"ur }z=f(x)\n",
    "$$\n",
    "unseren Fehler aus.\n",
    "Mit $\\rho_w=1000\\,\\frac{\\mathrm{kg}}{\\mathrm{m}^3}$, $g=9.81\\,\\frac{\\mathrm{m}}{\\mathrm{s}^2}$ und $h=(135\\pm3)\\,\\mathrm{mm}$ erhalten wir als Wert $\\Delta p=(132\\pm29)\\,$bar."
   ]
  },
  {
   "cell_type": "markdown",
   "metadata": {},
   "source": [
    "Da wir als Endergebnis $\\eta$ wollen, m\\\"ussen wir erstmal die Gleichung (\\ref{hagen}) umstellen und wir erhalten:\n",
    "$$\n",
    "\\eta=\\frac{\\pi R^4\\Delta p}{8I_V l}.\n",
    "$$\n",
    "Hier haben $\\Delta p$ und $I_V$ Fehler. Wir wenden also wieder die Gleichung f\\\"ur Produkte an und erhalten:\n",
    "$$\n",
    "\\left\\vert\\frac{\\Delta\\eta}{\\eta}\\right\\vert=\\sqrt{\\left(\\frac{\\Delta\\Delta p}{\\Delta p}\\right)^2+\\left(-1\\frac{\\Delta I_V}{I_V}\\right)^2}\n",
    "$$"
   ]
  },
  {
   "cell_type": "code",
   "execution_count": 6,
   "metadata": {},
   "outputs": [
    {
     "name": "stdout",
     "output_type": "stream",
     "text": [
      "0.000760+/-0.000033\n",
      "0.00118+/-0.00005\n",
      "0.000881+/-0.000033\n",
      "0.000914+/-0.000031\n",
      "0.000810+/-0.000022\n"
     ]
    }
   ],
   "source": [
    "def eta(R,p,I,l):\n",
    "    return np.pi*R**4*p/(8*I*l)\n",
    "\n",
    "Dep=Dp(ufloat(0.135,0.003))\n",
    "\n",
    "print(eta(d1/2,Dep,I1,l1))\n",
    "print(eta(d2/2,Dep,I2,l3))\n",
    "print(eta(d3/2,Dep,I3,l3))\n",
    "print(eta(d5/2,Dep,I5,l5))\n",
    "\n",
    "print(mean([eta(d1/2,Dep,I1,l1),eta(d2/2,Dep,I2,l2),eta(d4/2,Dep,I4,l4),eta(d5/2,Dep,I5,l5)]))"
   ]
  },
  {
   "cell_type": "markdown",
   "metadata": {},
   "source": [
    "Als Ergebnis f\\\"ur $\\eta$ erhalten wir f\\\"ur unsere vier verwendeten Messreihen:\n",
    "$\\begin{itemize}\n",
    "\\item (0.076\\pm0.017)\\,\\mathrm{\\frac{kg}{ms}}\n",
    "\\item (0.118\\pm0.027)\\,\\mathrm{\\frac{kg}{ms}}\n",
    "\\item (0.088\\pm0.020)\\,\\mathrm{\\frac{kg}{ms}}\n",
    "\\item (0.091\\pm0.020)\\,\\mathrm{\\frac{kg}{ms}}\n",
    "\\end{itemize}\n",
    "$\n",
    "\n",
    "Nutzen wir die Formeln (\\ref{mean}) und (\\ref{meanstd}) um unseren Mittelwert zu bestimmen, so erhalten wir als Standardunsicherheit\n",
    "\\[\n",
    "0.08\\pm0.018\\,\\mathrm{\\frac{kg}{ms}}\n",
    "\\]\n",
    "\n",
    "Als n\\\"achstes betrachten wir den durchschnittlichen Fehler der Messungen und die Streuung:"
   ]
  },
  {
   "cell_type": "code",
   "execution_count": 7,
   "metadata": {},
   "outputs": [
    {
     "name": "stdout",
     "output_type": "stream",
     "text": [
      "6.538968208455213e-09\n",
      "6.04138941992e-08\n"
     ]
    }
   ],
   "source": [
    "print(mean(Iarrays))\n",
    "print(np.std(Iarrayn))"
   ]
  },
  {
   "cell_type": "markdown",
   "metadata": {},
   "source": [
    "Wir erhalten als durchschnittlichen Fehler $0.006\\,$A und als Streuung $0.570\\,$A."
   ]
  },
  {
   "cell_type": "markdown",
   "metadata": {},
   "source": [
    "Anhand der Fehlerbalken ist zu erkennen, dass der Fehler mit zunehmenden $\\frac{d^4}{l}$ steigt. Da die Formel f\\\"ur $I_V$ zu  $\\frac{1}{l}$ und $\\left(\\frac{d}{2}\\right)^2$ proportional ist, aber diese Werte keine statistischen Fehler haben, ist klar, dass dies aufgrund von systematischer Fehler der Fall sein muss. Erstaunlich ist dies nicht, da sowohl $d$ und $l$ vorgegeben worden sind ohne Fehler, wodurch sie systematische Fehler sind.\n",
    "\n"
   ]
  },
  {
   "cell_type": "code",
   "execution_count": null,
   "metadata": {
    "collapsed": true
   },
   "outputs": [],
   "source": []
  }
 ],
 "metadata": {
  "kernelspec": {
   "display_name": "Python 3",
   "language": "python",
   "name": "python3"
  },
  "language_info": {
   "codemirror_mode": {
    "name": "ipython",
    "version": 3
   },
   "file_extension": ".py",
   "mimetype": "text/x-python",
   "name": "python",
   "nbconvert_exporter": "python",
   "pygments_lexer": "ipython3",
   "version": "3.6.2"
  }
 },
 "nbformat": 4,
 "nbformat_minor": 2
}
