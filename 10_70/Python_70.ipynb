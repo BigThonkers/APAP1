{
 "cells": [
  {
   "cell_type": "code",
   "execution_count": 1,
   "metadata": {
    "collapsed": true
   },
   "outputs": [],
   "source": [
    "from uncertainties import ufloat\n",
    "from uncertainties import unumpy as unp\n",
    "import numpy as np\n",
    "import matplotlib.pyplot as plt\n",
    "from scipy.optimize import curve_fit\n",
    "import pandas as pd\n",
    "import THONKtools as THONK"
   ]
  },
  {
   "cell_type": "markdown",
   "metadata": {},
   "source": [
    "#### Offset, Unsicherheit, Lage der Linsenmitte bei grosser Linsenfassung, x Array und Abstand zwischen rechtem Ende und Linsenmitte"
   ]
  },
  {
   "cell_type": "code",
   "execution_count": 69,
   "metadata": {
    "collapsed": true
   },
   "outputs": [],
   "source": [
    "offset=3\n",
    "u=0.3\n",
    "mlarge=3.5\n",
    "xarr=[1,2,3]\n",
    "rm=2"
   ]
  },
  {
   "cell_type": "markdown",
   "metadata": {},
   "source": [
    "#### Einlesen von Messdaten"
   ]
  },
  {
   "cell_type": "code",
   "execution_count": 3,
   "metadata": {},
   "outputs": [],
   "source": [
    "f180=pd.read_csv('measurements/1f80.txt',delimiter='\\t',index_col=None)\n",
    "f180150=pd.read_csv('measurements/1f80+150.txt',delimiter='\\t',index_col=None)\n",
    "f180200=pd.read_csv('measurements/1f80-200.txt',delimiter='\\t',index_col=None)\n",
    "f380200=pd.read_csv('measurements/3f80-200.txt',delimiter='\\t',index_col=None)\n",
    "f320080=pd.read_csv('measurements/3f-200+80.txt',delimiter='\\t',index_col=None)\n",
    "f4=pd.read_csv('measurements/4.txt',delimiter='\\t',index_col=None)"
   ]
  },
  {
   "cell_type": "code",
   "execution_count": 4,
   "metadata": {},
   "outputs": [
    {
     "data": {
      "text/html": [
       "<div>\n",
       "<style>\n",
       "    .dataframe thead tr:only-child th {\n",
       "        text-align: right;\n",
       "    }\n",
       "\n",
       "    .dataframe thead th {\n",
       "        text-align: left;\n",
       "    }\n",
       "\n",
       "    .dataframe tbody tr th {\n",
       "        vertical-align: top;\n",
       "    }\n",
       "</style>\n",
       "<table border=\"1\" class=\"dataframe\">\n",
       "  <thead>\n",
       "    <tr style=\"text-align: right;\">\n",
       "      <th></th>\n",
       "      <th>xgross</th>\n",
       "      <th>xschirm</th>\n",
       "      <th>xklein</th>\n",
       "    </tr>\n",
       "  </thead>\n",
       "  <tbody>\n",
       "    <tr>\n",
       "      <th>0</th>\n",
       "      <td>21.2</td>\n",
       "      <td>67.7</td>\n",
       "      <td>56.2</td>\n",
       "    </tr>\n",
       "    <tr>\n",
       "      <th>1</th>\n",
       "      <td>21.7</td>\n",
       "      <td>57.3</td>\n",
       "      <td>45.0</td>\n",
       "    </tr>\n",
       "    <tr>\n",
       "      <th>2</th>\n",
       "      <td>22.4</td>\n",
       "      <td>53.9</td>\n",
       "      <td>41.3</td>\n",
       "    </tr>\n",
       "    <tr>\n",
       "      <th>3</th>\n",
       "      <td>20.7</td>\n",
       "      <td>85.9</td>\n",
       "      <td>75.1</td>\n",
       "    </tr>\n",
       "    <tr>\n",
       "      <th>4</th>\n",
       "      <td>20.9</td>\n",
       "      <td>76.5</td>\n",
       "      <td>65.4</td>\n",
       "    </tr>\n",
       "  </tbody>\n",
       "</table>\n",
       "</div>"
      ],
      "text/plain": [
       "   xgross  xschirm  xklein\n",
       "0    21.2     67.7    56.2\n",
       "1    21.7     57.3    45.0\n",
       "2    22.4     53.9    41.3\n",
       "3    20.7     85.9    75.1\n",
       "4    20.9     76.5    65.4"
      ]
     },
     "execution_count": 4,
     "metadata": {},
     "output_type": "execute_result"
    }
   ],
   "source": [
    "f180"
   ]
  },
  {
   "cell_type": "code",
   "execution_count": 5,
   "metadata": {},
   "outputs": [
    {
     "data": {
      "text/html": [
       "<div>\n",
       "<style>\n",
       "    .dataframe thead tr:only-child th {\n",
       "        text-align: right;\n",
       "    }\n",
       "\n",
       "    .dataframe thead th {\n",
       "        text-align: left;\n",
       "    }\n",
       "\n",
       "    .dataframe tbody tr th {\n",
       "        vertical-align: top;\n",
       "    }\n",
       "</style>\n",
       "<table border=\"1\" class=\"dataframe\">\n",
       "  <thead>\n",
       "    <tr style=\"text-align: right;\">\n",
       "      <th></th>\n",
       "      <th>xgross</th>\n",
       "      <th>xschirm</th>\n",
       "      <th>xklein</th>\n",
       "    </tr>\n",
       "  </thead>\n",
       "  <tbody>\n",
       "    <tr>\n",
       "      <th>0</th>\n",
       "      <td>17.00</td>\n",
       "      <td>76.5</td>\n",
       "      <td>68.0</td>\n",
       "    </tr>\n",
       "    <tr>\n",
       "      <th>1</th>\n",
       "      <td>17.30</td>\n",
       "      <td>69.2</td>\n",
       "      <td>60.6</td>\n",
       "    </tr>\n",
       "    <tr>\n",
       "      <th>2</th>\n",
       "      <td>17.45</td>\n",
       "      <td>66.9</td>\n",
       "      <td>58.3</td>\n",
       "    </tr>\n",
       "    <tr>\n",
       "      <th>3</th>\n",
       "      <td>17.10</td>\n",
       "      <td>72.3</td>\n",
       "      <td>63.7</td>\n",
       "    </tr>\n",
       "    <tr>\n",
       "      <th>4</th>\n",
       "      <td>17.00</td>\n",
       "      <td>79.8</td>\n",
       "      <td>71.3</td>\n",
       "    </tr>\n",
       "  </tbody>\n",
       "</table>\n",
       "</div>"
      ],
      "text/plain": [
       "   xgross  xschirm  xklein\n",
       "0   17.00     76.5    68.0\n",
       "1   17.30     69.2    60.6\n",
       "2   17.45     66.9    58.3\n",
       "3   17.10     72.3    63.7\n",
       "4   17.00     79.8    71.3"
      ]
     },
     "execution_count": 5,
     "metadata": {},
     "output_type": "execute_result"
    }
   ],
   "source": [
    "f180150"
   ]
  },
  {
   "cell_type": "code",
   "execution_count": 6,
   "metadata": {},
   "outputs": [
    {
     "data": {
      "text/html": [
       "<div>\n",
       "<style>\n",
       "    .dataframe thead tr:only-child th {\n",
       "        text-align: right;\n",
       "    }\n",
       "\n",
       "    .dataframe thead th {\n",
       "        text-align: left;\n",
       "    }\n",
       "\n",
       "    .dataframe tbody tr th {\n",
       "        vertical-align: top;\n",
       "    }\n",
       "</style>\n",
       "<table border=\"1\" class=\"dataframe\">\n",
       "  <thead>\n",
       "    <tr style=\"text-align: right;\">\n",
       "      <th></th>\n",
       "      <th>xgross</th>\n",
       "      <th>xschirm</th>\n",
       "      <th>xklein</th>\n",
       "    </tr>\n",
       "  </thead>\n",
       "  <tbody>\n",
       "    <tr>\n",
       "      <th>0</th>\n",
       "      <td>27.8</td>\n",
       "      <td>76.5</td>\n",
       "      <td>60.2</td>\n",
       "    </tr>\n",
       "    <tr>\n",
       "      <th>1</th>\n",
       "      <td>29.0</td>\n",
       "      <td>70.0</td>\n",
       "      <td>52.7</td>\n",
       "    </tr>\n",
       "    <tr>\n",
       "      <th>2</th>\n",
       "      <td>27.5</td>\n",
       "      <td>80.2</td>\n",
       "      <td>54.3</td>\n",
       "    </tr>\n",
       "    <tr>\n",
       "      <th>3</th>\n",
       "      <td>27.1</td>\n",
       "      <td>86.0</td>\n",
       "      <td>70.6</td>\n",
       "    </tr>\n",
       "    <tr>\n",
       "      <th>4</th>\n",
       "      <td>29.0</td>\n",
       "      <td>69.0</td>\n",
       "      <td>51.5</td>\n",
       "    </tr>\n",
       "  </tbody>\n",
       "</table>\n",
       "</div>"
      ],
      "text/plain": [
       "   xgross  xschirm  xklein\n",
       "0    27.8     76.5    60.2\n",
       "1    29.0     70.0    52.7\n",
       "2    27.5     80.2    54.3\n",
       "3    27.1     86.0    70.6\n",
       "4    29.0     69.0    51.5"
      ]
     },
     "execution_count": 6,
     "metadata": {},
     "output_type": "execute_result"
    }
   ],
   "source": [
    "f180200"
   ]
  },
  {
   "cell_type": "markdown",
   "metadata": {},
   "source": [
    "# ---"
   ]
  },
  {
   "cell_type": "code",
   "execution_count": 7,
   "metadata": {},
   "outputs": [
    {
     "data": {
      "text/html": [
       "<div>\n",
       "<style>\n",
       "    .dataframe thead tr:only-child th {\n",
       "        text-align: right;\n",
       "    }\n",
       "\n",
       "    .dataframe thead th {\n",
       "        text-align: left;\n",
       "    }\n",
       "\n",
       "    .dataframe tbody tr th {\n",
       "        vertical-align: top;\n",
       "    }\n",
       "</style>\n",
       "<table border=\"1\" class=\"dataframe\">\n",
       "  <thead>\n",
       "    <tr style=\"text-align: right;\">\n",
       "      <th></th>\n",
       "      <th>xgross</th>\n",
       "      <th>xschirm</th>\n",
       "      <th>xklein</th>\n",
       "    </tr>\n",
       "  </thead>\n",
       "  <tbody>\n",
       "    <tr>\n",
       "      <th>0</th>\n",
       "      <td>29.4</td>\n",
       "      <td>69.0</td>\n",
       "      <td>15.5</td>\n",
       "    </tr>\n",
       "    <tr>\n",
       "      <th>1</th>\n",
       "      <td>28.3</td>\n",
       "      <td>73.5</td>\n",
       "      <td>19.1</td>\n",
       "    </tr>\n",
       "    <tr>\n",
       "      <th>2</th>\n",
       "      <td>27.5</td>\n",
       "      <td>80.8</td>\n",
       "      <td>23.5</td>\n",
       "    </tr>\n",
       "    <tr>\n",
       "      <th>3</th>\n",
       "      <td>26.9</td>\n",
       "      <td>88.4</td>\n",
       "      <td>29.0</td>\n",
       "    </tr>\n",
       "    <tr>\n",
       "      <th>4</th>\n",
       "      <td>26.8</td>\n",
       "      <td>93.0</td>\n",
       "      <td>32.5</td>\n",
       "    </tr>\n",
       "    <tr>\n",
       "      <th>5</th>\n",
       "      <td>26.6</td>\n",
       "      <td>97.1</td>\n",
       "      <td>34.0</td>\n",
       "    </tr>\n",
       "    <tr>\n",
       "      <th>6</th>\n",
       "      <td>26.1</td>\n",
       "      <td>106.8</td>\n",
       "      <td>40.0</td>\n",
       "    </tr>\n",
       "    <tr>\n",
       "      <th>7</th>\n",
       "      <td>26.0</td>\n",
       "      <td>116.0</td>\n",
       "      <td>46.0</td>\n",
       "    </tr>\n",
       "    <tr>\n",
       "      <th>8</th>\n",
       "      <td>25.8</td>\n",
       "      <td>128.6</td>\n",
       "      <td>53.5</td>\n",
       "    </tr>\n",
       "    <tr>\n",
       "      <th>9</th>\n",
       "      <td>25.7</td>\n",
       "      <td>137.3</td>\n",
       "      <td>59.0</td>\n",
       "    </tr>\n",
       "  </tbody>\n",
       "</table>\n",
       "</div>"
      ],
      "text/plain": [
       "   xgross  xschirm  xklein\n",
       "0    29.4     69.0    15.5\n",
       "1    28.3     73.5    19.1\n",
       "2    27.5     80.8    23.5\n",
       "3    26.9     88.4    29.0\n",
       "4    26.8     93.0    32.5\n",
       "5    26.6     97.1    34.0\n",
       "6    26.1    106.8    40.0\n",
       "7    26.0    116.0    46.0\n",
       "8    25.8    128.6    53.5\n",
       "9    25.7    137.3    59.0"
      ]
     },
     "execution_count": 7,
     "metadata": {},
     "output_type": "execute_result"
    }
   ],
   "source": [
    "f380200"
   ]
  },
  {
   "cell_type": "code",
   "execution_count": 8,
   "metadata": {},
   "outputs": [
    {
     "data": {
      "text/html": [
       "<div>\n",
       "<style>\n",
       "    .dataframe thead tr:only-child th {\n",
       "        text-align: right;\n",
       "    }\n",
       "\n",
       "    .dataframe thead th {\n",
       "        text-align: left;\n",
       "    }\n",
       "\n",
       "    .dataframe tbody tr th {\n",
       "        vertical-align: top;\n",
       "    }\n",
       "</style>\n",
       "<table border=\"1\" class=\"dataframe\">\n",
       "  <thead>\n",
       "    <tr style=\"text-align: right;\">\n",
       "      <th></th>\n",
       "      <th>xgross</th>\n",
       "      <th>xschirm</th>\n",
       "      <th>xklein</th>\n",
       "    </tr>\n",
       "  </thead>\n",
       "  <tbody>\n",
       "    <tr>\n",
       "      <th>0</th>\n",
       "      <td>25.0</td>\n",
       "      <td>69.0</td>\n",
       "      <td>17.0</td>\n",
       "    </tr>\n",
       "    <tr>\n",
       "      <th>1</th>\n",
       "      <td>24.1</td>\n",
       "      <td>75.0</td>\n",
       "      <td>21.0</td>\n",
       "    </tr>\n",
       "    <tr>\n",
       "      <th>2</th>\n",
       "      <td>23.5</td>\n",
       "      <td>81.4</td>\n",
       "      <td>25.0</td>\n",
       "    </tr>\n",
       "    <tr>\n",
       "      <th>3</th>\n",
       "      <td>23.1</td>\n",
       "      <td>88.3</td>\n",
       "      <td>29.0</td>\n",
       "    </tr>\n",
       "    <tr>\n",
       "      <th>4</th>\n",
       "      <td>22.6</td>\n",
       "      <td>96.9</td>\n",
       "      <td>35.0</td>\n",
       "    </tr>\n",
       "    <tr>\n",
       "      <th>5</th>\n",
       "      <td>22.2</td>\n",
       "      <td>108.4</td>\n",
       "      <td>42.0</td>\n",
       "    </tr>\n",
       "    <tr>\n",
       "      <th>6</th>\n",
       "      <td>22.1</td>\n",
       "      <td>122.1</td>\n",
       "      <td>49.5</td>\n",
       "    </tr>\n",
       "    <tr>\n",
       "      <th>7</th>\n",
       "      <td>21.7</td>\n",
       "      <td>128.4</td>\n",
       "      <td>53.5</td>\n",
       "    </tr>\n",
       "    <tr>\n",
       "      <th>8</th>\n",
       "      <td>21.7</td>\n",
       "      <td>135.0</td>\n",
       "      <td>57.5</td>\n",
       "    </tr>\n",
       "    <tr>\n",
       "      <th>9</th>\n",
       "      <td>21.4</td>\n",
       "      <td>147.0</td>\n",
       "      <td>65.0</td>\n",
       "    </tr>\n",
       "  </tbody>\n",
       "</table>\n",
       "</div>"
      ],
      "text/plain": [
       "   xgross  xschirm  xklein\n",
       "0    25.0     69.0    17.0\n",
       "1    24.1     75.0    21.0\n",
       "2    23.5     81.4    25.0\n",
       "3    23.1     88.3    29.0\n",
       "4    22.6     96.9    35.0\n",
       "5    22.2    108.4    42.0\n",
       "6    22.1    122.1    49.5\n",
       "7    21.7    128.4    53.5\n",
       "8    21.7    135.0    57.5\n",
       "9    21.4    147.0    65.0"
      ]
     },
     "execution_count": 8,
     "metadata": {},
     "output_type": "execute_result"
    }
   ],
   "source": [
    "f320080"
   ]
  },
  {
   "cell_type": "markdown",
   "metadata": {},
   "source": [
    "# ---"
   ]
  },
  {
   "cell_type": "code",
   "execution_count": 98,
   "metadata": {},
   "outputs": [
    {
     "data": {
      "text/html": [
       "<div>\n",
       "<style>\n",
       "    .dataframe thead tr:only-child th {\n",
       "        text-align: right;\n",
       "    }\n",
       "\n",
       "    .dataframe thead th {\n",
       "        text-align: left;\n",
       "    }\n",
       "\n",
       "    .dataframe tbody tr th {\n",
       "        vertical-align: top;\n",
       "    }\n",
       "</style>\n",
       "<table border=\"1\" class=\"dataframe\">\n",
       "  <thead>\n",
       "    <tr style=\"text-align: right;\">\n",
       "      <th></th>\n",
       "      <th>lense</th>\n",
       "      <th>distance</th>\n",
       "    </tr>\n",
       "  </thead>\n",
       "  <tbody>\n",
       "    <tr>\n",
       "      <th>0</th>\n",
       "      <td>0+80</td>\n",
       "      <td>17.4</td>\n",
       "    </tr>\n",
       "    <tr>\n",
       "      <th>1</th>\n",
       "      <td>0+150</td>\n",
       "      <td>24.3</td>\n",
       "    </tr>\n",
       "    <tr>\n",
       "      <th>2</th>\n",
       "      <td>80+150</td>\n",
       "      <td>16.5</td>\n",
       "    </tr>\n",
       "    <tr>\n",
       "      <th>3</th>\n",
       "      <td>80-200</td>\n",
       "      <td>24.0</td>\n",
       "    </tr>\n",
       "    <tr>\n",
       "      <th>4</th>\n",
       "      <td>-200+80</td>\n",
       "      <td>20.1</td>\n",
       "    </tr>\n",
       "    <tr>\n",
       "      <th>5</th>\n",
       "      <td>250 w</td>\n",
       "      <td>36.8</td>\n",
       "    </tr>\n",
       "    <tr>\n",
       "      <th>6</th>\n",
       "      <td>250 b</td>\n",
       "      <td>36.4</td>\n",
       "    </tr>\n",
       "    <tr>\n",
       "      <th>7</th>\n",
       "      <td>250 r</td>\n",
       "      <td>36.9</td>\n",
       "    </tr>\n",
       "  </tbody>\n",
       "</table>\n",
       "</div>"
      ],
      "text/plain": [
       "     lense  distance\n",
       "0     0+80      17.4\n",
       "1    0+150      24.3\n",
       "2   80+150      16.5\n",
       "3   80-200      24.0\n",
       "4  -200+80      20.1\n",
       "5    250 w      36.8\n",
       "6    250 b      36.4\n",
       "7    250 r      36.9"
      ]
     },
     "execution_count": 98,
     "metadata": {},
     "output_type": "execute_result"
    }
   ],
   "source": [
    "f4"
   ]
  },
  {
   "cell_type": "markdown",
   "metadata": {},
   "source": [
    "### Auftragen von $\\frac{1}{b}$ gegen $\\frac{1}{g}$"
   ]
  },
  {
   "cell_type": "code",
   "execution_count": 102,
   "metadata": {
    "scrolled": false
   },
   "outputs": [
    {
     "data": {
      "image/png": "[encoded data removed]",
      "text/plain": [
       "<matplotlib.figure.Figure at 0x2adc88fe4a8>"
      ]
     },
     "metadata": {},
     "output_type": "display_data"
    }
   ],
   "source": [
    "x180=[1/x for x in sorted(np.array(f180.xschirm)-rm)]\n",
    "y180s=[1/x for x in sorted(np.array(f180.xklein)-rm)][::-1]\n",
    "y180l=[1/x for x in sorted(np.array(f180.xgross)-rm)][::-1]\n",
    "plt.plot(x180,y180s,color='green',label=r'$f=80\\,\\mathrm{mm\\ klein}$')\n",
    "plt.plot(x180,y180l,color='lightgreen',label=r'$f=80\\,\\mathrm{mm\\ gro\\ss}$')\n",
    "x180e=unp.std_devs([1/x for x in unp.uarray(np.sort(f180.xschirm)-rm,u)])\n",
    "y180se=unp.std_devs([1/x for x in unp.uarray(np.sort(f180.xklein)-rm,u)])\n",
    "y180le=unp.std_devs([1/x for x in unp.uarray(np.sort(f180.xgross)-rm,u)])\n",
    "plt.errorbar(x180,y180s,xerr=x180e,yerr=y180se,fmt='+',color='green')\n",
    "plt.errorbar(x180,y180l,xerr=x180e,yerr=y180le,fmt='+',color='lightgreen')\n",
    "\n",
    "x180150=[1/x for x in sorted(np.array(f180150.xschirm)-rm)]\n",
    "y180150s=[1/x for x in sorted(np.array(f180150.xklein)-rm)][::-1]\n",
    "y180150l=[1/x for x in sorted(np.array(f180150.xgross)-rm)][::-1]\n",
    "plt.plot(x180150,y180150s,color='blue',label=r'$f=80,150\\,\\mathrm{mm\\ klein}$')\n",
    "plt.plot(x180150,y180150l,color='lightblue',label=r'$f=80,150\\,\\mathrm{mm\\ gro\\ss}$')\n",
    "x180150e=unp.std_devs([1/x for x in unp.uarray(np.sort(f180150.xschirm)-rm,u)])\n",
    "y180150se=unp.std_devs([1/x for x in unp.uarray(np.sort(f180150.xklein)-rm,u)])\n",
    "y180150le=unp.std_devs([1/x for x in unp.uarray(np.sort(f180150.xgross)-rm,u)])\n",
    "plt.errorbar(x180150,y180150s,xerr=x180150e,yerr=y180150se,fmt='+',color='blue')\n",
    "plt.errorbar(x180150,y180150l,xerr=x180150e,yerr=y180150le,fmt='+',color='lightblue')\n",
    "\n",
    "x180200=[1/x for x in sorted(np.array(f180200.xschirm)-rm)]\n",
    "y180200s=[1/x for x in sorted(np.array(f180200.xklein)-rm)][::-1]\n",
    "y180200l=[1/x for x in sorted(np.array(f180200.xgross)-rm)][::-1]\n",
    "plt.plot(x180200,y180200s,color='darkred',label=r'$f=80,-200\\,\\mathrm{mm\\ klein}$')\n",
    "plt.plot(x180200,y180200l,color='red',label=r'$f=80,-200\\,\\mathrm{mm\\ gro\\ss}$')\n",
    "x180200e=unp.std_devs([1/x for x in unp.uarray(np.sort(f180200.xschirm)-rm,u)])\n",
    "y180200se=unp.std_devs([1/x for x in unp.uarray(np.sort(f180200.xklein)-rm,u)])\n",
    "y180200le=unp.std_devs([1/x for x in unp.uarray(np.sort(f180200.xgross)-rm,u)])\n",
    "plt.errorbar(x180200,y180200s,xerr=x180200e,yerr=y180200se,fmt='+',color='darkred')\n",
    "plt.errorbar(x180200,y180200l,xerr=x180200e,yerr=y180200le,fmt='+',color='red')\n",
    "\n",
    "def comp(f,g):\n",
    "    return 1/f-1/g\n",
    "\n",
    "ycomp80=[comp(80,x) for x in sorted(np.array(f180.xschirm)-rm)]\n",
    "plt.plot(x180,ycomp80,'--',color='darkgreen',label=r'Vergleichsgerade $f=80\\,\\mathrm{mm}$')\n",
    "\n",
    "def comp2(f1,f2,g):\n",
    "    return (1/f1+1/f2)-1/g\n",
    "\n",
    "ycomp80150=[comp2(80,150,x) for x in sorted(np.array(f180150.xschirm)-rm)]\n",
    "plt.plot(x180150,ycomp80150,'--',color='darkblue',label=r'Vergleichsgerade $f=80,150\\,\\mathrm{mm}$')\n",
    "\n",
    "ycomp80200=[comp2(80,200,x) for x in sorted(np.array(f180200.xschirm)-rm)]\n",
    "plt.plot(x180200,ycomp80200,'--',color='purple',label=r'Vergleichsgerade $f=80,-200\\,\\mathrm{mm}$')\n",
    "\n",
    "plt.legend()\n",
    "fig_size=plt.rcParams[\"figure.figsize\"]\n",
    "fig_size[0]=10\n",
    "fig_size[1]=7.5\n",
    "plt.xlabel(r'$\\frac{1}{g}\\ \\left[\\frac{1}{\\mathrm{cm}}\\right]$',size='15')\n",
    "plt.ylabel(r'$\\frac{1}{b}\\ \\left[\\frac{1}{\\mathrm{cm}}\\right]$',size='15')\n",
    "plt.rcParams[\"figure.figsize\"]=fig_size\n",
    "plt.grid()\n",
    "plt.show()"
   ]
  },
  {
   "cell_type": "markdown",
   "metadata": {},
   "source": [
    "## Bessel-Verfahren"
   ]
  },
  {
   "cell_type": "code",
   "execution_count": 44,
   "metadata": {
    "collapsed": true
   },
   "outputs": [],
   "source": [
    "def f(e,s):\n",
    "    return (s**2-e**2)/(4*s)"
   ]
  },
  {
   "cell_type": "code",
   "execution_count": 113,
   "metadata": {},
   "outputs": [
    {
     "name": "stdout",
     "output_type": "stream",
     "text": [
      "8.16+/-0.17\n",
      "5.80+/-0.19\n",
      "12.32+/-0.14\n"
     ]
    }
   ],
   "source": [
    "e180=unp.uarray((f180.xklein-rm),u)-unp.uarray((f180.xgross-rm),u)\n",
    "s180=unp.uarray((f180.xschirm),u)-unp.uarray([9.7],u)-ufloat(offset,u)\n",
    "print(THONK.mean(f(e180,s180)))\n",
    "\n",
    "e180150=-unp.uarray((f180150.xgross-rm),u)+unp.uarray((f180150.xklein-rm),u)\n",
    "s180150=unp.uarray((f180150.xschirm),u)-unp.uarray([9.7],u)-ufloat(offset,u)\n",
    "print(THONK.mean(f(e180150,s180150)))\n",
    "\n",
    "e180200=-unp.uarray((f180200.xgross-rm),u)+unp.uarray((f180200.xklein-rm),u)\n",
    "s180200=unp.uarray((f180200.xschirm),u)-unp.uarray([9.7],u)-ufloat(offset,u)\n",
    "print(THONK.mean(f(e180200,s180200)))"
   ]
  },
  {
   "cell_type": "code",
   "execution_count": 86,
   "metadata": {
    "scrolled": true
   },
   "outputs": [
    {
     "name": "stdout",
     "output_type": "stream",
     "text": [
      "8\n",
      "5.714285714285714\n",
      "11.428571428571429\n"
     ]
    }
   ],
   "source": [
    "print(8)\n",
    "print(((1/8)+(1/15)-(2/(8*15)))**(-1))\n",
    "print(((1/8)-(1/20)-(2/(8*-20)))**(-1))"
   ]
  },
  {
   "cell_type": "code",
   "execution_count": 96,
   "metadata": {},
   "outputs": [
    {
     "data": {
      "text/plain": [
       "array([17.278767876787683+/-0.1675502389762802,\n",
       "       16.765555555555558+/-0.15230860422654438,\n",
       "       16.796424010217113+/-0.14511363220641785,\n",
       "       17.955156537753226+/-0.18815004717932532,\n",
       "       17.62424547283702+/-0.17840540504640595], dtype=object)"
      ]
     },
     "execution_count": 96,
     "metadata": {},
     "output_type": "execute_result"
    }
   ],
   "source": [
    "def f1(g,b):\n",
    "    return ((g+b)**2-(g-b)**2)/(4*(g+b))\n",
    "f1(unp.uarray((f180.xschirm),u),unp.uarray((f180.xgross+rm),u))"
   ]
  },
  {
   "cell_type": "markdown",
   "metadata": {},
   "source": [
    "## Abbe-Verfahren"
   ]
  },
  {
   "cell_type": "code",
   "execution_count": null,
   "metadata": {
    "collapsed": true
   },
   "outputs": [],
   "source": []
  },
  {
   "cell_type": "code",
   "execution_count": null,
   "metadata": {
    "collapsed": true
   },
   "outputs": [],
   "source": []
  },
  {
   "cell_type": "code",
   "execution_count": null,
   "metadata": {
    "collapsed": true
   },
   "outputs": [],
   "source": []
  },
  {
   "cell_type": "code",
   "execution_count": null,
   "metadata": {
    "collapsed": true
   },
   "outputs": [],
   "source": []
  },
  {
   "cell_type": "code",
   "execution_count": null,
   "metadata": {
    "collapsed": true
   },
   "outputs": [],
   "source": []
  },
  {
   "cell_type": "code",
   "execution_count": null,
   "metadata": {
    "collapsed": true
   },
   "outputs": [],
   "source": []
  }
 ],
 "metadata": {
  "kernelspec": {
   "display_name": "Python 3",
   "language": "python",
   "name": "python3"
  },
  "language_info": {
   "codemirror_mode": {
    "name": "ipython",
    "version": 3
   },
   "file_extension": ".py",
   "mimetype": "text/x-python",
   "name": "python",
   "nbconvert_exporter": "python",
   "pygments_lexer": "ipython3",
   "version": "3.6.3"
  }
 },
 "nbformat": 4,
 "nbformat_minor": 2
}
