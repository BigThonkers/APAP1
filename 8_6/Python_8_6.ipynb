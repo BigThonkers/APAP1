{
 "cells": [
  {
   "cell_type": "code",
   "execution_count": 1,
   "metadata": {},
   "outputs": [],
   "source": [
    "from uncertainties import ufloat\n",
    "from uncertainties import unumpy as unp\n",
    "import numpy as np\n",
    "import matplotlib.pyplot as plt\n",
    "from scipy.optimize import curve_fit\n",
    "import pandas as pd"
   ]
  },
  {
   "cell_type": "code",
   "execution_count": 2,
   "metadata": {},
   "outputs": [
    {
     "data": {
      "text/html": [
       "<div>\n",
       "<style scoped>\n",
       "    .dataframe tbody tr th:only-of-type {\n",
       "        vertical-align: middle;\n",
       "    }\n",
       "\n",
       "    .dataframe tbody tr th {\n",
       "        vertical-align: top;\n",
       "    }\n",
       "\n",
       "    .dataframe thead th {\n",
       "        text-align: right;\n",
       "    }\n",
       "</style>\n",
       "<table border=\"1\" class=\"dataframe\">\n",
       "  <thead>\n",
       "    <tr style=\"text-align: right;\">\n",
       "      <th></th>\n",
       "      <th>Name</th>\n",
       "      <th>Masse</th>\n",
       "    </tr>\n",
       "  </thead>\n",
       "  <tbody>\n",
       "    <tr>\n",
       "      <th>0</th>\n",
       "      <td>y050</td>\n",
       "      <td>49.98</td>\n",
       "    </tr>\n",
       "    <tr>\n",
       "      <th>1</th>\n",
       "      <td>y100</td>\n",
       "      <td>100.01</td>\n",
       "    </tr>\n",
       "    <tr>\n",
       "      <th>2</th>\n",
       "      <td>y200</td>\n",
       "      <td>199.56</td>\n",
       "    </tr>\n",
       "    <tr>\n",
       "      <th>3</th>\n",
       "      <td>s050</td>\n",
       "      <td>50.02</td>\n",
       "    </tr>\n",
       "    <tr>\n",
       "      <th>4</th>\n",
       "      <td>s100</td>\n",
       "      <td>100.00</td>\n",
       "    </tr>\n",
       "    <tr>\n",
       "      <th>5</th>\n",
       "      <td>s200</td>\n",
       "      <td>199.90</td>\n",
       "    </tr>\n",
       "    <tr>\n",
       "      <th>6</th>\n",
       "      <td>p050</td>\n",
       "      <td>49.96</td>\n",
       "    </tr>\n",
       "    <tr>\n",
       "      <th>7</th>\n",
       "      <td>p100</td>\n",
       "      <td>99.96</td>\n",
       "    </tr>\n",
       "    <tr>\n",
       "      <th>8</th>\n",
       "      <td>p200</td>\n",
       "      <td>199.71</td>\n",
       "    </tr>\n",
       "  </tbody>\n",
       "</table>\n",
       "</div>"
      ],
      "text/plain": [
       "   Name   Masse\n",
       "0  y050   49.98\n",
       "1  y100  100.01\n",
       "2  y200  199.56\n",
       "3  s050   50.02\n",
       "4  s100  100.00\n",
       "5  s200  199.90\n",
       "6  p050   49.96\n",
       "7  p100   99.96\n",
       "8  p200  199.71"
      ]
     },
     "execution_count": 2,
     "metadata": {},
     "output_type": "execute_result"
    }
   ],
   "source": [
    "um=0.05/1000\n",
    "ub=0.05/100\n",
    "us=0.03/1000\n",
    "ud=0.005/1000\n",
    "weights=pd.read_csv('weights',decimal='.',delimiter='\\t')\n",
    "warr=unp.uarray(weights.Masse,um)\n",
    "weights"
   ]
  },
  {
   "cell_type": "code",
   "execution_count": 3,
   "metadata": {},
   "outputs": [
    {
     "data": {
      "text/html": [
       "<div>\n",
       "<style scoped>\n",
       "    .dataframe tbody tr th:only-of-type {\n",
       "        vertical-align: middle;\n",
       "    }\n",
       "\n",
       "    .dataframe tbody tr th {\n",
       "        vertical-align: top;\n",
       "    }\n",
       "\n",
       "    .dataframe thead th {\n",
       "        text-align: right;\n",
       "    }\n",
       "</style>\n",
       "<table border=\"1\" class=\"dataframe\">\n",
       "  <thead>\n",
       "    <tr style=\"text-align: right;\">\n",
       "      <th></th>\n",
       "      <th>Bieghoehe_1</th>\n",
       "      <th>Bieghoehe_2</th>\n",
       "      <th>Bieghoehe_3</th>\n",
       "      <th>Bieghoehe_4</th>\n",
       "    </tr>\n",
       "    <tr>\n",
       "      <th>Gewicht</th>\n",
       "      <th></th>\n",
       "      <th></th>\n",
       "      <th></th>\n",
       "      <th></th>\n",
       "    </tr>\n",
       "  </thead>\n",
       "  <tbody>\n",
       "    <tr>\n",
       "      <th>y100</th>\n",
       "      <td>0.11</td>\n",
       "      <td>0.12</td>\n",
       "      <td>0.10</td>\n",
       "      <td>0.12</td>\n",
       "    </tr>\n",
       "    <tr>\n",
       "      <th>y100+s100</th>\n",
       "      <td>0.24</td>\n",
       "      <td>0.23</td>\n",
       "      <td>0.23</td>\n",
       "      <td>0.23</td>\n",
       "    </tr>\n",
       "    <tr>\n",
       "      <th>y100+s100+p100</th>\n",
       "      <td>0.36</td>\n",
       "      <td>0.35</td>\n",
       "      <td>0.34</td>\n",
       "      <td>0.35</td>\n",
       "    </tr>\n",
       "    <tr>\n",
       "      <th>p200+y200</th>\n",
       "      <td>0.47</td>\n",
       "      <td>0.47</td>\n",
       "      <td>0.48</td>\n",
       "      <td>0.49</td>\n",
       "    </tr>\n",
       "    <tr>\n",
       "      <th>p100+p200+y200</th>\n",
       "      <td>0.60</td>\n",
       "      <td>0.59</td>\n",
       "      <td>0.59</td>\n",
       "      <td>0.61</td>\n",
       "    </tr>\n",
       "    <tr>\n",
       "      <th>p100+s100+p200+y200</th>\n",
       "      <td>0.71</td>\n",
       "      <td>0.72</td>\n",
       "      <td>0.72</td>\n",
       "      <td>0.73</td>\n",
       "    </tr>\n",
       "    <tr>\n",
       "      <th>p100+s100+p200+y200+y100</th>\n",
       "      <td>0.83</td>\n",
       "      <td>0.83</td>\n",
       "      <td>0.83</td>\n",
       "      <td>0.85</td>\n",
       "    </tr>\n",
       "    <tr>\n",
       "      <th>y100+s100+s200+p200+y200</th>\n",
       "      <td>0.95</td>\n",
       "      <td>0.95</td>\n",
       "      <td>0.95</td>\n",
       "      <td>0.93</td>\n",
       "    </tr>\n",
       "    <tr>\n",
       "      <th>y100+s100+s200+p200+y200+p100</th>\n",
       "      <td>1.07</td>\n",
       "      <td>1.07</td>\n",
       "      <td>1.07</td>\n",
       "      <td>1.05</td>\n",
       "    </tr>\n",
       "    <tr>\n",
       "      <th>y100+s100+s200+p200+y200+p100+y050+s050</th>\n",
       "      <td>1.19</td>\n",
       "      <td>1.19</td>\n",
       "      <td>1.18</td>\n",
       "      <td>1.17</td>\n",
       "    </tr>\n",
       "  </tbody>\n",
       "</table>\n",
       "</div>"
      ],
      "text/plain": [
       "                                         Bieghoehe_1  Bieghoehe_2  \\\n",
       "Gewicht                                                             \n",
       "y100                                            0.11         0.12   \n",
       "y100+s100                                       0.24         0.23   \n",
       "y100+s100+p100                                  0.36         0.35   \n",
       "p200+y200                                       0.47         0.47   \n",
       "p100+p200+y200                                  0.60         0.59   \n",
       "p100+s100+p200+y200                             0.71         0.72   \n",
       "p100+s100+p200+y200+y100                        0.83         0.83   \n",
       "y100+s100+s200+p200+y200                        0.95         0.95   \n",
       "y100+s100+s200+p200+y200+p100                   1.07         1.07   \n",
       "y100+s100+s200+p200+y200+p100+y050+s050         1.19         1.19   \n",
       "\n",
       "                                         Bieghoehe_3  Bieghoehe_4  \n",
       "Gewicht                                                            \n",
       "y100                                            0.10         0.12  \n",
       "y100+s100                                       0.23         0.23  \n",
       "y100+s100+p100                                  0.34         0.35  \n",
       "p200+y200                                       0.48         0.49  \n",
       "p100+p200+y200                                  0.59         0.61  \n",
       "p100+s100+p200+y200                             0.72         0.73  \n",
       "p100+s100+p200+y200+y100                        0.83         0.85  \n",
       "y100+s100+s200+p200+y200                        0.95         0.93  \n",
       "y100+s100+s200+p200+y200+p100                   1.07         1.05  \n",
       "y100+s100+s200+p200+y200+p100+y050+s050         1.18         1.17  "
      ]
     },
     "execution_count": 3,
     "metadata": {},
     "output_type": "execute_result"
    }
   ],
   "source": [
    "long=pd.read_csv('long_measurement',delimiter='\\t',index_col=0)\n",
    "long"
   ]
  },
  {
   "cell_type": "code",
   "execution_count": 4,
   "metadata": {},
   "outputs": [],
   "source": [
    "weights.Name=weights.Masse"
   ]
  },
  {
   "cell_type": "code",
   "execution_count": 5,
   "metadata": {},
   "outputs": [
    {
     "ename": "AttributeError",
     "evalue": "'DataFrame' object has no attribute 'Gewicht'",
     "output_type": "error",
     "traceback": [
      "\u001b[0;31m---------------------------------------------------------------------------\u001b[0m",
      "\u001b[0;31mAttributeError\u001b[0m                            Traceback (most recent call last)",
      "\u001b[0;32m<ipython-input-5-30fb25d1b68e>\u001b[0m in \u001b[0;36m<module>\u001b[0;34m()\u001b[0m\n\u001b[0;32m----> 1\u001b[0;31m \u001b[0mlong\u001b[0m\u001b[0;34m.\u001b[0m\u001b[0mGewicht\u001b[0m\u001b[0;34m[\u001b[0m\u001b[0;36m1\u001b[0m\u001b[0;34m]\u001b[0m\u001b[0;34m\u001b[0m\u001b[0m\n\u001b[0m",
      "\u001b[0;32m/usr/lib/python3.6/site-packages/pandas/core/generic.py\u001b[0m in \u001b[0;36m__getattr__\u001b[0;34m(self, name)\u001b[0m\n\u001b[1;32m   4370\u001b[0m             \u001b[0;32mif\u001b[0m \u001b[0mself\u001b[0m\u001b[0;34m.\u001b[0m\u001b[0m_info_axis\u001b[0m\u001b[0;34m.\u001b[0m\u001b[0m_can_hold_identifiers_and_holds_name\u001b[0m\u001b[0;34m(\u001b[0m\u001b[0mname\u001b[0m\u001b[0;34m)\u001b[0m\u001b[0;34m:\u001b[0m\u001b[0;34m\u001b[0m\u001b[0m\n\u001b[1;32m   4371\u001b[0m                 \u001b[0;32mreturn\u001b[0m \u001b[0mself\u001b[0m\u001b[0;34m[\u001b[0m\u001b[0mname\u001b[0m\u001b[0;34m]\u001b[0m\u001b[0;34m\u001b[0m\u001b[0m\n\u001b[0;32m-> 4372\u001b[0;31m             \u001b[0;32mreturn\u001b[0m \u001b[0mobject\u001b[0m\u001b[0;34m.\u001b[0m\u001b[0m__getattribute__\u001b[0m\u001b[0;34m(\u001b[0m\u001b[0mself\u001b[0m\u001b[0;34m,\u001b[0m \u001b[0mname\u001b[0m\u001b[0;34m)\u001b[0m\u001b[0;34m\u001b[0m\u001b[0m\n\u001b[0m\u001b[1;32m   4373\u001b[0m \u001b[0;34m\u001b[0m\u001b[0m\n\u001b[1;32m   4374\u001b[0m     \u001b[0;32mdef\u001b[0m \u001b[0m__setattr__\u001b[0m\u001b[0;34m(\u001b[0m\u001b[0mself\u001b[0m\u001b[0;34m,\u001b[0m \u001b[0mname\u001b[0m\u001b[0;34m,\u001b[0m \u001b[0mvalue\u001b[0m\u001b[0;34m)\u001b[0m\u001b[0;34m:\u001b[0m\u001b[0;34m\u001b[0m\u001b[0m\n",
      "\u001b[0;31mAttributeError\u001b[0m: 'DataFrame' object has no attribute 'Gewicht'"
     ]
    }
   ],
   "source": [
    "long.Gewicht[1]"
   ]
  },
  {
   "cell_type": "code",
   "execution_count": 6,
   "metadata": {},
   "outputs": [
    {
     "name": "stdout",
     "output_type": "stream",
     "text": [
      "0.04998+/-0.00005 0.10001+/-0.00005 0.19956+/-0.00005 0.05002+/-0.00005 0.10000+/-0.00005 0.19990+/-0.00005 0.04996+/-0.00005 0.09996+/-0.00005 0.19971+/-0.00005\n"
     ]
    }
   ],
   "source": [
    "y050,y100,y200,s050,s100,s200,p050,p100,p200=unp.uarray(weights.Masse/1000,um)\n",
    "print(y050,y100,y200,s050,s100,s200,p050,p100,p200)"
   ]
  },
  {
   "cell_type": "code",
   "execution_count": 7,
   "metadata": {},
   "outputs": [],
   "source": [
    "xuarr1=[y100,y100+s100,y100+s100+p100,p200+y200,p100+p200+y200,p100+s100+p200+y200,p100+s100+p200+y200+y100,y100+s100+s200+p200+y200,y100+s100+s200+p200+y200+p100,y100+s100+s200+p200+y200+p100+y050+s050]"
   ]
  },
  {
   "cell_type": "code",
   "execution_count": 8,
   "metadata": {},
   "outputs": [
    {
     "name": "stdout",
     "output_type": "stream",
     "text": [
      "[0.10001 0.20001 0.29997 0.39927 0.49923 0.59923 0.69924 0.79918 0.89914\n",
      " 0.99914]\n"
     ]
    }
   ],
   "source": [
    "print(unp.nominal_values(xuarr1))"
   ]
  },
  {
   "cell_type": "code",
   "execution_count": 9,
   "metadata": {},
   "outputs": [],
   "source": [
    "yuarr1=unp.uarray(long.Bieghoehe_1/1000,ud)\n",
    "yuarr2=unp.uarray(long.Bieghoehe_2/1000,ud)\n",
    "yuarr3=unp.uarray(long.Bieghoehe_3/1000,ud)\n",
    "yuarr4=unp.uarray(long.Bieghoehe_4/1000,ud)"
   ]
  },
  {
   "cell_type": "code",
   "execution_count": 10,
   "metadata": {},
   "outputs": [
    {
     "name": "stdout",
     "output_type": "stream",
     "text": [
      "[4.85273931e-06 3.00794129e-06]\n"
     ]
    },
    {
     "data": {
      "image/png": "[encoded data removed]",
      "text/plain": [
       "<Figure size 432x288 with 1 Axes>"
      ]
     },
     "metadata": {},
     "output_type": "display_data"
    }
   ],
   "source": [
    "plt.plot(unp.nominal_values(xuarr1),unp.nominal_values(yuarr1),'x',label='Messreihe 1')\n",
    "plt.plot(unp.nominal_values(xuarr1),unp.nominal_values(yuarr2),'x',label='Messreihe 2')\n",
    "plt.plot(unp.nominal_values(xuarr1),unp.nominal_values(yuarr3),'x',label='Messreihe 3')\n",
    "plt.plot(unp.nominal_values(xuarr1),unp.nominal_values(yuarr4),'x',label='Messreihe 4')\n",
    "#Polynom\n",
    "def fitfunc(x,a,b):\n",
    "    return a*x+b\n",
    "\n",
    "#Fitten\n",
    "xfit=np.linspace(unp.nominal_values(xuarr1)[0],unp.nominal_values(xuarr1)[-1],100)\n",
    "popt,pcov=curve_fit(fitfunc,unp.nominal_values(xuarr1),unp.nominal_values(yuarr1))\n",
    "a,b=popt\n",
    "c,d=pcov\n",
    "fit=a*xfit+b\n",
    "\n",
    "#Ausgabe\n",
    "plt.plot(xfit,fit,'-',color='orange',label='Lineare Regression')\n",
    "print(np.sqrt(np.diag(pcov)))\n",
    "c=np.sqrt(np.diag(pcov))[0]\n",
    "d=np.sqrt(np.diag(pcov))[1]\n",
    "dfit1=(a+c)*(xfit)+(b-d)\n",
    "dfit2=(a-c)*(xfit)+(b+d)\n",
    "plt.plot(xfit,dfit1,'--',color='orange')\n",
    "plt.plot(xfit,dfit2,'--',color='orange')\n",
    "\n",
    "#plt.legend()\n",
    "fig_size=plt.rcParams[\"figure.figsize\"]\n",
    "fig_size[0]=10\n",
    "fig_size[1]=7.5\n",
    "plt.xlabel(r'$\\mathrm{Masse}\\ [\\mathrm{kg}]$',size='15')\n",
    "plt.ylabel(r'$\\mathrm{Biegh\\\"ohe}\\ [\\mathrm{m}]$',size='15')\n",
    "plt.rcParams[\"figure.figsize\"]=fig_size\n",
    "plt.grid()\n",
    "plt.show()"
   ]
  },
  {
   "cell_type": "code",
   "execution_count": 11,
   "metadata": {
    "scrolled": true
   },
   "outputs": [
    {
     "data": {
      "text/html": [
       "<div>\n",
       "<style scoped>\n",
       "    .dataframe tbody tr th:only-of-type {\n",
       "        vertical-align: middle;\n",
       "    }\n",
       "\n",
       "    .dataframe tbody tr th {\n",
       "        vertical-align: top;\n",
       "    }\n",
       "\n",
       "    .dataframe thead th {\n",
       "        text-align: right;\n",
       "    }\n",
       "</style>\n",
       "<table border=\"1\" class=\"dataframe\">\n",
       "  <thead>\n",
       "    <tr style=\"text-align: right;\">\n",
       "      <th></th>\n",
       "      <th>Bieghoehe_1</th>\n",
       "      <th>Rueckwaerts_1</th>\n",
       "      <th>Bieghoehe_2</th>\n",
       "      <th>Rueckwaerts_2</th>\n",
       "    </tr>\n",
       "  </thead>\n",
       "  <tbody>\n",
       "    <tr>\n",
       "      <th>0</th>\n",
       "      <td>0.32</td>\n",
       "      <td>0.32</td>\n",
       "      <td>0.48</td>\n",
       "      <td>0.47</td>\n",
       "    </tr>\n",
       "    <tr>\n",
       "      <th>1</th>\n",
       "      <td>0.40</td>\n",
       "      <td>0.40</td>\n",
       "      <td>0.56</td>\n",
       "      <td>0.55</td>\n",
       "    </tr>\n",
       "    <tr>\n",
       "      <th>2</th>\n",
       "      <td>0.48</td>\n",
       "      <td>0.47</td>\n",
       "      <td>0.64</td>\n",
       "      <td>0.63</td>\n",
       "    </tr>\n",
       "    <tr>\n",
       "      <th>3</th>\n",
       "      <td>0.56</td>\n",
       "      <td>0.55</td>\n",
       "      <td>0.71</td>\n",
       "      <td>0.71</td>\n",
       "    </tr>\n",
       "    <tr>\n",
       "      <th>4</th>\n",
       "      <td>0.60</td>\n",
       "      <td>0.59</td>\n",
       "      <td>0.76</td>\n",
       "      <td>0.76</td>\n",
       "    </tr>\n",
       "    <tr>\n",
       "      <th>5</th>\n",
       "      <td>0.64</td>\n",
       "      <td>0.63</td>\n",
       "      <td>0.80</td>\n",
       "      <td>0.79</td>\n",
       "    </tr>\n",
       "    <tr>\n",
       "      <th>6</th>\n",
       "      <td>0.68</td>\n",
       "      <td>0.68</td>\n",
       "      <td>0.83</td>\n",
       "      <td>0.83</td>\n",
       "    </tr>\n",
       "  </tbody>\n",
       "</table>\n",
       "</div>"
      ],
      "text/plain": [
       "   Bieghoehe_1  Rueckwaerts_1  Bieghoehe_2  Rueckwaerts_2\n",
       "0         0.32           0.32         0.48           0.47\n",
       "1         0.40           0.40         0.56           0.55\n",
       "2         0.48           0.47         0.64           0.63\n",
       "3         0.56           0.55         0.71           0.71\n",
       "4         0.60           0.59         0.76           0.76\n",
       "5         0.64           0.63         0.80           0.79\n",
       "6         0.68           0.68         0.83           0.83"
      ]
     },
     "execution_count": 11,
     "metadata": {},
     "output_type": "execute_result"
    }
   ],
   "source": [
    "al=pd.read_csv('aluminium.txt',delimiter='\\t')\n",
    "al\n",
    "al_a=pd.read_csv('aluminium_turnt.txt',delimiter='\\t')\n",
    "al_a\n",
    "br=pd.read_csv('brass.txt',delimiter='\\t')\n",
    "br\n",
    "st=pd.read_csv('steel.txt',delimiter='\\t')\n",
    "st\n",
    "al_l1=pd.read_csv('aluminium_length.txt',delimiter='\\t')\n",
    "al_l1\n",
    "al_l2=pd.read_csv('aluminium_length_.txt',delimiter='\\t')\n",
    "al_l2\n"
   ]
  },
  {
   "cell_type": "code",
   "execution_count": 12,
   "metadata": {},
   "outputs": [
    {
     "name": "stdout",
     "output_type": "stream",
     "text": [
      "[0.39946000000000004+/-7.071067811865475e-05\n",
      " 0.49942000000000003+/-8.660254037844386e-05 0.59943+/-0.0001\n",
      " 0.69943+/-0.00011180339887498949 0.74941+/-0.0001224744871391589\n",
      " 0.79943+/-0.00013228756555322952 0.84939+/-0.0001414213562373095]\n",
      "[0.59917+/-8.660254037844386e-05 0.69913+/-0.0001\n",
      " 0.79914+/-0.00011180339887498949 0.89914+/-0.0001224744871391589\n",
      " 0.94912+/-0.00013228756555322952\n",
      " 0.9991399999999999+/-0.0001414213562373095 1.0491+/-0.00015]\n"
     ]
    }
   ],
   "source": [
    "xuarr2=np.array([y200+s200,y200+s200+p100,y200+s200+p100+y100,y200+s200+p100+y100+s100,y200+s200+p100+y100+s100+y050,y200+s200+p100+y100+s100+y050+s050,y200+s200+p100+y100+s100+y050+s050+p050])\n",
    "xuarr3=np.array(xuarr2)+p200\n",
    "print(xuarr2)\n",
    "print(xuarr3)"
   ]
  },
  {
   "cell_type": "code",
   "execution_count": 13,
   "metadata": {},
   "outputs": [],
   "source": [
    "len1=ufloat(0.0405,ud)\n",
    "len2=ufloat(0.0550,ud)\n",
    "len3=ufloat(0.0355,ud)"
   ]
  },
  {
   "cell_type": "code",
   "execution_count": 14,
   "metadata": {},
   "outputs": [],
   "source": [
    "yuarr5=unp.uarray(al.Bieghoehe_1/1000,ud)\n",
    "yuarr6=unp.uarray(al.Rueckwaerts_1/1000,ud)\n",
    "yuarr7=unp.uarray(al.Bieghoehe_2/1000,ud)\n",
    "yuarr8=unp.uarray(al.Rueckwaerts_2/1000,ud)\n",
    "yuarr9=unp.uarray(st.Bieghoehe_1/1000,ud)\n",
    "yuarr10=unp.uarray(st.Rueckwaerts_1/1000,ud)\n",
    "yuarr11=unp.uarray(st.Bieghoehe_2/1000,ud)\n",
    "yuarr12=unp.uarray(st.Rueckwaerts_2/1000,ud)\n",
    "yuarr13=unp.uarray(br.Bieghoehe_1/1000,ud)\n",
    "yuarr14=unp.uarray(br.Rueckwaerts_1/1000,ud)\n",
    "yuarr15=unp.uarray(br.Bieghoehe_2/1000,ud)\n",
    "yuarr16=unp.uarray(br.Rueckwaerts_2/1000,ud)"
   ]
  },
  {
   "cell_type": "code",
   "execution_count": 38,
   "metadata": {},
   "outputs": [
    {
     "data": {
      "image/png": "[encoded data removed]",
      "text/plain": [
       "<Figure size 720x540 with 1 Axes>"
      ]
     },
     "metadata": {},
     "output_type": "display_data"
    }
   ],
   "source": [
    "plt.plot(unp.nominal_values(xuarr2),unp.nominal_values(yuarr5),'x',label='Alu 1',color='orange')\n",
    "plt.plot(unp.nominal_values(xuarr2),unp.nominal_values(yuarr6),'+',label=r'Alu 1 $\\leftarrow$',color='orange')\n",
    "plt.plot(unp.nominal_values(xuarr3),unp.nominal_values(yuarr7),'x',label='Alu 2',color='red')\n",
    "plt.plot(unp.nominal_values(xuarr3),unp.nominal_values(yuarr8),'+',label=r'Alu 2 $\\leftarrow$',color='red')\n",
    "plt.plot(unp.nominal_values(xuarr2),unp.nominal_values(yuarr9),'x',label='Stahl 1',color='blue')\n",
    "plt.plot(unp.nominal_values(xuarr2),unp.nominal_values(yuarr10),'+',label=r'Stahl 1 $\\leftarrow$',color='blue')\n",
    "plt.plot(unp.nominal_values(xuarr3),unp.nominal_values(yuarr11),'x',label='Stahl 2',color='green')\n",
    "plt.plot(unp.nominal_values(xuarr3),unp.nominal_values(yuarr12),'+',label=r'Stahl 2 $\\leftarrow$',color='green')\n",
    "plt.plot(unp.nominal_values(xuarr2),unp.nominal_values(yuarr13),'x',label='Messing 1',color='magenta')\n",
    "plt.plot(unp.nominal_values(xuarr2),unp.nominal_values(yuarr14),'+',label=r'Messing 1 $\\leftarrow$',color='magenta')\n",
    "plt.plot(unp.nominal_values(xuarr3),unp.nominal_values(yuarr15),'x',label='Messing 2',color='purple')\n",
    "plt.plot(unp.nominal_values(xuarr3),unp.nominal_values(yuarr16),'+',label=r'Messing 2 $\\leftarrow$',color='purple')\n",
    "#Polynom\n",
    "def fitfunc(x,a,b):\n",
    "    return a*x+b\n",
    "\n",
    "#Fitten\n",
    "xfit=np.linspace(unp.nominal_values(xuarr2)[0],unp.nominal_values(xuarr2)[-1],100)\n",
    "popt,pcov=curve_fit(fitfunc,unp.nominal_values(xuarr2),unp.nominal_values(yuarr5))\n",
    "a,b=popt\n",
    "fit=a*xfit+b\n",
    "\n",
    "#Ausgabe\n",
    "plt.plot(xfit,fit,'-',color='orange')#,label='Lineare Regression')\n",
    "c=np.sqrt(np.diag(pcov))[0]\n",
    "d=np.sqrt(np.diag(pcov))[1]\n",
    "dfit1=(a+c)*(xfit)+(b-d)\n",
    "dfit2=(a-c)*(xfit)+(b+d)\n",
    "plt.plot(xfit,dfit1,'--',color='orange')\n",
    "plt.plot(xfit,dfit2,'--',color='orange')\n",
    "\n",
    "def linreg(xfit,xarr,yarr,markeraus='-',grenz=0,markergrenz='--',color='orange',labelaus='Lineare Regression',labelgrenz=None,unumpy=False,first=0,last=-1,xnum=100,xfitrestrictl=None,xfitrestrictr=None,yfitrestrictl=None,yfitrestrictr=None):\n",
    "    import numpy as np\n",
    "    import matplotlib.pyplot as plt\n",
    "    if unumpy == True:\n",
    "        from uncertainties import unumpy as unp\n",
    "        xfit=np.linspace(unp.nominal_values(xarr)[first],unp.nominal_values(xarr)[last],xnum)\n",
    "        popt,pcov=curve_fit(fitfunc,unp.nominal_values(xarr)[xfitrestrictl:xfitrestrictr],unp.nominal_values(yarr)[yfitrestrictl:yfitrestrictr])\n",
    "    else:\n",
    "        xfit=np.linspace(xarr[first],xarr[last],xnum)\n",
    "        popt,pcov=curve_fit(fitfunc,xarr[xfitrestrict:xfitrestrictr],yarr[yfitrestrictl:yfitrestrictr])\n",
    "    a,b=popt\n",
    "    fit=a*xfit+b\n",
    "    c=np.sqrt(np.diag(pcov))[0]\n",
    "    d=np.sqrt(np.diag(pcov))[1]\n",
    "    dfit1=(a+c)*(xfit)+(b-d)\n",
    "    dfit2=(a-c)*(xfit)+(b+d)\n",
    "    plt.plot(xfit,fit,markeraus,color=color,label=labelaus)\n",
    "    if grenz==1:\n",
    "        plt.plot(xfit,dfit1,markergrenz,color=color,label=labelgrenz)\n",
    "        plt.plot(xfit,dfit2,markergrenz,color=color,label=labelgrenz)\n",
    "    return\n",
    "\n",
    "linreg(xfit,xuarr2,yuarr6,labelaus=None,unumpy=True,color='orange')\n",
    "linreg(xfit,xuarr3,yuarr7,labelaus=None,unumpy=True,color='red')\n",
    "linreg(xfit,xuarr3,yuarr8,labelaus=None,unumpy=True,color='red')\n",
    "linreg(xfit,xuarr2,yuarr9,labelaus=None,unumpy=True,color='blue')\n",
    "linreg(xfit,xuarr2,yuarr10,labelaus=None,unumpy=True,color='blue')\n",
    "linreg(xfit,xuarr3,yuarr11,labelaus=None,unumpy=True,color='green')\n",
    "linreg(xfit,xuarr3,yuarr12,labelaus=None,unumpy=True,color='green')\n",
    "linreg(xfit,xuarr2,yuarr13,labelaus=None,color='magenta',unumpy=True)\n",
    "linreg(xfit,xuarr2,yuarr14,labelaus=None,unumpy=True,color='magenta')\n",
    "linreg(xfit,xuarr3,yuarr15,labelaus=None,color='purple',unumpy=True)\n",
    "linreg(xfit,xuarr3,yuarr16,labelaus=None,unumpy=True,color='purple')\n",
    "\n",
    "plt.legend()\n",
    "fig_size=plt.rcParams[\"figure.figsize\"]\n",
    "fig_size[0]=10\n",
    "fig_size[1]=7.5\n",
    "plt.xlabel(r'$\\mathrm{Masse}\\ [\\mathrm{kg}]$',size='15')\n",
    "plt.ylabel(r'$\\mathrm{Biegh\\\"ohe}\\ [\\mathrm{m}]$',size='15')\n",
    "#plt.title('Material')\n",
    "plt.rcParams[\"figure.figsize\"]=fig_size\n",
    "plt.grid()\n",
    "plt.savefig(fname='/home/a/Documents/uni/AP1/git/Praktikum-A1/8_6/material.png',dpi=300)\n",
    "plt.show()"
   ]
  },
  {
   "cell_type": "code",
   "execution_count": 16,
   "metadata": {},
   "outputs": [],
   "source": [
    "yuarra1=unp.uarray(al_a.Bieghoehe_1/1000,ud)\n",
    "yuarra2=unp.uarray(al_a.Rueckwaerts_1/1000,ud)\n",
    "yuarra3=unp.uarray(al_a.Bieghoehe_2/1000,ud)\n",
    "yuarra4=unp.uarray(al_a.Rueckwaerts_2/1000,ud)"
   ]
  },
  {
   "cell_type": "code",
   "execution_count": 37,
   "metadata": {},
   "outputs": [
    {
     "data": {
      "image/png": "[encoded data removed]",
      "text/plain": [
       "<Figure size 720x540 with 1 Axes>"
      ]
     },
     "metadata": {},
     "output_type": "display_data"
    }
   ],
   "source": [
    "plt.plot(unp.nominal_values(xuarr2),unp.nominal_values(yuarr5),'x',label='Alu 1',color='green')\n",
    "plt.plot(unp.nominal_values(xuarr2),unp.nominal_values(yuarr6),'+',label=r'Alu 1 $\\leftarrow$',color='green')\n",
    "plt.plot(unp.nominal_values(xuarr3),unp.nominal_values(yuarr7),'x',label='Alu 2',color='red')\n",
    "plt.plot(unp.nominal_values(xuarr3),unp.nominal_values(yuarr8),'+',label=r'Alu 2 $\\leftarrow$',color='red')\n",
    "plt.plot(unp.nominal_values(xuarr2),unp.nominal_values(yuarra1),'x',label='Alu Ausr. 1',color='magenta')\n",
    "plt.plot(unp.nominal_values(xuarr2),unp.nominal_values(yuarra2),'+',label=r'Alu Ausr. 1 $\\leftarrow$',color='magenta')\n",
    "plt.plot(unp.nominal_values(xuarr3),unp.nominal_values(yuarra3),'x',label='Alu Ausr. 2',color='orange')\n",
    "plt.plot(unp.nominal_values(xuarr3),unp.nominal_values(yuarra4),'+',label=r'Alu Ausr. 2 $\\leftarrow$',color='orange')\n",
    "\n",
    "linreg(xfit,xuarr2,yuarr5,color='green',labelaus=None,unumpy=True)\n",
    "linreg(xfit,xuarr2,yuarr6,color='green',labelaus=None,unumpy=True)\n",
    "linreg(xfit,xuarr3,yuarr7,labelaus=None,color='red',unumpy=True)\n",
    "linreg(xfit,xuarr3,yuarr8,labelaus=None,unumpy=True,color='red')\n",
    "linreg(xfit,xuarr2,yuarra1,color='magenta',labelaus=None,unumpy=True)\n",
    "linreg(xfit,xuarr2,yuarra2,color='magenta',labelaus=None,unumpy=True)\n",
    "linreg(xfit,xuarr3,yuarra3,labelaus=None,color='orange',unumpy=True)\n",
    "linreg(xfit,xuarr3,yuarra4,labelaus=None,unumpy=True,color='orange')\n",
    "\n",
    "plt.legend()\n",
    "plt.xlabel(r'$\\mathrm{Masse}\\ [\\mathrm{kg}]$',size='15')\n",
    "plt.ylabel(r'$\\mathrm{Biegh\\\"ohe}\\ [\\mathrm{m}]$',size='15')\n",
    "#plt.title('Ausrichtung')\n",
    "plt.grid()\n",
    "plt.savefig(fname='/home/a/Documents/uni/AP1/git/Praktikum-A1/8_6/ausrichtung.png',dpi=300)\n",
    "plt.show()"
   ]
  },
  {
   "cell_type": "code",
   "execution_count": 18,
   "metadata": {},
   "outputs": [],
   "source": [
    "yuarrl1=unp.uarray(al_l1.Bieghoehe_1/1000,ud)\n",
    "yuarrl2=unp.uarray(al_l1.Rueckwaerts_1/1000,ud)\n",
    "yuarrl3=unp.uarray(al_l1.Bieghoehe_2/1000,ud)\n",
    "yuarrl4=unp.uarray(al_l1.Rueckwaerts_2/1000,ud)\n",
    "\n",
    "yuarrl5=unp.uarray(al_l2.Bieghoehe_1/1000,ud)\n",
    "yuarrl6=unp.uarray(al_l2.Rueckwaerts_1/1000,ud)\n",
    "yuarrl7=unp.uarray(al_l2.Bieghoehe_2/1000,ud)\n",
    "yuarrl8=unp.uarray(al_l2.Rueckwaerts_2/1000,ud)"
   ]
  },
  {
   "cell_type": "code",
   "execution_count": 36,
   "metadata": {},
   "outputs": [
    {
     "data": {
      "image/png": "[encoded data removed]",
      "text/plain": [
       "<Figure size 720x540 with 1 Axes>"
      ]
     },
     "metadata": {},
     "output_type": "display_data"
    }
   ],
   "source": [
    "plt.plot(unp.nominal_values(xuarr2),unp.nominal_values(yuarrl1),'x',label='Alu 55.0 cm 1',color='green')\n",
    "plt.plot(unp.nominal_values(xuarr2),unp.nominal_values(yuarrl2),'+',label=r'Alu 55.0 cm 1 $\\leftarrow$',color='green')\n",
    "plt.plot(unp.nominal_values(xuarr3),unp.nominal_values(yuarrl3),'x',label='Alu 55.0 cm 2',color='red')\n",
    "plt.plot(unp.nominal_values(xuarr3),unp.nominal_values(yuarrl4),'+',label=r'Alu 55.0 cm 2 $\\leftarrow$',color='red')\n",
    "plt.plot(unp.nominal_values(xuarr2),unp.nominal_values(yuarrl5),'x',label='Alu 35.5 cm 1',color='magenta')\n",
    "plt.plot(unp.nominal_values(xuarr2),unp.nominal_values(yuarrl6),'+',label=r'Alu 35.5 cm 1 $\\leftarrow$',color='magenta')\n",
    "plt.plot(unp.nominal_values(xuarr3),unp.nominal_values(yuarrl7),'x',label='Alu 35.5 cm 2',color='orange')\n",
    "plt.plot(unp.nominal_values(xuarr3),unp.nominal_values(yuarrl8),'+',label=r'Alu 35.5 cm 2 $\\leftarrow$',color='orange')\n",
    "\n",
    "plt.plot(unp.nominal_values(xuarr2),unp.nominal_values(yuarr5),'x',label='Alu 40.5 cm 1',color='purple')\n",
    "plt.plot(unp.nominal_values(xuarr2),unp.nominal_values(yuarr6),'+',label=r'Alu 40.5 cm 1 $\\leftarrow$',color='purple')\n",
    "plt.plot(unp.nominal_values(xuarr3),unp.nominal_values(yuarr7),'x',label='Alu 40.5 cm 2',color='blue')\n",
    "plt.plot(unp.nominal_values(xuarr3),unp.nominal_values(yuarr8),'+',label=r'Alu 40.5 cm 2 $\\leftarrow$',color='blue')\n",
    "\n",
    "linreg(xfit,xuarr2,yuarrl1,color='green',labelaus=None,unumpy=True)\n",
    "linreg(xfit,xuarr2,yuarrl2,color='green',labelaus=None,unumpy=True)\n",
    "linreg(xfit,xuarr3,yuarrl3,labelaus=None,color='red',unumpy=True)\n",
    "linreg(xfit,xuarr3,yuarrl4,labelaus=None,unumpy=True,color='red')\n",
    "linreg(xfit,xuarr2,yuarrl5,color='magenta',labelaus=None,unumpy=True)\n",
    "linreg(xfit,xuarr2,yuarrl6,color='magenta',labelaus=None,unumpy=True)\n",
    "linreg(xfit,xuarr3,yuarrl7,labelaus=None,color='orange',unumpy=True)\n",
    "linreg(xfit,xuarr3,yuarrl8,labelaus=None,unumpy=True,color='orange')\n",
    "\n",
    "linreg(xfit,xuarr2,yuarr5,color='purple',labelaus=None,unumpy=True)\n",
    "linreg(xfit,xuarr2,yuarr6,color='purple',labelaus=None,unumpy=True)\n",
    "linreg(xfit,xuarr3,yuarr7,labelaus=None,color='blue',unumpy=True)\n",
    "linreg(xfit,xuarr3,yuarr8,labelaus=None,unumpy=True,color='blue')\n",
    "\n",
    "plt.legend()\n",
    "plt.xlabel(r'$\\mathrm{Masse}\\ [\\mathrm{kg}]$',size='15')\n",
    "plt.ylabel(r'$\\mathrm{Biegh\\\"ohe}\\ [\\mathrm{m}]$',size='15')\n",
    "plt.grid()\n",
    "plt.savefig(fname='/home/a/Documents/uni/AP1/git/Praktikum-A1/8_6/length.png',dpi=300)\n",
    "plt.show()"
   ]
  },
  {
   "cell_type": "code",
   "execution_count": 20,
   "metadata": {},
   "outputs": [
    {
     "data": {
      "text/plain": [
       "464.91999999999996"
      ]
     },
     "execution_count": 20,
     "metadata": {},
     "output_type": "execute_result"
    }
   ],
   "source": [
    "0.985*100*0.590*8"
   ]
  },
  {
   "cell_type": "code",
   "execution_count": 21,
   "metadata": {},
   "outputs": [],
   "source": [
    "def E(L,a,h,b):\n",
    "    return L**3*9.81/(a*4*h**3*b)"
   ]
  },
  {
   "cell_type": "code",
   "execution_count": 22,
   "metadata": {},
   "outputs": [],
   "source": [
    "def mean(ar):\n",
    "    return sum(ar)/len(ar)"
   ]
  },
  {
   "cell_type": "code",
   "execution_count": 23,
   "metadata": {},
   "outputs": [],
   "source": [
    "h_a=mean(unp.uarray([9.85,9.86,9.85,9.86,9.85],us))/1000\n",
    "b_a=mean(unp.uarray([5.89,5.91,5.91,5.89,5.90],us))/1000"
   ]
  },
  {
   "cell_type": "code",
   "execution_count": 52,
   "metadata": {},
   "outputs": [
    {
     "name": "stdout",
     "output_type": "stream",
     "text": [
      "(6.760+/-0.025)e+10\n"
     ]
    }
   ],
   "source": [
    "xfit=np.linspace(unp.nominal_values(xuarr1)[0],unp.nominal_values(xuarr1)[-1],100)\n",
    "popt,pcov=curve_fit(fitfunc,unp.nominal_values(xuarr1),unp.nominal_values(yuarr1))\n",
    "a1,b=popt\n",
    "xfit=np.linspace(unp.nominal_values(xuarr1)[0],unp.nominal_values(xuarr1)[-1],100)\n",
    "popt,pcov=curve_fit(fitfunc,unp.nominal_values(xuarr1),unp.nominal_values(yuarr2))\n",
    "a2,b=popt\n",
    "xfit=np.linspace(unp.nominal_values(xuarr1)[0],unp.nominal_values(xuarr1)[-1],100)\n",
    "popt,pcov=curve_fit(fitfunc,unp.nominal_values(xuarr1),unp.nominal_values(yuarr3))\n",
    "a3,b=popt\n",
    "xfit=np.linspace(unp.nominal_values(xuarr1)[0],unp.nominal_values(xuarr1)[-1],100)\n",
    "popt,pcov=curve_fit(fitfunc,unp.nominal_values(xuarr1),unp.nominal_values(yuarr4))\n",
    "a4,b=popt\n",
    "a=mean(np.array([a1,a2,a3,a4]))\n",
    "print(E(ufloat(0.405,0.0005),a,b_a,h_a))"
   ]
  },
  {
   "cell_type": "code",
   "execution_count": 33,
   "metadata": {},
   "outputs": [],
   "source": [
    "h_s=mean(unp.uarray([9.93,9.90,9.90,9.905,9.91],us))/1000\n",
    "b_s=mean(unp.uarray([5.89,5.88,5.88,5.88,5.87],us))/1000"
   ]
  },
  {
   "cell_type": "code",
   "execution_count": 51,
   "metadata": {},
   "outputs": [
    {
     "ename": "AttributeError",
     "evalue": "'numpy.float64' object has no attribute 'strip'",
     "output_type": "error",
     "traceback": [
      "\u001b[0;31m---------------------------------------------------------------------------\u001b[0m",
      "\u001b[0;31mValueError\u001b[0m                                Traceback (most recent call last)",
      "\u001b[0;32m/usr/lib/python3.6/site-packages/uncertainties/core.py\u001b[0m in \u001b[0;36mufloat\u001b[0;34m(nominal_value, std_dev, tag)\u001b[0m\n\u001b[1;32m   3193\u001b[0m         \u001b[0;31m# Standard case:\u001b[0m\u001b[0;34m\u001b[0m\u001b[0;34m\u001b[0m\u001b[0m\n\u001b[0;32m-> 3194\u001b[0;31m         \u001b[0;32mreturn\u001b[0m \u001b[0mVariable\u001b[0m\u001b[0;34m(\u001b[0m\u001b[0mnominal_value\u001b[0m\u001b[0;34m,\u001b[0m \u001b[0mstd_dev\u001b[0m\u001b[0;34m,\u001b[0m \u001b[0mtag\u001b[0m\u001b[0;34m=\u001b[0m\u001b[0mtag\u001b[0m\u001b[0;34m)\u001b[0m\u001b[0;34m\u001b[0m\u001b[0m\n\u001b[0m\u001b[1;32m   3195\u001b[0m     \u001b[0;31m# Exception types raised by, respectively: tuple or string that\u001b[0m\u001b[0;34m\u001b[0m\u001b[0;34m\u001b[0m\u001b[0m\n",
      "\u001b[0;32m/usr/lib/python3.6/site-packages/uncertainties/core.py\u001b[0m in \u001b[0;36m__init__\u001b[0;34m(self, value, std_dev, tag)\u001b[0m\n\u001b[1;32m   2691\u001b[0m \u001b[0;34m\u001b[0m\u001b[0m\n\u001b[0;32m-> 2692\u001b[0;31m         \u001b[0mself\u001b[0m\u001b[0;34m.\u001b[0m\u001b[0mstd_dev\u001b[0m \u001b[0;34m=\u001b[0m \u001b[0mstd_dev\u001b[0m  \u001b[0;31m# Assignment through a Python property\u001b[0m\u001b[0;34m\u001b[0m\u001b[0m\n\u001b[0m\u001b[1;32m   2693\u001b[0m \u001b[0;34m\u001b[0m\u001b[0m\n",
      "\u001b[0;32m/usr/lib/python3.6/site-packages/uncertainties/core.py\u001b[0m in \u001b[0;36mstd_dev\u001b[0;34m(self, std_dev)\u001b[0m\n\u001b[1;32m   2711\u001b[0m         \u001b[0;31m# should work on most platforms.)\u001b[0m\u001b[0;34m\u001b[0m\u001b[0;34m\u001b[0m\u001b[0m\n\u001b[0;32m-> 2712\u001b[0;31m         \u001b[0;32mif\u001b[0m \u001b[0mstd_dev\u001b[0m \u001b[0;34m<\u001b[0m \u001b[0;36m0\u001b[0m \u001b[0;32mand\u001b[0m \u001b[0;32mnot\u001b[0m \u001b[0misinfinite\u001b[0m\u001b[0;34m(\u001b[0m\u001b[0mstd_dev\u001b[0m\u001b[0;34m)\u001b[0m\u001b[0;34m:\u001b[0m\u001b[0;34m\u001b[0m\u001b[0m\n\u001b[0m\u001b[1;32m   2713\u001b[0m             \u001b[0;32mraise\u001b[0m \u001b[0mNegativeStdDev\u001b[0m\u001b[0;34m(\u001b[0m\u001b[0;34m\"The standard deviation cannot be negative\"\u001b[0m\u001b[0;34m)\u001b[0m\u001b[0;34m\u001b[0m\u001b[0m\n",
      "\u001b[0;31mValueError\u001b[0m: The truth value of an array with more than one element is ambiguous. Use a.any() or a.all()",
      "\nDuring handling of the above exception, another exception occurred:\n",
      "\u001b[0;31mAttributeError\u001b[0m                            Traceback (most recent call last)",
      "\u001b[0;32m<ipython-input-51-b907f7809a28>\u001b[0m in \u001b[0;36m<module>\u001b[0;34m()\u001b[0m\n\u001b[1;32m      2\u001b[0m \u001b[0mpopt\u001b[0m\u001b[0;34m,\u001b[0m\u001b[0mpcov\u001b[0m\u001b[0;34m=\u001b[0m\u001b[0mcurve_fit\u001b[0m\u001b[0;34m(\u001b[0m\u001b[0mfitfunc\u001b[0m\u001b[0;34m,\u001b[0m\u001b[0munp\u001b[0m\u001b[0;34m.\u001b[0m\u001b[0mnominal_values\u001b[0m\u001b[0;34m(\u001b[0m\u001b[0mxuarr2\u001b[0m\u001b[0;34m)\u001b[0m\u001b[0;34m,\u001b[0m\u001b[0munp\u001b[0m\u001b[0;34m.\u001b[0m\u001b[0mnominal_values\u001b[0m\u001b[0;34m(\u001b[0m\u001b[0myuarr9\u001b[0m\u001b[0;34m)\u001b[0m\u001b[0;34m)\u001b[0m\u001b[0;34m\u001b[0m\u001b[0m\n\u001b[1;32m      3\u001b[0m \u001b[0ma1\u001b[0m\u001b[0;34m,\u001b[0m\u001b[0mb\u001b[0m\u001b[0;34m=\u001b[0m\u001b[0mpopt\u001b[0m\u001b[0;34m\u001b[0m\u001b[0m\n\u001b[0;32m----> 4\u001b[0;31m \u001b[0ma1\u001b[0m\u001b[0;34m=\u001b[0m\u001b[0mufloat\u001b[0m\u001b[0;34m(\u001b[0m\u001b[0ma1\u001b[0m\u001b[0;34m,\u001b[0m\u001b[0mpcov\u001b[0m\u001b[0;34m[\u001b[0m\u001b[0;36m0\u001b[0m\u001b[0;34m]\u001b[0m\u001b[0;34m)\u001b[0m\u001b[0;34m\u001b[0m\u001b[0m\n\u001b[0m\u001b[1;32m      5\u001b[0m \u001b[0mxfit\u001b[0m\u001b[0;34m=\u001b[0m\u001b[0mnp\u001b[0m\u001b[0;34m.\u001b[0m\u001b[0mlinspace\u001b[0m\u001b[0;34m(\u001b[0m\u001b[0munp\u001b[0m\u001b[0;34m.\u001b[0m\u001b[0mnominal_values\u001b[0m\u001b[0;34m(\u001b[0m\u001b[0mxuarr2\u001b[0m\u001b[0;34m)\u001b[0m\u001b[0;34m[\u001b[0m\u001b[0;36m0\u001b[0m\u001b[0;34m]\u001b[0m\u001b[0;34m,\u001b[0m\u001b[0munp\u001b[0m\u001b[0;34m.\u001b[0m\u001b[0mnominal_values\u001b[0m\u001b[0;34m(\u001b[0m\u001b[0mxuarr2\u001b[0m\u001b[0;34m)\u001b[0m\u001b[0;34m[\u001b[0m\u001b[0;34m-\u001b[0m\u001b[0;36m1\u001b[0m\u001b[0;34m]\u001b[0m\u001b[0;34m,\u001b[0m\u001b[0;36m100\u001b[0m\u001b[0;34m)\u001b[0m\u001b[0;34m\u001b[0m\u001b[0m\n\u001b[1;32m      6\u001b[0m \u001b[0mpopt\u001b[0m\u001b[0;34m,\u001b[0m\u001b[0mpcov\u001b[0m\u001b[0;34m=\u001b[0m\u001b[0mcurve_fit\u001b[0m\u001b[0;34m(\u001b[0m\u001b[0mfitfunc\u001b[0m\u001b[0;34m,\u001b[0m\u001b[0munp\u001b[0m\u001b[0;34m.\u001b[0m\u001b[0mnominal_values\u001b[0m\u001b[0;34m(\u001b[0m\u001b[0mxuarr2\u001b[0m\u001b[0;34m)\u001b[0m\u001b[0;34m,\u001b[0m\u001b[0munp\u001b[0m\u001b[0;34m.\u001b[0m\u001b[0mnominal_values\u001b[0m\u001b[0;34m(\u001b[0m\u001b[0myuarr10\u001b[0m\u001b[0;34m)\u001b[0m\u001b[0;34m)\u001b[0m\u001b[0;34m\u001b[0m\u001b[0m\n",
      "\u001b[0;32m/usr/lib/python3.6/site-packages/uncertainties/core.py\u001b[0m in \u001b[0;36mufloat\u001b[0;34m(nominal_value, std_dev, tag)\u001b[0m\n\u001b[1;32m   3205\u001b[0m \u001b[0;34m\u001b[0m\u001b[0m\n\u001b[1;32m   3206\u001b[0m         \u001b[0;32mtry\u001b[0m\u001b[0;34m:\u001b[0m\u001b[0;34m\u001b[0m\u001b[0m\n\u001b[0;32m-> 3207\u001b[0;31m             \u001b[0mfinal_ufloat\u001b[0m \u001b[0;34m=\u001b[0m \u001b[0mufloat_obsolete\u001b[0m\u001b[0;34m(\u001b[0m\u001b[0mnominal_value\u001b[0m\u001b[0;34m,\u001b[0m \u001b[0mtag_arg\u001b[0m\u001b[0;34m)\u001b[0m\u001b[0;34m\u001b[0m\u001b[0m\n\u001b[0m\u001b[1;32m   3208\u001b[0m         \u001b[0;32mexcept\u001b[0m\u001b[0;34m:\u001b[0m  \u001b[0;31m# The input is incorrect, not obsolete\u001b[0m\u001b[0;34m\u001b[0m\u001b[0m\n\u001b[1;32m   3209\u001b[0m             \u001b[0;32mraise\u001b[0m\u001b[0;34m\u001b[0m\u001b[0m\n",
      "\u001b[0;32m/usr/lib/python3.6/site-packages/uncertainties/core.py\u001b[0m in \u001b[0;36mufloat_obsolete\u001b[0;34m(representation, tag)\u001b[0m\n\u001b[1;32m   3148\u001b[0m         \u001b[0;32mreturn\u001b[0m \u001b[0mufloat\u001b[0m\u001b[0;34m(\u001b[0m\u001b[0mrepresentation\u001b[0m\u001b[0;34m[\u001b[0m\u001b[0;36m0\u001b[0m\u001b[0;34m]\u001b[0m\u001b[0;34m,\u001b[0m \u001b[0mrepresentation\u001b[0m\u001b[0;34m[\u001b[0m\u001b[0;36m1\u001b[0m\u001b[0;34m]\u001b[0m\u001b[0;34m,\u001b[0m \u001b[0mtag\u001b[0m\u001b[0;34m)\u001b[0m\u001b[0;34m\u001b[0m\u001b[0m\n\u001b[1;32m   3149\u001b[0m     \u001b[0;32melse\u001b[0m\u001b[0;34m:\u001b[0m\u001b[0;34m\u001b[0m\u001b[0m\n\u001b[0;32m-> 3150\u001b[0;31m         \u001b[0;32mreturn\u001b[0m \u001b[0mufloat_fromstr\u001b[0m\u001b[0;34m(\u001b[0m\u001b[0mrepresentation\u001b[0m\u001b[0;34m,\u001b[0m \u001b[0mtag\u001b[0m\u001b[0;34m)\u001b[0m\u001b[0;34m\u001b[0m\u001b[0m\n\u001b[0m\u001b[1;32m   3151\u001b[0m \u001b[0;34m\u001b[0m\u001b[0m\n\u001b[1;32m   3152\u001b[0m \u001b[0;31m# The arguments are named for the new version, instead of bearing\u001b[0m\u001b[0;34m\u001b[0m\u001b[0;34m\u001b[0m\u001b[0m\n",
      "\u001b[0;32m/usr/lib/python3.6/site-packages/uncertainties/core.py\u001b[0m in \u001b[0;36mufloat_fromstr\u001b[0;34m(representation, tag)\u001b[0m\n\u001b[1;32m   3132\u001b[0m \u001b[0;34m\u001b[0m\u001b[0m\n\u001b[1;32m   3133\u001b[0m     (nominal_value, std_dev) = str_to_number_with_uncert(\n\u001b[0;32m-> 3134\u001b[0;31m         representation.strip())\n\u001b[0m\u001b[1;32m   3135\u001b[0m \u001b[0;34m\u001b[0m\u001b[0m\n\u001b[1;32m   3136\u001b[0m     \u001b[0;32mreturn\u001b[0m \u001b[0mufloat\u001b[0m\u001b[0;34m(\u001b[0m\u001b[0mnominal_value\u001b[0m\u001b[0;34m,\u001b[0m \u001b[0mstd_dev\u001b[0m\u001b[0;34m,\u001b[0m \u001b[0mtag\u001b[0m\u001b[0;34m)\u001b[0m\u001b[0;34m\u001b[0m\u001b[0m\n",
      "\u001b[0;31mAttributeError\u001b[0m: 'numpy.float64' object has no attribute 'strip'"
     ]
    }
   ],
   "source": [
    "xfit=np.linspace(unp.nominal_values(xuarr2)[0],unp.nominal_values(xuarr2)[-1],100)\n",
    "popt,pcov=curve_fit(fitfunc,unp.nominal_values(xuarr2),unp.nominal_values(yuarr9))\n",
    "a1,b=popt\n",
    "a1=ufloat(a1,pcov[0])\n",
    "xfit=np.linspace(unp.nominal_values(xuarr2)[0],unp.nominal_values(xuarr2)[-1],100)\n",
    "popt,pcov=curve_fit(fitfunc,unp.nominal_values(xuarr2),unp.nominal_values(yuarr10))\n",
    "a2,b=popt\n",
    "a2=ufloat(a2,pcov[0])\n",
    "xfit=np.linspace(unp.nominal_values(xuarr3)[0],unp.nominal_values(xuarr3)[-1],100)\n",
    "popt,pcov=curve_fit(fitfunc,unp.nominal_values(xuarr3),unp.nominal_values(yuarr11))\n",
    "a3,b=popt\n",
    "a3=ufloat(a3,pcov[0])\n",
    "xfit=np.linspace(unp.nominal_values(xuarr3)[0],unp.nominal_values(xuarr3)[-1],100)\n",
    "popt,pcov=curve_fit(fitfunc,unp.nominal_values(xuarr3),unp.nominal_values(yuarr12))\n",
    "a4,b=popt\n",
    "a4=ufloat(a4,pcov[0])\n",
    "a=mean([a1,a2,a3,a4])\n",
    "print(E(ufloat(0.405,0.0005),a,b_s,h_s))"
   ]
  },
  {
   "cell_type": "code",
   "execution_count": 34,
   "metadata": {},
   "outputs": [],
   "source": [
    "h_b=mean(unp.uarray([9.93,9.90,9.90,9.905,9.91],us))/1000\n",
    "b_b=mean(unp.uarray([5.89,5.88,5.88,5.88,5.87],us))/1000"
   ]
  },
  {
   "cell_type": "code",
   "execution_count": 43,
   "metadata": {},
   "outputs": [
    {
     "name": "stdout",
     "output_type": "stream",
     "text": [
      "(9.490+/-0.035)e+10\n"
     ]
    }
   ],
   "source": [
    "xfit=np.linspace(unp.nominal_values(xuarr2)[0],unp.nominal_values(xuarr2)[-1],100)\n",
    "popt,pcov=curve_fit(fitfunc,unp.nominal_values(xuarr2),unp.nominal_values(yuarr13))\n",
    "a1,b=popt\n",
    "xfit=np.linspace(unp.nominal_values(xuarr2)[0],unp.nominal_values(xuarr2)[-1],100)\n",
    "popt,pcov=curve_fit(fitfunc,unp.nominal_values(xuarr2),unp.nominal_values(yuarr14))\n",
    "a2,b=popt\n",
    "xfit=np.linspace(unp.nominal_values(xuarr3)[0],unp.nominal_values(xuarr3)[-1],100)\n",
    "popt,pcov=curve_fit(fitfunc,unp.nominal_values(xuarr3),unp.nominal_values(yuarr15))\n",
    "a3,b=popt\n",
    "xfit=np.linspace(unp.nominal_values(xuarr3)[0],unp.nominal_values(xuarr3)[-1],100)\n",
    "popt,pcov=curve_fit(fitfunc,unp.nominal_values(xuarr3),unp.nominal_values(yuarr16))\n",
    "a4,b=popt\n",
    "a=mean([a1,a2,a3,a4])\n",
    "print(E(ufloat(0.405,0.0005),a,b_b,h_b))"
   ]
  },
  {
   "cell_type": "code",
   "execution_count": 41,
   "metadata": {},
   "outputs": [
    {
     "name": "stdout",
     "output_type": "stream",
     "text": [
      "(6.749+/-0.025)e+10\n"
     ]
    }
   ],
   "source": [
    "xfit=np.linspace(unp.nominal_values(xuarr2)[0],unp.nominal_values(xuarr2)[-1],100)\n",
    "popt,pcov=curve_fit(fitfunc,unp.nominal_values(xuarr2),unp.nominal_values(yuarr5))\n",
    "a1,b=popt\n",
    "xfit=np.linspace(unp.nominal_values(xuarr2)[0],unp.nominal_values(xuarr2)[-1],100)\n",
    "popt,pcov=curve_fit(fitfunc,unp.nominal_values(xuarr2),unp.nominal_values(yuarr6))\n",
    "a2,b=popt\n",
    "xfit=np.linspace(unp.nominal_values(xuarr3)[0],unp.nominal_values(xuarr3)[-1],100)\n",
    "popt,pcov=curve_fit(fitfunc,unp.nominal_values(xuarr3),unp.nominal_values(yuarr7))\n",
    "a3,b=popt\n",
    "xfit=np.linspace(unp.nominal_values(xuarr3)[0],unp.nominal_values(xuarr3)[-1],100)\n",
    "popt,pcov=curve_fit(fitfunc,unp.nominal_values(xuarr3),unp.nominal_values(yuarr8))\n",
    "a4,b=popt\n",
    "a=mean([a1,a2,a3,a4])\n",
    "print(E(ufloat(0.405,0.0005),a,b_a,h_a))"
   ]
  },
  {
   "cell_type": "markdown",
   "metadata": {},
   "source": [
    "## Ausrichtung"
   ]
  },
  {
   "cell_type": "code",
   "execution_count": 45,
   "metadata": {},
   "outputs": [
    {
     "name": "stdout",
     "output_type": "stream",
     "text": [
      "(6.463+/-0.024)e+10\n"
     ]
    }
   ],
   "source": [
    "xfit=np.linspace(unp.nominal_values(xuarr2)[0],unp.nominal_values(xuarr2)[-1],100)\n",
    "popt,pcov=curve_fit(fitfunc,unp.nominal_values(xuarr2),unp.nominal_values(yuarra1))\n",
    "a1,b=popt\n",
    "xfit=np.linspace(unp.nominal_values(xuarr2)[0],unp.nominal_values(xuarr2)[-1],100)\n",
    "popt,pcov=curve_fit(fitfunc,unp.nominal_values(xuarr2),unp.nominal_values(yuarra2))\n",
    "a2,b=popt\n",
    "xfit=np.linspace(unp.nominal_values(xuarr3)[0],unp.nominal_values(xuarr3)[-1],100)\n",
    "popt,pcov=curve_fit(fitfunc,unp.nominal_values(xuarr3),unp.nominal_values(yuarra3))\n",
    "a3,b=popt\n",
    "xfit=np.linspace(unp.nominal_values(xuarr3)[0],unp.nominal_values(xuarr3)[-1],100)\n",
    "popt,pcov=curve_fit(fitfunc,unp.nominal_values(xuarr3),unp.nominal_values(yuarra4))\n",
    "a4,b=popt\n",
    "a=mean([a1,a2,a3,a4])\n",
    "print(E(ufloat(0.405,0.0005),a,h_a,b_a))"
   ]
  },
  {
   "cell_type": "markdown",
   "metadata": {},
   "source": [
    "## Laenge"
   ]
  },
  {
   "cell_type": "code",
   "execution_count": 47,
   "metadata": {},
   "outputs": [
    {
     "name": "stdout",
     "output_type": "stream",
     "text": [
      "(6.782+/-0.018)e+10\n"
     ]
    }
   ],
   "source": [
    "xfit=np.linspace(unp.nominal_values(xuarr2)[0],unp.nominal_values(xuarr2)[-1],100)\n",
    "popt,pcov=curve_fit(fitfunc,unp.nominal_values(xuarr2),unp.nominal_values(yuarrl1))\n",
    "a1,b=popt\n",
    "xfit=np.linspace(unp.nominal_values(xuarr2)[0],unp.nominal_values(xuarr2)[-1],100)\n",
    "popt,pcov=curve_fit(fitfunc,unp.nominal_values(xuarr2),unp.nominal_values(yuarrl2))\n",
    "a2,b=popt\n",
    "xfit=np.linspace(unp.nominal_values(xuarr3)[0],unp.nominal_values(xuarr3)[-1],100)\n",
    "popt,pcov=curve_fit(fitfunc,unp.nominal_values(xuarr3),unp.nominal_values(yuarrl3))\n",
    "a3,b=popt\n",
    "xfit=np.linspace(unp.nominal_values(xuarr3)[0],unp.nominal_values(xuarr3)[-1],100)\n",
    "popt,pcov=curve_fit(fitfunc,unp.nominal_values(xuarr3),unp.nominal_values(yuarrl4))\n",
    "a4,b=popt\n",
    "a=mean([a1,a2,a3,a4])\n",
    "print(E(ufloat(0.550,0.0005),a,b_a,h_a))"
   ]
  },
  {
   "cell_type": "code",
   "execution_count": 50,
   "metadata": {},
   "outputs": [
    {
     "name": "stdout",
     "output_type": "stream",
     "text": [
      "(5.735+/-0.026)e+10\n"
     ]
    }
   ],
   "source": [
    "xfit=np.linspace(unp.nominal_values(xuarr2)[0],unp.nominal_values(xuarr2)[-1],100)\n",
    "popt,pcov=curve_fit(fitfunc,unp.nominal_values(xuarr2),unp.nominal_values(yuarrl5))\n",
    "a1,b=popt\n",
    "xfit=np.linspace(unp.nominal_values(xuarr2)[0],unp.nominal_values(xuarr2)[-1],100)\n",
    "popt,pcov=curve_fit(fitfunc,unp.nominal_values(xuarr2),unp.nominal_values(yuarrl6))\n",
    "a2,b=popt\n",
    "xfit=np.linspace(unp.nominal_values(xuarr3)[0],unp.nominal_values(xuarr3)[-1],100)\n",
    "popt,pcov=curve_fit(fitfunc,unp.nominal_values(xuarr3),unp.nominal_values(yuarrl7))\n",
    "a3,b=popt\n",
    "xfit=np.linspace(unp.nominal_values(xuarr3)[0],unp.nominal_values(xuarr3)[-1],100)\n",
    "popt,pcov=curve_fit(fitfunc,unp.nominal_values(xuarr3),unp.nominal_values(yuarrl8))\n",
    "a4,b=popt\n",
    "a=mean([a1,a2,a3,a4])\n",
    "print(E(ufloat(0.335,0.0005),a,b_a,h_a))"
   ]
  },
  {
   "cell_type": "code",
   "execution_count": 115,
   "metadata": {},
   "outputs": [
    {
     "name": "stdout",
     "output_type": "stream",
     "text": [
      "0.0003793316703742095\n"
     ]
    }
   ],
   "source": [
    "print(a)"
   ]
  },
  {
   "cell_type": "code",
   "execution_count": 107,
   "metadata": {},
   "outputs": [
    {
     "data": {
      "text/plain": [
       "6.824955325970303e-05"
      ]
     },
     "execution_count": 107,
     "metadata": {},
     "output_type": "execute_result"
    }
   ],
   "source": [
    "0.405**3*9.81/(4*1.18*5.9**3*9.85)"
   ]
  },
  {
   "cell_type": "markdown",
   "metadata": {},
   "source": [
    "## Fehler von Bandmass zu klein!"
   ]
  },
  {
   "cell_type": "code",
   "execution_count": 125,
   "metadata": {},
   "outputs": [
    {
     "name": "stdout",
     "output_type": "stream",
     "text": [
      "(9.62+/-0.04)e+10\n"
     ]
    }
   ],
   "source": [
    "xfit=np.linspace(unp.nominal_values(xuarr2)[0],unp.nominal_values(xuarr2)[-1],100)\n",
    "popt,pcov=curve_fit(fitfunc,unp.nominal_values(xuarr2),unp.nominal_values(yuarr13))\n",
    "a,b=popt\n",
    "print(E(ufloat(0.405,0.0005),a,b_a,h_a))"
   ]
  },
  {
   "cell_type": "code",
   "execution_count": null,
   "metadata": {
    "collapsed": true
   },
   "outputs": [],
   "source": []
  },
  {
   "cell_type": "code",
   "execution_count": null,
   "metadata": {
    "collapsed": true
   },
   "outputs": [],
   "source": []
  },
  {
   "cell_type": "code",
   "execution_count": null,
   "metadata": {
    "collapsed": true
   },
   "outputs": [],
   "source": []
  },
  {
   "cell_type": "code",
   "execution_count": null,
   "metadata": {
    "collapsed": true
   },
   "outputs": [],
   "source": []
  },
  {
   "cell_type": "code",
   "execution_count": null,
   "metadata": {
    "collapsed": true
   },
   "outputs": [],
   "source": []
  }
 ],
 "metadata": {
  "kernelspec": {
   "display_name": "Python 3",
   "language": "python",
   "name": "python3"
  },
  "language_info": {
   "codemirror_mode": {
    "name": "ipython",
    "version": 3
   },
   "file_extension": ".py",
   "mimetype": "text/x-python",
   "name": "python",
   "nbconvert_exporter": "python",
   "pygments_lexer": "ipython3",
   "version": "3.6.5"
  }
 },
 "nbformat": 4,
 "nbformat_minor": 2
}
