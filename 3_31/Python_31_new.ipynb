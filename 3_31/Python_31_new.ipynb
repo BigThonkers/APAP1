{
 "cells": [
  {
   "cell_type": "markdown",
   "metadata": {},
   "source": [
    "## Einlesen von Daten\n"
   ]
  },
  {
   "cell_type": "code",
   "execution_count": 2,
   "metadata": {},
   "outputs": [],
   "source": [
    "import numpy as np\n",
    "\n",
    "with open ('Measurements/kalorimeter/mix.txt','r') as myfile:\n",
    "    data=myfile.read().replace(',','.').replace('\\n',',').replace('\t',',')\n",
    "\n",
    "datarray = data.split(',')\n",
    "array = np.array([float(i) for i in datarray[:-1]])"
   ]
  },
  {
   "cell_type": "code",
   "execution_count": 3,
   "metadata": {},
   "outputs": [],
   "source": [
    "with open ('Measurements/kalorimeter/hotwater.txt','r') as myfile:\n",
    "    data=myfile.read().replace(',','.').replace('\\n',',').replace('\t',',')\n",
    "\n",
    "hotarray = data.split(',')\n",
    "hotwater = np.array([float(i) for i in hotarray[:-1]])"
   ]
  },
  {
   "cell_type": "code",
   "execution_count": 4,
   "metadata": {},
   "outputs": [],
   "source": [
    "with open ('Measurements/kalorimeter/icewater','r') as myfile:\n",
    "    data=myfile.read().replace(',','.').replace('\\n',',').replace('\t',',')\n",
    "\n",
    "coldarray = data.split(',')\n",
    "icewater = np.array([float(i) for i in coldarray[:-1]])"
   ]
  },
  {
   "cell_type": "code",
   "execution_count": 5,
   "metadata": {},
   "outputs": [],
   "source": [
    "with open ('Measurements/solid/solid_2_cooldown_process','r') as myfile:\n",
    "    data=myfile.read().replace(',','.').replace('\\n',',').replace('\t',',')\n",
    "\n",
    "obj = data.split(',')\n",
    "obj = np.array([float(i) for i in obj[:-1]])"
   ]
  },
  {
   "cell_type": "code",
   "execution_count": 6,
   "metadata": {},
   "outputs": [],
   "source": [
    "with open ('Measurements/solid/water_kalorimeter2','r') as myfile:\n",
    "    data=myfile.read().replace(',','.').replace('\\n',',').replace('\t',',')\n",
    "\n",
    "water = data.split(',')\n",
    "water = np.array([float(i) for i in water[:-1]])"
   ]
  },
  {
   "cell_type": "markdown",
   "metadata": {},
   "source": [
    "## Plotten von Daten"
   ]
  },
  {
   "cell_type": "code",
   "execution_count": null,
   "metadata": {},
   "outputs": [],
   "source": [
    "import matplotlib.pyplot as plt\n",
    "from scipy.optimize import curve_fit\n",
    "import numpy as np\n",
    "\n",
    "t_in=array[10::2]-array[10]\n",
    "T=array[11::2]\n",
    "\n",
    "a_m,b_m,c_m=np.polyfit(t_in[:12],T[:12],2)\n",
    "x_polyfit=np.linspace(-4,12,25)\n",
    "T_polyfit=a_m*(x_polyfit**2)+b_m*x_polyfit+c_m\n",
    "\n",
    "x=np.linspace(-15,75,250)\n",
    "\n",
    "a_l,b_l=np.polyfit(t_in[13:],T[13:],1)\n",
    "l_fit=a_l*x+b_l\n",
    "\n",
    "t_in2=hotwater[0::2]-hotwater[0]\n",
    "T2=hotwater[1::2]\n",
    "t_in2_=t_in2-t_in2[-1]-10\n",
    "\n",
    "a_h,b_h=np.polyfit(t_in2_,T2,1)\n",
    "h_fit=a_h*x+b_h\n",
    "\n",
    "a_m1,b_m1=np.polyfit(t_in[:4],T[:4],1)\n",
    "x_m1=np.linspace(-5.5,5,25)\n",
    "T_m1=a_m1*x_m1+b_m1\n",
    "\n",
    "a_m2,b_m2=np.polyfit(t_in[5:10],T[5:10],1)\n",
    "x_m2=np.linspace(5,10,25)\n",
    "T_m2=a_m2*x_m2+b_m2\n",
    "\n",
    "plt.plot(x,l_fit,label='Extrapolation Kaltes Wasser',color=\"blue\")\n",
    "plt.plot(x,h_fit,label='Extrapolation Warmes Wasser',color=\"red\")\n",
    "plt.plot(x_m1,T_m1,label='Extrapolation Gemischtes Wasser',color=\"green\")\n",
    "plt.plot(x_m2,T_m2,label='Interpolation Gemischtes Wasser',color=\"purple\")\n",
    "plt.plot(t_in,T,'x',label='Werte Kaltes Wasser',color=\"blue\")\n",
    "plt.plot(t_in2_,T2,'x',label='Werte Warmes Wasser',color=\"red\")\n",
    "plt.grid()\n",
    "plt.ylabel('Temperatur [°C]')\n",
    "plt.xlabel('Zeit [s]')\n",
    "t_1=t_in[5]\n",
    "t_2=(b_m2-b_l)/(a_l-a_m2)\n",
    "T_m2int=(a_m2/2)*(t_2**2-t_1**2)+b_m2*(t_2-t_1)\n",
    "T_lint=(a_l/2)*(t_2**2-t_1**2)+b_l*(t_2-t_1)\n",
    "F_add=T_m2int-T_lint\n",
    "t_0=(b_m1-b_h)/(a_h-a_m1)\n",
    "\n",
    "A=a_l/2-a_h/2\n",
    "B=b_l-b_h\n",
    "C=a_m*(t_1**2)/2+b_m*t_1-a_l*(t_1**2)/2-b_l*t_1+F_add+a_h*(t_0**2)/2+b_h*t_0-(a_m/2)*t_0**2-b_m*t_0\n",
    "\n",
    "t_m1=(-B+np.sqrt(B**2-4*A*C))/2*A\n",
    "t_m2=(-B-np.sqrt(B**2-4*A*C))/2*A\n",
    "print('Die Zeit unserer Mischtemperatur betraegt mathematisch entweder',t_m1,t_m2)\n",
    "\n",
    "print('Der naechste Wert an t_m1 ist',x_m1[17])\n",
    "\n",
    "T_m1v=T_m1[17]\n",
    "#T_m2v=T_m1[13]\n",
    "\n",
    "plt.plot(t_m1,T_m1v,'x',label='Wahre Mischtemperatur',color=\"purple\")\n",
    "#plt.plot(t_m2,T_m2v,'x',label='2. \"Wahre\" Mischtemperatur',color=\"orange\")\n",
    "fig_size=plt.rcParams[\"figure.figsize\"]\n",
    "fig_size[0]=10\n",
    "fig_size[1]=7.5\n",
    "plt.rcParams[\"figure.figsize\"]=fig_size\n",
    "plt.legend(loc=1)\n",
    "plt.axvline(t_m1,color=\"purple\")\n",
    "plt.savefig(fname='/home/a/Documents/uni/AP1/git/Praktikum-A1/3_31/Graph_Mix_Kali.png',dpi=300)\n",
    "plt.show()\n",
    "print('Unsere Mischungstemperatur ist',T_m1v)"
   ]
  },
  {
   "cell_type": "markdown",
   "metadata": {},
   "source": [
    "## Berechnung Waermekapazitaet von Wasser"
   ]
  },
  {
   "cell_type": "code",
   "execution_count": null,
   "metadata": {},
   "outputs": [],
   "source": [
    "from uncertainties import ufloat\n",
    "\n",
    "c_w=4182\n",
    "\n",
    "def beta(T_M,T_K,T_H):\n",
    "    return (T_M-T_K)/(T_H-T_M)\n",
    "\n",
    "def C_Kal(m_K,T_M,T_K,T_H,m_H):\n",
    "    return (c_w*(m_K*beta(T_M,T_K,T_H)-m_H))\n",
    "\n",
    "m_k=ufloat(0.22180,0.00005)\n",
    "m_h=ufloat(0.33984,0.00005)\n",
    "T_m=58.89\n",
    "T_k=ufloat(array[9],1)\n",
    "T_h=ufloat(h_fit[25],1)\n",
    "print(T_k,T_h)\n",
    "\n",
    "print(C_Kal(m_k,T_m,T_k,T_h,m_h))"
   ]
  },
  {
   "cell_type": "code",
   "execution_count": null,
   "metadata": {},
   "outputs": [],
   "source": [
    "from scipy import interpolate\n",
    "\n",
    "def fitfunc(t,y_0,y_1,k):\n",
    "    return y_0+y_1*np.exp(-k*t)\n",
    "\n",
    "t_in=obj[0::2]-obj[0]\n",
    "T_in=obj[1::2]\n",
    "\n",
    "T_in_h=T_in[:10]\n",
    "t_in_h=t_in[:10]\n",
    "\n",
    "x=np.linspace(0,t_in[-1],320)\n",
    "x_e=np.linspace(9,150,320)\n",
    "\n",
    "#spl=interpolate.splrep(t_in,T_in,s=0)\n",
    "\n",
    "#ynew=interpolate.splev(x,spl,der=0)\n",
    "\n",
    "popt,pvoc=curve_fit(fitfunc,t_in[11:],T_in[11:])#,method='dogbox')\n",
    "y_0,y_1,k=popt\n",
    "ynew2=fitfunc(x_e,y_0,y_1,k)\n",
    "\n",
    "a_h,b_h=np.polyfit(t_in_h,T_in_h,1)\n",
    "fit_h=a_h*x+b_h\n",
    "\n",
    "a_l,b_l=np.polyfit(t_in[100:],T_in[100:],1)\n",
    "fit_l=a_l*x+b_l\n",
    "\n",
    "plt.plot(x,fit_h,label='Extrapolation Warmes Wasser',color=\"red\")\n",
    "plt.plot(x,fit_l,label='Extrapolation Kaltes Wasser',color='blue')\n",
    "plt.plot(x_e,ynew2,color='green',label='Interpolation Messwerte')\n",
    "plt.plot(t_in,T_in,'x',label='Messwerte',color=\"orange\")\n",
    "plt.grid()\n",
    "plt.ylabel('Temperatur [°C]')\n",
    "plt.xlabel('Zeit [s]')\n",
    "\n",
    "#from sympy.solvers import solve\n",
    "#from sympy import Symbol\n",
    "#import sympy as sp\n",
    "\n",
    "def equm(t_):\n",
    "    return y_0+y_1*np.exp(-k*t_)\n",
    "\n",
    "def equh(t__):\n",
    "    return a_h*t__+b_h\n",
    "\n",
    "def equl(t___):\n",
    "    return a_l*t___+b_l\n",
    "\n",
    "#x=Symbol('x')\n",
    "a,b,c=y_0,y_1,k\n",
    "\n",
    "t_h=11\n",
    "t_l=100\n",
    "#eq=a*t_h-(b/c)*sp.exp(-c*t_h)-a*x+(b/c)*sp.exp(-c*x)-0.5*a_l*t_l**2-b_l*t_l+0.5*x**2+b_l*x-(0.5*a_h*x**2+0.5*a_h*x-0.5*a_h*t_h**2-0.5*a_h*t_h**2-a*x*(b/c)*sp.exp(-c*x)+a*t_h*(b/c)*sp.exp(-c*t_h))\n",
    "#t_m=solve(eq,x)       \n",
    "#print(t_m)\n",
    "\n",
    "#x_=np.linspace(0,100,320)\n",
    "#def equ(_x):\n",
    "#    return eq=a*t_h-(b/c)*np.exp(-c*t_h)-a*_x+(b/c)*np.exp(-c*_x)-0.5*a_l*t_l**2-b_l*t_l+0.5*x**2+b_l*_x-(0.5*a_h*_x**2+0.5*a_h*_x-0.5*a_h*t_h**2-0.5*a_h*t_h**2-a*_x*(b/c)*np.exp(-c*_x)+a*t_h*(b/c)*np.exp(-c*t_h))\n",
    "\n",
    "import scipy.integrate as integrate\n",
    "\n",
    "\n",
    "\n",
    "#print(a,a_h,a_l,b,b_h,b_l,c,t_h,t_l)\n",
    "#print(a*t_h-(b/c)*np.exp(-c*t_h)-a*_x+(b/c)*np.exp(-c*_x)-0.5*a_l*t_l**2-b_l*t_l+0.5*x**2+b_l*_x-(0.5*a_h*_x**2+0.5*a_h*_x-0.5*a_h*t_h**2-0.5*a_h*t_h**2-a*_x*(b/c)*np.exp(-c*_x)+a*t_h*(b/c)*np.exp(-c*t_h)))\n",
    "\n",
    "#plt.plot(x_,equ(x_),color='purple')\n",
    "\n",
    "#print(equ(29))\n",
    "\n",
    "t_m=28\n",
    "intl1=integrate.quad(equm,t_m,t_l)\n",
    "intl2=integrate.quad(equl,t_m,t_l)\n",
    "inth1=integrate.quad(equm,t_h,t_m)\n",
    "inth2=integrate.quad(equh,t_h,t_m)\n",
    "\n",
    "print(np.array([intl1])-np.array([intl2]))\n",
    "print(np.array([inth2])-np.array([inth1]))\n",
    "plt.axvline(t_m)\n",
    "plt.plot(t_m,y_0+y_1*np.exp(-k*x_e[43]),'x',color='blue',label='Wahre Mischtemperatur')\n",
    "print(y_0+y_1*np.exp(-k*x_e[43]))\n",
    "print(y_0+y_1*np.exp(-k*x_e[42]))\n",
    "print(y_0+y_1*np.exp(-k*x_e[44]))\n",
    "print('Die Temperatur des Messkoerpers vor dem Mischen ist',a_h*t_h+b_h)\n",
    "print('Die Temperatur des Messkoerpers nach dem Mischen ist',a_h*t_l+b_h)\n",
    "#plt.plot(t_m1,T_m1v,'x',label='Wahre Mischtemperatur',color=\"purple\")\n",
    "#plt.plot(t_m2,T_m2v,'x',label='2. \"Wahre\" Mischtemperatur',color=\"orange\")\n",
    "#plt.plot()\n",
    "fig_size=plt.rcParams[\"figure.figsize\"]\n",
    "fig_size[0]=12\n",
    "fig_size[1]=9\n",
    "plt.rcParams[\"figure.figsize\"]=fig_size\n",
    "plt.legend(loc=1)\n",
    "#plt.axvline(t_m1,color=\"purple\")\n",
    "plt.savefig(fname='/home/a/Documents/uni/AP1/git/Praktikum-A1/3_31/Graph_Mix_Obj.png',dpi=300)\n",
    "plt.show()\n",
    "#print('Unsere Mischungstemperatur ist',T_m1v)"
   ]
  },
  {
   "cell_type": "code",
   "execution_count": null,
   "metadata": {},
   "outputs": [],
   "source": [
    "with open ('Measurements/solid/solid_2_cooldown_process','r') as myfile:\n",
    "    data=myfile.read().replace(',','.').replace('\\n',',').replace('\t',',')\n",
    "obj = data.split(',')\n",
    "obj = np.array([float(i) for i in obj[:-1]])\n",
    "\n",
    "def eulfunc(t,a,b,c):\n",
    "    return a+b*np.exp(-c*t)\n",
    "\n",
    "t_in=obj[0::2]-obj[0]\n",
    "T_in=obj[1::2]\n",
    "\n",
    "t_in_=t_in[11:]\n",
    "T_in_=T_in[11:]\n",
    "\n",
    "x=np.linspace(0,155,300)\n",
    "\n",
    "popt,pvoc=curve_fit(eulfunc,t_in_[:80],T_in_[:80])\n",
    "a,b,c=popt\n",
    "y=eulfunc(x,a,b,c)\n",
    "\n",
    "x_=np.linspace(0,155,300)\n",
    "y_=eulfunc(x_,a,b,c)\n",
    "\n",
    "a_p,b_p,c_p,d_p=np.polyfit(t_in_,T_in_,3)\n",
    "fit_p=a_p*x**3+b_p*x**2+c_p*x+d_p\n",
    "\n",
    "#plt.plot(x,fit_p)\n",
    "#plt.plot(x,y,color='red')\n",
    "plt.plot(t_in_,T_in_)\n",
    "plt.plot(x_,y_)\n",
    "plt.show()"
   ]
  },
  {
   "cell_type": "code",
   "execution_count": 59,
   "metadata": {},
   "outputs": [
    {
     "name": "stdout",
     "output_type": "stream",
     "text": [
      "specific heat capacity (1.44+/-0.13)e+04 J/kgK\n",
      "heat capacity (1.03+/-0.09)e+03 J/K\n"
     ]
    }
   ],
   "source": [
    "from uncertainties import ufloat\n",
    "\n",
    "def beta(T_m,T_f,T_k):\n",
    "    return (T_m-T_f)/(T_k-T_m)\n",
    "\n",
    "def c_k(m_f,c_f,c_kal,m_k,T_m,T_f,T_K):\n",
    "#    return (m_f*c_f+c_kal)/m_k\n",
    "    return beta(T_m,T_f,T_K)*(m_f*c_f+c_kal)/m_k\n",
    "\n",
    "m_F=ufloat(0.33707-0.11776,0.00005)\n",
    "T_M=ufloat(45.0,0.4)\n",
    "m_K=ufloat(0.07133,0.00005)\n",
    "T_K=ufloat(71.97,0.4)\n",
    "T_F=ufloat(sum(water[1::2])/len(water[1::2]),0.4)\n",
    "C_Kal=ufloat(190,90)\n",
    "c_F=4182\n",
    "#print(T_F)\n",
    "c=c_k(m_F,c_F,C_Kal,m_K,T_M,T_F,T_K)\n",
    "print('specific heat capacity',c,'J/kgK')\n",
    "print('heat capacity',c*m_K,'J/K')\n",
    "#print(beta(T_M,T_F,T_K))\n",
    "#print()"
   ]
  },
  {
   "cell_type": "code",
   "execution_count": 34,
   "metadata": {},
   "outputs": [
    {
     "data": {
      "text/plain": [
       "1000.0"
      ]
     },
     "execution_count": 34,
     "metadata": {},
     "output_type": "execute_result"
    }
   ],
   "source": [
    "(0.2*4000+200)"
   ]
  },
  {
   "cell_type": "code",
   "execution_count": 30,
   "metadata": {},
   "outputs": [
    {
     "name": "stdout",
     "output_type": "stream",
     "text": [
      "219.31+/-0.07\n"
     ]
    }
   ],
   "source": [
    "print(ufloat(337.07,0.05)-ufloat(117.76,0.05))"
   ]
  },
  {
   "cell_type": "code",
   "execution_count": null,
   "metadata": {},
   "outputs": [],
   "source": []
  }
 ],
 "metadata": {
  "kernelspec": {
   "display_name": "Python 3",
   "language": "python",
   "name": "python3"
  },
  "language_info": {
   "codemirror_mode": {
    "name": "ipython",
    "version": 3
   },
   "file_extension": ".py",
   "mimetype": "text/x-python",
   "name": "python",
   "nbconvert_exporter": "python",
   "pygments_lexer": "ipython3",
   "version": "3.6.5"
  }
 },
 "nbformat": 4,
 "nbformat_minor": 2
}
