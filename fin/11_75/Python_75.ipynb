{
 "cells": [
  {
   "cell_type": "code",
   "execution_count": 2,
   "metadata": {},
   "outputs": [],
   "source": [
    "import THONKtools as THONK\n",
    "import numpy as np\n",
    "import pandas as pd\n",
    "from uncertainties import ufloat\n",
    "from uncertainties import unumpy as unp"
   ]
  },
  {
   "cell_type": "code",
   "execution_count": 3,
   "metadata": {},
   "outputs": [],
   "source": [
    "def beta(b,g):\n",
    "    return b/g"
   ]
  },
  {
   "cell_type": "markdown",
   "metadata": {},
   "source": [
    "Glas: $1\\,\\mathrm{cm}\\hat{=}0.15\\,\\mathrm{mm}$\n",
    "\n",
    "Matt: $1\\,\\mathrm{cm}\\simeq 0.15\\,\\mathrm{mm}$\n",
    "\n",
    "None: $1\\,\\mathrm{cm}\\equiv0.15\\,\\mathrm{mm}$\n",
    "\n",
    "Unsicherheit: $\\pm0.03\\,\\mathrm{mm}$\n",
    "\n",
    "OR\n",
    "\n",
    "Glas: $1\\,\\mathrm{cm}\\ \\hat{=}\\ 3\\,\\mathrm{mm}$\n",
    "\n",
    "Matt: $1\\,\\mathrm{cm}\\simeq 3\\,\\mathrm{mm}$\n",
    "\n",
    "None: $1\\,\\mathrm{cm}\\equiv3\\,\\mathrm{mm}$"
   ]
  },
  {
   "cell_type": "code",
   "execution_count": 11,
   "metadata": {},
   "outputs": [
    {
     "name": "stdout",
     "output_type": "stream",
     "text": [
      "$\\beta =$ 19.60+/-0.04\n",
      "$V_M =$ 65.3+/-0.7\n",
      "$V_M =$ 1306.7+/-2.7\n"
     ]
    }
   ],
   "source": [
    "#Fehler pls\n",
    "\n",
    "f1=40\n",
    "f2=40\n",
    "#f3=\n",
    "f4=80\n",
    "s0=250\n",
    "d=50\n",
    "B=ufloat(98.0,0.2)\n",
    "G=5\n",
    "print(r'$\\beta =$',B/G)\n",
    "print(r'$V_M =$',B/G*ufloat(10,0.03)/ufloat(3,0.03))\n",
    "print(r'$V_M =$',B/G*10/0.15)"
   ]
  },
  {
   "cell_type": "code",
   "execution_count": 18,
   "metadata": {},
   "outputs": [
    {
     "name": "stdout",
     "output_type": "stream",
     "text": [
      "113.82978723404256\n",
      "122.5\n"
     ]
    }
   ],
   "source": [
    "print(856/47*s0/f2)\n",
    "print(B/G*s0/f2)"
   ]
  },
  {
   "cell_type": "code",
   "execution_count": 15,
   "metadata": {},
   "outputs": [],
   "source": [
    "ok=ufloat(1156+50,1)\n",
    "objektiv=ufloat(300,1)\n",
    "d=ok-objektiv\n",
    "b=ok-f4-objektiv\n",
    "g=(1/f1-1/(ok-f4-objektiv))**-1"
   ]
  },
  {
   "cell_type": "code",
   "execution_count": 16,
   "metadata": {},
   "outputs": [
    {
     "name": "stdout",
     "output_type": "stream",
     "text": [
      "61.41+/-0.11\n"
     ]
    }
   ],
   "source": [
    "print(b/g*s0/f4)"
   ]
  },
  {
   "cell_type": "code",
   "execution_count": 17,
   "metadata": {},
   "outputs": [
    {
     "name": "stdout",
     "output_type": "stream",
     "text": [
      "826.0+/-1.4\n",
      "42.036+/-0.004\n"
     ]
    }
   ],
   "source": [
    "print(b)\n",
    "print(g)"
   ]
  },
  {
   "cell_type": "code",
   "execution_count": 29,
   "metadata": {},
   "outputs": [
    {
     "name": "stdout",
     "output_type": "stream",
     "text": [
      "19.650000000000002\n"
     ]
    }
   ],
   "source": [
    "print(b/g)"
   ]
  },
  {
   "cell_type": "code",
   "execution_count": 30,
   "metadata": {},
   "outputs": [
    {
     "name": "stdout",
     "output_type": "stream",
     "text": [
      "3.125\n"
     ]
    }
   ],
   "source": [
    "print(s0/f4)"
   ]
  },
  {
   "cell_type": "code",
   "execution_count": 27,
   "metadata": {},
   "outputs": [
    {
     "name": "stdout",
     "output_type": "stream",
     "text": [
      "0.4712+/-0.0012\n"
     ]
    }
   ],
   "source": [
    "print((B/10)/ufloat(20.8,0.03))"
   ]
  },
  {
   "cell_type": "code",
   "execution_count": 29,
   "metadata": {},
   "outputs": [
    {
     "name": "stdout",
     "output_type": "stream",
     "text": [
      "0.011779+/-0.000029\n"
     ]
    }
   ],
   "source": [
    "print((B/10)/ufloat(20.8,0.03)/f2)"
   ]
  },
  {
   "cell_type": "code",
   "execution_count": 63,
   "metadata": {},
   "outputs": [
    {
     "name": "stdout",
     "output_type": "stream",
     "text": [
      "(2.794+/-0.007)e-05\n"
     ]
    }
   ],
   "source": [
    "lampda=540*0.000000001\n",
    "print(1.22*lampda/(2*unp.sin(ufloat(0.01179,0.00003))))"
   ]
  },
  {
   "cell_type": "code",
   "execution_count": null,
   "metadata": {},
   "outputs": [],
   "source": []
  },
  {
   "cell_type": "code",
   "execution_count": 18,
   "metadata": {
    "scrolled": false
   },
   "outputs": [
    {
     "name": "stdout",
     "output_type": "stream",
     "text": [
      "5.58033095048468\n"
     ]
    }
   ],
   "source": [
    "print(THONK.t(B/G*ufloat(10,0.03)/ufloat(3,0.03),b/g*s0/f4))"
   ]
  },
  {
   "cell_type": "code",
   "execution_count": 64,
   "metadata": {},
   "outputs": [
    {
     "name": "stdout",
     "output_type": "stream",
     "text": [
      "29.142857142857167\n"
     ]
    }
   ],
   "source": [
    "print(THONK.t(ufloat(2.796,0.007),ufloat(3,0)))"
   ]
  },
  {
   "cell_type": "code",
   "execution_count": 39,
   "metadata": {},
   "outputs": [
    {
     "name": "stdout",
     "output_type": "stream",
     "text": [
      "-218.83333333333331\n"
     ]
    }
   ],
   "source": [
    "def t(x,y):\n",
    "    return (x.n-y)/x.s\n",
    "print(t(ufloat(2.374,0.012),5))"
   ]
  },
  {
   "cell_type": "code",
   "execution_count": null,
   "metadata": {},
   "outputs": [],
   "source": []
  }
 ],
 "metadata": {
  "kernelspec": {
   "display_name": "Python 3",
   "language": "python",
   "name": "python3"
  },
  "language_info": {
   "codemirror_mode": {
    "name": "ipython",
    "version": 3
   },
   "file_extension": ".py",
   "mimetype": "text/x-python",
   "name": "python",
   "nbconvert_exporter": "python",
   "pygments_lexer": "ipython3",
   "version": "3.6.5"
  }
 },
 "nbformat": 4,
 "nbformat_minor": 2
}
