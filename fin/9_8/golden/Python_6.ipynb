{
 "cells": [
  {
   "cell_type": "code",
   "execution_count": 1,
   "metadata": {},
   "outputs": [
    {
     "name": "stdout",
     "output_type": "stream",
     "text": [
      "d 1 3.4247491638795994e-12\n",
      "d 2 3.69682551103843e-12\n",
      "d 3 5.5339260709914325e-12\n",
      "d 4 6.873470464135021e-12\n",
      "d 5 7.842780124999997e-12\n"
     ]
    }
   ],
   "source": [
    "from uncertainties import ufloat\n",
    "from uncertainties import unumpy as unp\n",
    "import numpy as np\n",
    "import matplotlib.pyplot as plt\n",
    "from scipy.optimize import curve_fit\n",
    "\n",
    "def eq1(r,l):\n",
    "    return r**4/l\n",
    "\n",
    "def eq2(d,l):\n",
    "    return d**4/l\n",
    "\n",
    "def d(r):\n",
    "    return 2*r\n",
    "\n",
    "def r(d):\n",
    "    return d/2\n",
    "\n",
    "def I(V,t):\n",
    "    return V/t\n",
    "\n",
    "def mean(a):\n",
    "    return sum(a)/len(a)\n",
    "\n",
    "d1=0.00080\n",
    "l1=0.1196\n",
    "d4=0.00095\n",
    "l4=0.1185\n",
    "d3=0.00082\n",
    "l3=0.0817\n",
    "d5=0.00089\n",
    "l5=0.080\n",
    "d2=0.00082\n",
    "l2=0.1223\n",
    "\n",
    "print('d 1',eq2(d1,l1))\n",
    "print('d 2',eq2(d2,l2))\n",
    "print('d 3',eq2(d3,l3))\n",
    "print('d 4',eq2(d4,l4))\n",
    "print('d 5',eq2(d5,l5))"
   ]
  },
  {
   "cell_type": "code",
   "execution_count": 17,
   "metadata": {},
   "outputs": [
    {
     "name": "stdout",
     "output_type": "stream",
     "text": [
      "[2.786885245901639e-07+/-1.6621044817052634e-08\n",
      " 3.0085959885386817e-07+/-2.4263666637051406e-08\n",
      " 2.7910685805422647e-07+/-1.0106909488038647e-08\n",
      " 2.784584539986634e-07+/-1.1292726404241729e-08\n",
      " 3.0437188710570006e-07+/-2.812780402998205e-08]\n",
      "[5.469713169985449e-09, 5.428910329918648e-09, 6.164574559465859e-09, 2.788522166952547e-07+/-6.9464065484180456e-09]\n",
      "[  8.96377021e+02   4.85884642e-09]\n"
     ]
    },
    {
     "ename": "TypeError",
     "evalue": "can't convert an affine function (<class 'uncertainties.core.AffineScalarFunc'>) to float; use x.nominal_value",
     "output_type": "error",
     "traceback": [
      "\u001b[0;31m---------------------------------------------------------------------------\u001b[0m",
      "\u001b[0;31mTypeError\u001b[0m                                 Traceback (most recent call last)",
      "\u001b[0;32m<ipython-input-17-da58ba6e3542>\u001b[0m in \u001b[0;36m<module>\u001b[0;34m()\u001b[0m\n\u001b[1;32m     46\u001b[0m \u001b[0;34m\u001b[0m\u001b[0m\n\u001b[1;32m     47\u001b[0m \u001b[0mplt\u001b[0m\u001b[0;34m.\u001b[0m\u001b[0mplot\u001b[0m\u001b[0;34m(\u001b[0m\u001b[0mdarray\u001b[0m\u001b[0;34m,\u001b[0m\u001b[0mIarrayn\u001b[0m\u001b[0;34m,\u001b[0m\u001b[0;34m'x'\u001b[0m\u001b[0;34m,\u001b[0m\u001b[0mlabel\u001b[0m\u001b[0;34m=\u001b[0m\u001b[0;34m'Messwerte'\u001b[0m\u001b[0;34m,\u001b[0m\u001b[0mcolor\u001b[0m\u001b[0;34m=\u001b[0m\u001b[0;34m'blue'\u001b[0m\u001b[0;34m)\u001b[0m\u001b[0;34m\u001b[0m\u001b[0m\n\u001b[0;32m---> 48\u001b[0;31m \u001b[0mplt\u001b[0m\u001b[0;34m.\u001b[0m\u001b[0merrorbar\u001b[0m\u001b[0;34m(\u001b[0m\u001b[0mx\u001b[0m\u001b[0;34m=\u001b[0m\u001b[0mdarray\u001b[0m\u001b[0;34m,\u001b[0m\u001b[0my\u001b[0m\u001b[0;34m=\u001b[0m\u001b[0mIarrayn\u001b[0m\u001b[0;34m,\u001b[0m\u001b[0myerr\u001b[0m\u001b[0;34m=\u001b[0m\u001b[0mIarrays\u001b[0m\u001b[0;34m,\u001b[0m\u001b[0mfmt\u001b[0m\u001b[0;34m=\u001b[0m\u001b[0;34m'none'\u001b[0m\u001b[0;34m,\u001b[0m\u001b[0mlabel\u001b[0m\u001b[0;34m=\u001b[0m\u001b[0;34m'Fehlerbalken'\u001b[0m\u001b[0;34m,\u001b[0m\u001b[0mcolor\u001b[0m\u001b[0;34m=\u001b[0m\u001b[0;34m'red'\u001b[0m\u001b[0;34m)\u001b[0m\u001b[0;34m\u001b[0m\u001b[0m\n\u001b[0m\u001b[1;32m     49\u001b[0m \u001b[0;34m\u001b[0m\u001b[0m\n\u001b[1;32m     50\u001b[0m \u001b[0mplt\u001b[0m\u001b[0;34m.\u001b[0m\u001b[0mgrid\u001b[0m\u001b[0;34m(\u001b[0m\u001b[0;34m)\u001b[0m\u001b[0;34m\u001b[0m\u001b[0m\n",
      "\u001b[0;32m~/anaconda3/lib/python3.6/site-packages/matplotlib/pyplot.py\u001b[0m in \u001b[0;36merrorbar\u001b[0;34m(x, y, yerr, xerr, fmt, ecolor, elinewidth, capsize, barsabove, lolims, uplims, xlolims, xuplims, errorevery, capthick, hold, data, **kwargs)\u001b[0m\n\u001b[1;32m   2927\u001b[0m                           \u001b[0mxlolims\u001b[0m\u001b[0;34m=\u001b[0m\u001b[0mxlolims\u001b[0m\u001b[0;34m,\u001b[0m \u001b[0mxuplims\u001b[0m\u001b[0;34m=\u001b[0m\u001b[0mxuplims\u001b[0m\u001b[0;34m,\u001b[0m\u001b[0;34m\u001b[0m\u001b[0m\n\u001b[1;32m   2928\u001b[0m                           \u001b[0merrorevery\u001b[0m\u001b[0;34m=\u001b[0m\u001b[0merrorevery\u001b[0m\u001b[0;34m,\u001b[0m \u001b[0mcapthick\u001b[0m\u001b[0;34m=\u001b[0m\u001b[0mcapthick\u001b[0m\u001b[0;34m,\u001b[0m \u001b[0mdata\u001b[0m\u001b[0;34m=\u001b[0m\u001b[0mdata\u001b[0m\u001b[0;34m,\u001b[0m\u001b[0;34m\u001b[0m\u001b[0m\n\u001b[0;32m-> 2929\u001b[0;31m                           **kwargs)\n\u001b[0m\u001b[1;32m   2930\u001b[0m     \u001b[0;32mfinally\u001b[0m\u001b[0;34m:\u001b[0m\u001b[0;34m\u001b[0m\u001b[0m\n\u001b[1;32m   2931\u001b[0m         \u001b[0max\u001b[0m\u001b[0;34m.\u001b[0m\u001b[0m_hold\u001b[0m \u001b[0;34m=\u001b[0m \u001b[0mwashold\u001b[0m\u001b[0;34m\u001b[0m\u001b[0m\n",
      "\u001b[0;32m~/anaconda3/lib/python3.6/site-packages/matplotlib/__init__.py\u001b[0m in \u001b[0;36minner\u001b[0;34m(ax, *args, **kwargs)\u001b[0m\n\u001b[1;32m   1896\u001b[0m                     warnings.warn(msg % (label_namer, func.__name__),\n\u001b[1;32m   1897\u001b[0m                                   RuntimeWarning, stacklevel=2)\n\u001b[0;32m-> 1898\u001b[0;31m             \u001b[0;32mreturn\u001b[0m \u001b[0mfunc\u001b[0m\u001b[0;34m(\u001b[0m\u001b[0max\u001b[0m\u001b[0;34m,\u001b[0m \u001b[0;34m*\u001b[0m\u001b[0margs\u001b[0m\u001b[0;34m,\u001b[0m \u001b[0;34m**\u001b[0m\u001b[0mkwargs\u001b[0m\u001b[0;34m)\u001b[0m\u001b[0;34m\u001b[0m\u001b[0m\n\u001b[0m\u001b[1;32m   1899\u001b[0m         \u001b[0mpre_doc\u001b[0m \u001b[0;34m=\u001b[0m \u001b[0minner\u001b[0m\u001b[0;34m.\u001b[0m\u001b[0m__doc__\u001b[0m\u001b[0;34m\u001b[0m\u001b[0m\n\u001b[1;32m   1900\u001b[0m         \u001b[0;32mif\u001b[0m \u001b[0mpre_doc\u001b[0m \u001b[0;32mis\u001b[0m \u001b[0;32mNone\u001b[0m\u001b[0;34m:\u001b[0m\u001b[0;34m\u001b[0m\u001b[0m\n",
      "\u001b[0;32m~/anaconda3/lib/python3.6/site-packages/matplotlib/axes/_axes.py\u001b[0m in \u001b[0;36merrorbar\u001b[0;34m(self, x, y, yerr, xerr, fmt, ecolor, elinewidth, capsize, barsabove, lolims, uplims, xlolims, xuplims, errorevery, capthick, **kwargs)\u001b[0m\n\u001b[1;32m   3028\u001b[0m                 \u001b[0mxo\u001b[0m\u001b[0;34m,\u001b[0m \u001b[0m_\u001b[0m \u001b[0;34m=\u001b[0m \u001b[0mxywhere\u001b[0m\u001b[0;34m(\u001b[0m\u001b[0mx\u001b[0m\u001b[0;34m,\u001b[0m \u001b[0mlower\u001b[0m\u001b[0;34m,\u001b[0m \u001b[0mnoylims\u001b[0m \u001b[0;34m&\u001b[0m \u001b[0meverymask\u001b[0m\u001b[0;34m)\u001b[0m\u001b[0;34m\u001b[0m\u001b[0m\n\u001b[1;32m   3029\u001b[0m                 \u001b[0mlo\u001b[0m\u001b[0;34m,\u001b[0m \u001b[0muo\u001b[0m \u001b[0;34m=\u001b[0m \u001b[0mxywhere\u001b[0m\u001b[0;34m(\u001b[0m\u001b[0mlower\u001b[0m\u001b[0;34m,\u001b[0m \u001b[0mupper\u001b[0m\u001b[0;34m,\u001b[0m \u001b[0mnoylims\u001b[0m \u001b[0;34m&\u001b[0m \u001b[0meverymask\u001b[0m\u001b[0;34m)\u001b[0m\u001b[0;34m\u001b[0m\u001b[0m\n\u001b[0;32m-> 3030\u001b[0;31m                 \u001b[0mbarcols\u001b[0m\u001b[0;34m.\u001b[0m\u001b[0mappend\u001b[0m\u001b[0;34m(\u001b[0m\u001b[0mself\u001b[0m\u001b[0;34m.\u001b[0m\u001b[0mvlines\u001b[0m\u001b[0;34m(\u001b[0m\u001b[0mxo\u001b[0m\u001b[0;34m,\u001b[0m \u001b[0mlo\u001b[0m\u001b[0;34m,\u001b[0m \u001b[0muo\u001b[0m\u001b[0;34m,\u001b[0m \u001b[0;34m**\u001b[0m\u001b[0meb_lines_style\u001b[0m\u001b[0;34m)\u001b[0m\u001b[0;34m)\u001b[0m\u001b[0;34m\u001b[0m\u001b[0m\n\u001b[0m\u001b[1;32m   3031\u001b[0m                 \u001b[0;32mif\u001b[0m \u001b[0mcapsize\u001b[0m \u001b[0;34m>\u001b[0m \u001b[0;36m0\u001b[0m\u001b[0;34m:\u001b[0m\u001b[0;34m\u001b[0m\u001b[0m\n\u001b[1;32m   3032\u001b[0m                     caplines.append(mlines.Line2D(xo, lo, marker='_',\n",
      "\u001b[0;32m~/anaconda3/lib/python3.6/site-packages/matplotlib/__init__.py\u001b[0m in \u001b[0;36minner\u001b[0;34m(ax, *args, **kwargs)\u001b[0m\n\u001b[1;32m   1896\u001b[0m                     warnings.warn(msg % (label_namer, func.__name__),\n\u001b[1;32m   1897\u001b[0m                                   RuntimeWarning, stacklevel=2)\n\u001b[0;32m-> 1898\u001b[0;31m             \u001b[0;32mreturn\u001b[0m \u001b[0mfunc\u001b[0m\u001b[0;34m(\u001b[0m\u001b[0max\u001b[0m\u001b[0;34m,\u001b[0m \u001b[0;34m*\u001b[0m\u001b[0margs\u001b[0m\u001b[0;34m,\u001b[0m \u001b[0;34m**\u001b[0m\u001b[0mkwargs\u001b[0m\u001b[0;34m)\u001b[0m\u001b[0;34m\u001b[0m\u001b[0m\n\u001b[0m\u001b[1;32m   1899\u001b[0m         \u001b[0mpre_doc\u001b[0m \u001b[0;34m=\u001b[0m \u001b[0minner\u001b[0m\u001b[0;34m.\u001b[0m\u001b[0m__doc__\u001b[0m\u001b[0;34m\u001b[0m\u001b[0m\n\u001b[1;32m   1900\u001b[0m         \u001b[0;32mif\u001b[0m \u001b[0mpre_doc\u001b[0m \u001b[0;32mis\u001b[0m \u001b[0;32mNone\u001b[0m\u001b[0;34m:\u001b[0m\u001b[0;34m\u001b[0m\u001b[0m\n",
      "\u001b[0;32m~/anaconda3/lib/python3.6/site-packages/matplotlib/axes/_axes.py\u001b[0m in \u001b[0;36mvlines\u001b[0;34m(self, x, ymin, ymax, colors, linestyles, label, **kwargs)\u001b[0m\n\u001b[1;32m   1065\u001b[0m         \u001b[0;31m#print 'creating line collection'\u001b[0m\u001b[0;34m\u001b[0m\u001b[0;34m\u001b[0m\u001b[0m\n\u001b[1;32m   1066\u001b[0m         lines = mcoll.LineCollection(verts, colors=colors,\n\u001b[0;32m-> 1067\u001b[0;31m                                      linestyles=linestyles, label=label)\n\u001b[0m\u001b[1;32m   1068\u001b[0m         \u001b[0mself\u001b[0m\u001b[0;34m.\u001b[0m\u001b[0madd_collection\u001b[0m\u001b[0;34m(\u001b[0m\u001b[0mlines\u001b[0m\u001b[0;34m,\u001b[0m \u001b[0mautolim\u001b[0m\u001b[0;34m=\u001b[0m\u001b[0;32mFalse\u001b[0m\u001b[0;34m)\u001b[0m\u001b[0;34m\u001b[0m\u001b[0m\n\u001b[1;32m   1069\u001b[0m         \u001b[0mlines\u001b[0m\u001b[0;34m.\u001b[0m\u001b[0mupdate\u001b[0m\u001b[0;34m(\u001b[0m\u001b[0mkwargs\u001b[0m\u001b[0;34m)\u001b[0m\u001b[0;34m\u001b[0m\u001b[0m\n",
      "\u001b[0;32m~/anaconda3/lib/python3.6/site-packages/matplotlib/collections.py\u001b[0m in \u001b[0;36m__init__\u001b[0;34m(self, segments, linewidths, colors, antialiaseds, linestyles, offsets, transOffset, norm, cmap, pickradius, zorder, facecolors, **kwargs)\u001b[0m\n\u001b[1;32m   1220\u001b[0m             **kwargs)\n\u001b[1;32m   1221\u001b[0m \u001b[0;34m\u001b[0m\u001b[0m\n\u001b[0;32m-> 1222\u001b[0;31m         \u001b[0mself\u001b[0m\u001b[0;34m.\u001b[0m\u001b[0mset_segments\u001b[0m\u001b[0;34m(\u001b[0m\u001b[0msegments\u001b[0m\u001b[0;34m)\u001b[0m\u001b[0;34m\u001b[0m\u001b[0m\n\u001b[0m\u001b[1;32m   1223\u001b[0m \u001b[0;34m\u001b[0m\u001b[0m\n\u001b[1;32m   1224\u001b[0m     \u001b[0;32mdef\u001b[0m \u001b[0mset_segments\u001b[0m\u001b[0;34m(\u001b[0m\u001b[0mself\u001b[0m\u001b[0;34m,\u001b[0m \u001b[0msegments\u001b[0m\u001b[0;34m)\u001b[0m\u001b[0;34m:\u001b[0m\u001b[0;34m\u001b[0m\u001b[0m\n",
      "\u001b[0;32m~/anaconda3/lib/python3.6/site-packages/matplotlib/collections.py\u001b[0m in \u001b[0;36mset_segments\u001b[0;34m(self, segments)\u001b[0m\n\u001b[1;32m   1229\u001b[0m         \u001b[0;32mfor\u001b[0m \u001b[0mseg\u001b[0m \u001b[0;32min\u001b[0m \u001b[0msegments\u001b[0m\u001b[0;34m:\u001b[0m\u001b[0;34m\u001b[0m\u001b[0m\n\u001b[1;32m   1230\u001b[0m             \u001b[0;32mif\u001b[0m \u001b[0;32mnot\u001b[0m \u001b[0mnp\u001b[0m\u001b[0;34m.\u001b[0m\u001b[0mma\u001b[0m\u001b[0;34m.\u001b[0m\u001b[0misMaskedArray\u001b[0m\u001b[0;34m(\u001b[0m\u001b[0mseg\u001b[0m\u001b[0;34m)\u001b[0m\u001b[0;34m:\u001b[0m\u001b[0;34m\u001b[0m\u001b[0m\n\u001b[0;32m-> 1231\u001b[0;31m                 \u001b[0mseg\u001b[0m \u001b[0;34m=\u001b[0m \u001b[0mnp\u001b[0m\u001b[0;34m.\u001b[0m\u001b[0masarray\u001b[0m\u001b[0;34m(\u001b[0m\u001b[0mseg\u001b[0m\u001b[0;34m,\u001b[0m \u001b[0mnp\u001b[0m\u001b[0;34m.\u001b[0m\u001b[0mfloat_\u001b[0m\u001b[0;34m)\u001b[0m\u001b[0;34m\u001b[0m\u001b[0m\n\u001b[0m\u001b[1;32m   1232\u001b[0m             \u001b[0m_segments\u001b[0m\u001b[0;34m.\u001b[0m\u001b[0mappend\u001b[0m\u001b[0;34m(\u001b[0m\u001b[0mseg\u001b[0m\u001b[0;34m)\u001b[0m\u001b[0;34m\u001b[0m\u001b[0m\n\u001b[1;32m   1233\u001b[0m \u001b[0;34m\u001b[0m\u001b[0m\n",
      "\u001b[0;32m~/anaconda3/lib/python3.6/site-packages/numpy/core/numeric.py\u001b[0m in \u001b[0;36masarray\u001b[0;34m(a, dtype, order)\u001b[0m\n\u001b[1;32m    529\u001b[0m \u001b[0;34m\u001b[0m\u001b[0m\n\u001b[1;32m    530\u001b[0m     \"\"\"\n\u001b[0;32m--> 531\u001b[0;31m     \u001b[0;32mreturn\u001b[0m \u001b[0marray\u001b[0m\u001b[0;34m(\u001b[0m\u001b[0ma\u001b[0m\u001b[0;34m,\u001b[0m \u001b[0mdtype\u001b[0m\u001b[0;34m,\u001b[0m \u001b[0mcopy\u001b[0m\u001b[0;34m=\u001b[0m\u001b[0;32mFalse\u001b[0m\u001b[0;34m,\u001b[0m \u001b[0morder\u001b[0m\u001b[0;34m=\u001b[0m\u001b[0morder\u001b[0m\u001b[0;34m)\u001b[0m\u001b[0;34m\u001b[0m\u001b[0m\n\u001b[0m\u001b[1;32m    532\u001b[0m \u001b[0;34m\u001b[0m\u001b[0m\n\u001b[1;32m    533\u001b[0m \u001b[0;34m\u001b[0m\u001b[0m\n",
      "\u001b[0;32m~/anaconda3/lib/python3.6/site-packages/uncertainties/core.py\u001b[0m in \u001b[0;36mraise_error\u001b[0;34m(self)\u001b[0m\n\u001b[1;32m   2629\u001b[0m                             \u001b[0;34m' to %s; use x.nominal_value'\u001b[0m\u001b[0;34m\u001b[0m\u001b[0m\n\u001b[1;32m   2630\u001b[0m                             \u001b[0;31m# In case AffineScalarFunc is sub-classed:\u001b[0m\u001b[0;34m\u001b[0m\u001b[0;34m\u001b[0m\u001b[0m\n\u001b[0;32m-> 2631\u001b[0;31m                             % (self.__class__, coercion_type))\n\u001b[0m\u001b[1;32m   2632\u001b[0m \u001b[0;34m\u001b[0m\u001b[0m\n\u001b[1;32m   2633\u001b[0m         \u001b[0msetattr\u001b[0m\u001b[0;34m(\u001b[0m\u001b[0mAffineScalarFunc\u001b[0m\u001b[0;34m,\u001b[0m \u001b[0;34m'__%s__'\u001b[0m \u001b[0;34m%\u001b[0m \u001b[0mcoercion_type\u001b[0m\u001b[0;34m,\u001b[0m \u001b[0mraise_error\u001b[0m\u001b[0;34m)\u001b[0m\u001b[0;34m\u001b[0m\u001b[0m\n",
      "\u001b[0;31mTypeError\u001b[0m: can't convert an affine function (<class 'uncertainties.core.AffineScalarFunc'>) to float; use x.nominal_value"
     ]
    }
   ],
   "source": [
    "uv=0.0000005\n",
    "ut=0.3\n",
    "\n",
    "I1=mean(np.array([I(ufloat(0.0000055,uv),ufloat(38.56,ut)),I(ufloat(0.0000060,uv),ufloat(40.14,ut)),I(ufloat(0.0000075,uv),ufloat(50.74,ut)),I(ufloat(0.0000080,uv),ufloat(59.79,ut)),I(ufloat(0.0000050,uv),ufloat(31.52,ut))]))\n",
    "I4=mean(np.array([I(ufloat(0.0000085,uv),ufloat(30.50,ut)),I(ufloat(0.0000063,uv),ufloat(20.94,ut)),I(ufloat(0.0000140,uv),ufloat(50.16,ut)),I(ufloat(0.0000125,uv),ufloat(44.89,ut)),I(ufloat(0.0000055,uv),ufloat(18.07,ut))]))\n",
    "I3=mean(np.array([I(ufloat(0.0000097,uv),ufloat(48.52,ut)),I(ufloat(0.0000070,uv),ufloat(34.81,ut)),I(ufloat(0.0000080,uv),ufloat(38.80,ut)),I(ufloat(0.0000055,uv),ufloat(25.58,ut)),I(ufloat(0.0000115,uv),ufloat(57.77,ut))]))\n",
    "I5=mean(np.array([I(ufloat(0.0000130,uv),ufloat(47.28,ut)),I(ufloat(0.0000090,uv),ufloat(32.83,ut)),I(ufloat(0.0000060,uv),ufloat(20.32,ut)),I(ufloat(0.0000117,uv),ufloat(42.32,ut)),I(ufloat(0.0000150,uv),ufloat(54.86,ut))]))\n",
    "I2=mean(np.array([I(ufloat(0.0000050,uv),ufloat(31.09,ut)),I(ufloat(0.0000077,uv),ufloat(56.25,ut)),I(ufloat(0.0000075,uv),ufloat(50.15,ut)),I(ufloat(0.0000070,uv),ufloat(45.27,ut)),I(ufloat(0.0000060,uv),ufloat(38.184,ut))]))\n",
    "\n",
    "print(np.array([I(ufloat(0.0000085,uv),ufloat(30.50,ut)),I(ufloat(0.0000063,uv),ufloat(20.94,ut)),I(ufloat(0.0000140,uv),ufloat(50.16,ut)),I(ufloat(0.0000125,uv),ufloat(44.89,ut)),I(ufloat(0.0000055,uv),ufloat(18.07,ut))]))\n",
    "\n",
    "#Iarrayn=[I1.n,I2.n,I3.n,I4.n,I5.n]\n",
    "#Iarrays=[I1.s,I2.s,I3.s,I4.s,I5.s]\n",
    "\n",
    "Iarrayn=[I1.n,I2.n,I3.n,I5.n]#I5.n,I4.n]\n",
    "Iarrays=[I1.s,I2.s,I3.s,I5.s]#I5.s,I4.s]\n",
    "Iarray=[I1,I2,I3,I5]\n",
    "\n",
    "meanI=mean(Iarray)\n",
    "\n",
    "#darray=[eq2(d1,l1),eq2(d2,l2),eq2(d3,l3),eq2(d4,l4),eq2(d5,l5)]\n",
    "darray=[eq2(d1,l1),eq2(d2,l2),eq2(d3,l3),eq2(d5,l5)]#eq2(d5,l5),eq2(d4,l4)]\n",
    "#darrayn=[eq2(d1,l1).n,eq2(d2,l2).n,eq2(d3,l3).n,eq2(d4,l4).n,eq2(d5,l5).n]\n",
    "#darrays=[eq2(d1,l1).s,eq2(d2,l2).s,eq2(d3,l3).s,eq2(d4,l4).s,eq2(d5,l5).s]\n",
    "print(Iarrays)\n",
    "#Polynom\n",
    "def fitfunc(x,a,b):\n",
    "    return a*x+b\n",
    "\n",
    "#Fitten\n",
    "xfit=np.linspace(3e-12,8e-12,100)\n",
    "popt,pcov=curve_fit(fitfunc,darray,Iarrayn)\n",
    "a,b=popt\n",
    "c,d=pcov\n",
    "fit=a*xfit+b\n",
    "\n",
    "#Ausgabe\n",
    "plt.plot(xfit,fit,'-',color='orange',label='Lineare Regression')\n",
    "print(np.sqrt(np.diag(pcov)))\n",
    "c=np.sqrt(np.diag(pcov))[0]\n",
    "d=np.sqrt(np.diag(pcov))[1]\n",
    "dfit1=(a+c)*(xfit)+(b-d)\n",
    "dfit2=(a-c)*(xfit)+(b+d)\n",
    "plt.plot(xfit,dfit1,'--',color='orange')\n",
    "plt.plot(xfit,dfit2,'--',color='orange')\n",
    "\n",
    "plt.plot(darray,Iarrayn,'x',label='Messwerte',color='blue')\n",
    "plt.errorbar(x=darray,y=Iarrayn,yerr=Iarrays,fmt='none',label='Fehlerbalken',color='red')\n",
    "\n",
    "plt.grid()\n",
    "fig_size=plt.rcParams[\"figure.figsize\"]\n",
    "fig_size[0]=10\n",
    "fig_size[1]=7.5\n",
    "plt.xlabel(r'$\\frac{d^4}{l}\\ [\\mathrm{m}^3]$',size='15')\n",
    "plt.ylabel(r'$I_V\\ \\left[\\mathrm{\\frac{m^3}{s}}\\right]$',size='15')\n",
    "plt.rcParams[\"figure.figsize\"]=fig_size\n",
    "plt.legend()\n",
    "#plt.savefig(filename='graph_without_5.png',dpi=300)\n",
    "plt.show()"
   ]
  },
  {
   "cell_type": "code",
   "execution_count": 14,
   "metadata": {},
   "outputs": [
    {
     "name": "stdout",
     "output_type": "stream",
     "text": [
      "[  4.96928415e+03   2.85267694e-08]\n"
     ]
    },
    {
     "data": {
      "image/png": "[encoded data removed]",
      "text/plain": [
       "<matplotlib.figure.Figure at 0x1119266d8>"
      ]
     },
     "metadata": {},
     "output_type": "display_data"
    }
   ],
   "source": [
    "Iarrayn=[I1.n,I2.n,I3.n,I4.n,I5.n]\n",
    "Iarrays=[I1.s,I2.s,I3.s,I4.s,I5.s]\n",
    "Iarray=[I1,I2,I3,I4,I5]\n",
    "\n",
    "meanI=mean(Iarray)\n",
    "\n",
    "darray=[eq2(d1,l1),eq2(d2,l2),eq2(d3,l3),eq2(d4,l4),eq2(d5,l5)]\n",
    "\n",
    "#Fitten\n",
    "popt,pcov=curve_fit(fitfunc,darray,Iarrayn)\n",
    "a,b=popt\n",
    "c,d=pcov\n",
    "fit=a*xfit+b\n",
    "\n",
    "#Ausgabe\n",
    "plt.plot(xfit,fit,'-',color='orange',label='Lineare Regression')\n",
    "print(np.sqrt(np.diag(pcov)))\n",
    "c=np.sqrt(np.diag(pcov))[0]\n",
    "d=np.sqrt(np.diag(pcov))[1]\n",
    "dfit1=(a+c)*(xfit)+(b-d)\n",
    "dfit2=(a-c)*(xfit)+(b+d)\n",
    "plt.plot(xfit,dfit1,'--',color='orange')\n",
    "plt.plot(xfit,dfit2,'--',color='orange')\n",
    "\n",
    "plt.plot(darray,Iarrayn,'x',label='Messwerte',color='blue')\n",
    "plt.errorbar(x=darray,y=Iarrayn,yerr=Iarrays,fmt='none',label='Fehlerbalken',color='red')\n",
    "\n",
    "plt.grid()\n",
    "fig_size=plt.rcParams[\"figure.figsize\"]\n",
    "fig_size[0]=10\n",
    "fig_size[1]=7.5\n",
    "plt.xlabel(r'$\\frac{d^4}{l}\\ [\\mathrm{m}^3]$',size='15')\n",
    "plt.ylabel(r'$I_V\\ \\left[\\mathrm{\\frac{m^3}{s}}\\right]$',size='15')\n",
    "plt.rcParams[\"figure.figsize\"]=fig_size\n",
    "plt.legend()\n",
    "plt.savefig(filename='graph_with_5.png',dpi=300)\n",
    "plt.show()"
   ]
  },
  {
   "cell_type": "markdown",
   "metadata": {},
   "source": [
    "In der Formel $I_V=\\frac{V}{t}$ haben sowohl $V$ und $t$ Fehler. Wir verwenden hier also die verallgemeinerte Formel f\\\"ur Quotienten:\n",
    "$$\n",
    "\\left\\vert\\frac{\\Delta z}{z}\\right\\vert=\\sqrt{\\left(a\\frac{\\Delta x}{x}\\right)^2+\\left(b\\frac{\\Delta y}{y}\\right)^2+\\ldots}\\textrm{ f\\\"ur }z=x^a\\ y^b\\ldots\n",
    "$$\n",
    "Hier also:\n",
    "$$\n",
    "\\left\\vert\\frac{\\Delta I_V}{I_V}\\right\\vert=\\sqrt{\\left(\\frac{\\Delta V}{V}\\right)^2+\\left(-1\\frac{\\Delta t}{t}\\right)^2}\n",
    "$$\n",
    "Da $\\frac{d^4}{l}$ aus Werten ohne vorhandenem Fehler bestehen, berechnen wir daf\\\"ur keinen Fehler.\n",
    "\n",
    "Um unseren Mittelwert zu berechnen, rechnen wir ganz leicht mit \n",
    "$$\n",
    "\\frac{\\sum_{i=1}^n I{_V_i}}{n}\\label{mean}\n",
    "$$\n",
    "den Nominalwert, und mit\n",
    "$$\n",
    "s_x=\\sqrt{\\frac{1}{n-1}\\sum_{i=1}^n(x_i-\\overline{x})^2}\\label{meanstd}\n",
    "$$\n",
    "die Standardunsichertheit dessen.\n",
    "\n",
    "Unsere Mittelwerte der $I_V$ f\\\"ur jede Position werden dann gegen $\\nicefrac{d^4}{l}$ aufgetragen, siehe Abbildung (\\ref{Abb1}).\n",
    "\n",
    "Da wir jedoch klar erkennen k\\\"onnen, dass $I{_V_4}$ mit der linearen Steigung der anderen Werte nicht \\\"ubereinstimmt, lassen wir diesen Wert weg und erhalten die Gerade, welche in Abbildung (\\ref{Abb2}) gefunden werden kann.\n"
   ]
  },
  {
   "cell_type": "markdown",
   "metadata": {},
   "source": [
    "Um die Steigung der Ausgleichsgeraden zu berechnen, nehmen wir folgende Formel zunutze:\n",
    "$$\n",
    "a=\\frac{\\sum x_i^2\\sum y_i-\\sum x_i\\sum x_iy_i}{n\\sum x_i^2-(\\sum x_i)^2}\n",
    "$$\n"
   ]
  },
  {
   "cell_type": "code",
   "execution_count": 4,
   "metadata": {},
   "outputs": [
    {
     "name": "stdout",
     "output_type": "stream",
     "text": [
      "(2.8+/-0.9)e-08\n"
     ]
    }
   ],
   "source": [
    "def a(x,y):\n",
    "    n=len(x)\n",
    "    return (sum(x**2)*sum(y)-sum(x)*sum(x*y))/(n*sum(x**2)-(sum(x))**2)\n",
    "\n",
    "print(a(np.array(darray),np.array(Iarray)))"
   ]
  },
  {
   "cell_type": "markdown",
   "metadata": {},
   "source": [
    "Wir erhalten als Ergebnis daraus f\\\"ur unser $a$ einen Wert von $(0.014\\pm0.011)\\,\\mathrm{mm}^3$\n",
    "\n",
    "Um aus unseren Werten $\\Delta p$ zu berechnen, verwenden wir\n",
    "$$\n",
    "\\Delta p=\\rho_w hg\n",
    "$$"
   ]
  },
  {
   "cell_type": "code",
   "execution_count": 5,
   "metadata": {},
   "outputs": [
    {
     "name": "stdout",
     "output_type": "stream",
     "text": [
      "1324+/-29\n"
     ]
    }
   ],
   "source": [
    "rho=1000\n",
    "g=9.81\n",
    "\n",
    "def Dp(h):\n",
    "    return rho*h*g\n",
    "\n",
    "print(Dp(ufloat(0.135,0.003)))"
   ]
  },
  {
   "cell_type": "markdown",
   "metadata": {},
   "source": [
    "Da der einzige Wert mit einem Fehler $h$ ist, rechnen wir einfach mit\n",
    "$$\n",
    "\\Delta z=\\left|{\\dif f}{\\dif x}\\right|\\Delta x\\textrm{ f\\\"ur }z=f(x)\n",
    "$$\n",
    "unseren Fehler aus.\n",
    "Mit $\\rho_w=1000\\,\\frac{\\mathrm{kg}}{\\mathrm{m}^3}$, $g=9.81\\,\\frac{\\mathrm{m}}{\\mathrm{s}^2}$ und $h=(135\\pm3)\\,\\mathrm{mm}$ erhalten wir als Wert $\\Delta p=(132\\pm29)\\,$bar."
   ]
  },
  {
   "cell_type": "markdown",
   "metadata": {},
   "source": [
    "Da wir als Endergebnis $\\eta$ wollen, m\\\"ussen wir erstmal die Gleichung (\\ref{hagen}) umstellen und wir erhalten:\n",
    "$$\n",
    "\\eta=\\frac{\\pi R^4\\Delta p}{8I_V l}.\n",
    "$$\n",
    "Hier haben $\\Delta p$ und $I_V$ Fehler. Wir wenden also wieder die Gleichung f\\\"ur Produkte an und erhalten:\n",
    "$$\n",
    "\\left\\vert\\frac{\\Delta\\eta}{\\eta}\\right\\vert=\\sqrt{\\left(\\frac{\\Delta\\Delta p}{\\Delta p}\\right)^2+\\left(-1\\frac{\\Delta I_V}{I_V}\\right)^2}\n",
    "$$"
   ]
  },
  {
   "cell_type": "code",
   "execution_count": 6,
   "metadata": {},
   "outputs": [
    {
     "name": "stdout",
     "output_type": "stream",
     "text": [
      "0.000760+/-0.000033\n",
      "0.00118+/-0.00005\n",
      "0.000881+/-0.000033\n",
      "0.000914+/-0.000031\n",
      "0.000810+/-0.000022\n"
     ]
    }
   ],
   "source": [
    "def eta(R,p,I,l):\n",
    "    return np.pi*R**4*p/(8*I*l)\n",
    "\n",
    "Dep=Dp(ufloat(0.135,0.003))\n",
    "\n",
    "print(eta(d1/2,Dep,I1,l1))\n",
    "print(eta(d2/2,Dep,I2,l3))\n",
    "print(eta(d3/2,Dep,I3,l3))\n",
    "print(eta(d5/2,Dep,I5,l5))\n",
    "\n",
    "print(mean([eta(d1/2,Dep,I1,l1),eta(d2/2,Dep,I2,l2),eta(d4/2,Dep,I4,l4),eta(d5/2,Dep,I5,l5)]))"
   ]
  },
  {
   "cell_type": "markdown",
   "metadata": {},
   "source": [
    "Als Ergebnis f\\\"ur $\\eta$ erhalten wir f\\\"ur unsere vier verwendeten Messreihen:\n",
    "$\\begin{itemize}\n",
    "\\item (0.076\\pm0.017)\\,\\mathrm{\\frac{kg}{ms}}\n",
    "\\item (0.118\\pm0.027)\\,\\mathrm{\\frac{kg}{ms}}\n",
    "\\item (0.088\\pm0.020)\\,\\mathrm{\\frac{kg}{ms}}\n",
    "\\item (0.091\\pm0.020)\\,\\mathrm{\\frac{kg}{ms}}\n",
    "\\end{itemize}\n",
    "$\n",
    "\n",
    "Nutzen wir die Formeln (\\ref{mean}) und (\\ref{meanstd}) um unseren Mittelwert zu bestimmen, so erhalten wir als Standardunsicherheit\n",
    "\\[\n",
    "0.08\\pm0.018\\,\\mathrm{\\frac{kg}{ms}}\n",
    "\\]\n",
    "\n",
    "Als n\\\"achstes betrachten wir den durchschnittlichen Fehler der Messungen und die Streuung:"
   ]
  },
  {
   "cell_type": "code",
   "execution_count": 7,
   "metadata": {},
   "outputs": [
    {
     "name": "stdout",
     "output_type": "stream",
     "text": [
      "6.538968208455213e-09\n",
      "6.04138941992e-08\n"
     ]
    }
   ],
   "source": [
    "print(mean(Iarrays))\n",
    "print(np.std(Iarrayn))"
   ]
  },
  {
   "cell_type": "markdown",
   "metadata": {},
   "source": [
    "Wir erhalten als durchschnittlichen Fehler $0.006\\,$A und als Streuung $0.570\\,$A."
   ]
  },
  {
   "cell_type": "markdown",
   "metadata": {},
   "source": [
    "Anhand der Fehlerbalken ist zu erkennen, dass der Fehler mit zunehmenden $\\frac{d^4}{l}$ steigt. Da die Formel f\\\"ur $I_V$ zu  $\\frac{1}{l}$ und $\\left(\\frac{d}{2}\\right)^2$ proportional ist, aber diese Werte keine statistischen Fehler haben, ist klar, dass dies aufgrund von systematischer Fehler der Fall sein muss. Erstaunlich ist dies nicht, da sowohl $d$ und $l$ vorgegeben worden sind ohne Fehler, wodurch sie systematische Fehler sind.\n",
    "\n"
   ]
  },
  {
   "cell_type": "code",
   "execution_count": 18,
   "metadata": {},
   "outputs": [
    {
     "ename": "TypeError",
     "evalue": "tuple indices must be integers or slices, not float",
     "output_type": "error",
     "traceback": [
      "\u001b[0;31m---------------------------------------------------------------------------\u001b[0m",
      "\u001b[0;31mTypeError\u001b[0m                                 Traceback (most recent call last)",
      "\u001b[0;32m<ipython-input-18-c86c8436be16>\u001b[0m in \u001b[0;36m<module>\u001b[0;34m()\u001b[0m\n\u001b[0;32m----> 1\u001b[0;31m \u001b[0mprint\u001b[0m\u001b[0;34m(\u001b[0m\u001b[0mnp\u001b[0m\u001b[0;34m.\u001b[0m\u001b[0mstd\u001b[0m\u001b[0;34m(\u001b[0m\u001b[0;36m0.760\u001b[0m\u001b[0;34m,\u001b[0m\u001b[0;36m1.18\u001b[0m\u001b[0;34m,\u001b[0m\u001b[0;36m0.881\u001b[0m\u001b[0;34m,\u001b[0m\u001b[0;36m0.914\u001b[0m\u001b[0;34m,\u001b[0m\u001b[0;36m0.810\u001b[0m\u001b[0;34m)\u001b[0m\u001b[0;34m)\u001b[0m\u001b[0;34m\u001b[0m\u001b[0m\n\u001b[0m",
      "\u001b[0;32m~/anaconda3/lib/python3.6/site-packages/numpy/core/fromnumeric.py\u001b[0m in \u001b[0;36mstd\u001b[0;34m(a, axis, dtype, out, ddof, keepdims)\u001b[0m\n\u001b[1;32m   3025\u001b[0m \u001b[0;34m\u001b[0m\u001b[0m\n\u001b[1;32m   3026\u001b[0m     return _methods._std(a, axis=axis, dtype=dtype, out=out, ddof=ddof,\n\u001b[0;32m-> 3027\u001b[0;31m                          **kwargs)\n\u001b[0m\u001b[1;32m   3028\u001b[0m \u001b[0;34m\u001b[0m\u001b[0m\n\u001b[1;32m   3029\u001b[0m \u001b[0;34m\u001b[0m\u001b[0m\n",
      "\u001b[0;32m~/anaconda3/lib/python3.6/site-packages/numpy/core/_methods.py\u001b[0m in \u001b[0;36m_std\u001b[0;34m(a, axis, dtype, out, ddof, keepdims)\u001b[0m\n\u001b[1;32m    133\u001b[0m \u001b[0;32mdef\u001b[0m \u001b[0m_std\u001b[0m\u001b[0;34m(\u001b[0m\u001b[0ma\u001b[0m\u001b[0;34m,\u001b[0m \u001b[0maxis\u001b[0m\u001b[0;34m=\u001b[0m\u001b[0;32mNone\u001b[0m\u001b[0;34m,\u001b[0m \u001b[0mdtype\u001b[0m\u001b[0;34m=\u001b[0m\u001b[0;32mNone\u001b[0m\u001b[0;34m,\u001b[0m \u001b[0mout\u001b[0m\u001b[0;34m=\u001b[0m\u001b[0;32mNone\u001b[0m\u001b[0;34m,\u001b[0m \u001b[0mddof\u001b[0m\u001b[0;34m=\u001b[0m\u001b[0;36m0\u001b[0m\u001b[0;34m,\u001b[0m \u001b[0mkeepdims\u001b[0m\u001b[0;34m=\u001b[0m\u001b[0;32mFalse\u001b[0m\u001b[0;34m)\u001b[0m\u001b[0;34m:\u001b[0m\u001b[0;34m\u001b[0m\u001b[0m\n\u001b[1;32m    134\u001b[0m     ret = _var(a, axis=axis, dtype=dtype, out=out, ddof=ddof,\n\u001b[0;32m--> 135\u001b[0;31m                keepdims=keepdims)\n\u001b[0m\u001b[1;32m    136\u001b[0m \u001b[0;34m\u001b[0m\u001b[0m\n\u001b[1;32m    137\u001b[0m     \u001b[0;32mif\u001b[0m \u001b[0misinstance\u001b[0m\u001b[0;34m(\u001b[0m\u001b[0mret\u001b[0m\u001b[0;34m,\u001b[0m \u001b[0mmu\u001b[0m\u001b[0;34m.\u001b[0m\u001b[0mndarray\u001b[0m\u001b[0;34m)\u001b[0m\u001b[0;34m:\u001b[0m\u001b[0;34m\u001b[0m\u001b[0m\n",
      "\u001b[0;32m~/anaconda3/lib/python3.6/site-packages/numpy/core/_methods.py\u001b[0m in \u001b[0;36m_var\u001b[0;34m(a, axis, dtype, out, ddof, keepdims)\u001b[0m\n\u001b[1;32m     87\u001b[0m     \u001b[0marr\u001b[0m \u001b[0;34m=\u001b[0m \u001b[0masanyarray\u001b[0m\u001b[0;34m(\u001b[0m\u001b[0ma\u001b[0m\u001b[0;34m)\u001b[0m\u001b[0;34m\u001b[0m\u001b[0m\n\u001b[1;32m     88\u001b[0m \u001b[0;34m\u001b[0m\u001b[0m\n\u001b[0;32m---> 89\u001b[0;31m     \u001b[0mrcount\u001b[0m \u001b[0;34m=\u001b[0m \u001b[0m_count_reduce_items\u001b[0m\u001b[0;34m(\u001b[0m\u001b[0marr\u001b[0m\u001b[0;34m,\u001b[0m \u001b[0maxis\u001b[0m\u001b[0;34m)\u001b[0m\u001b[0;34m\u001b[0m\u001b[0m\n\u001b[0m\u001b[1;32m     90\u001b[0m     \u001b[0;31m# Make this warning show up on top.\u001b[0m\u001b[0;34m\u001b[0m\u001b[0;34m\u001b[0m\u001b[0m\n\u001b[1;32m     91\u001b[0m     \u001b[0;32mif\u001b[0m \u001b[0mddof\u001b[0m \u001b[0;34m>=\u001b[0m \u001b[0mrcount\u001b[0m\u001b[0;34m:\u001b[0m\u001b[0;34m\u001b[0m\u001b[0m\n",
      "\u001b[0;32m~/anaconda3/lib/python3.6/site-packages/numpy/core/_methods.py\u001b[0m in \u001b[0;36m_count_reduce_items\u001b[0;34m(arr, axis)\u001b[0m\n\u001b[1;32m     48\u001b[0m     \u001b[0mitems\u001b[0m \u001b[0;34m=\u001b[0m \u001b[0;36m1\u001b[0m\u001b[0;34m\u001b[0m\u001b[0m\n\u001b[1;32m     49\u001b[0m     \u001b[0;32mfor\u001b[0m \u001b[0max\u001b[0m \u001b[0;32min\u001b[0m \u001b[0maxis\u001b[0m\u001b[0;34m:\u001b[0m\u001b[0;34m\u001b[0m\u001b[0m\n\u001b[0;32m---> 50\u001b[0;31m         \u001b[0mitems\u001b[0m \u001b[0;34m*=\u001b[0m \u001b[0marr\u001b[0m\u001b[0;34m.\u001b[0m\u001b[0mshape\u001b[0m\u001b[0;34m[\u001b[0m\u001b[0max\u001b[0m\u001b[0;34m]\u001b[0m\u001b[0;34m\u001b[0m\u001b[0m\n\u001b[0m\u001b[1;32m     51\u001b[0m     \u001b[0;32mreturn\u001b[0m \u001b[0mitems\u001b[0m\u001b[0;34m\u001b[0m\u001b[0m\n\u001b[1;32m     52\u001b[0m \u001b[0;34m\u001b[0m\u001b[0m\n",
      "\u001b[0;31mTypeError\u001b[0m: tuple indices must be integers or slices, not float"
     ]
    }
   ],
   "source": [
    "0.000006"
   ]
  },
  {
   "cell_type": "code",
   "execution_count": null,
   "metadata": {
    "collapsed": true
   },
   "outputs": [],
   "source": []
  }
 ],
 "metadata": {
  "kernelspec": {
   "display_name": "Python 3",
   "language": "python",
   "name": "python3"
  },
  "language_info": {
   "codemirror_mode": {
    "name": "ipython",
    "version": 3
   },
   "file_extension": ".py",
   "mimetype": "text/x-python",
   "name": "python",
   "nbconvert_exporter": "python",
   "pygments_lexer": "ipython3",
   "version": "3.6.2"
  }
 },
 "nbformat": 4,
 "nbformat_minor": 2
}
