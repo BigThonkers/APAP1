{
 "cells": [
  {
   "cell_type": "code",
   "execution_count": 25,
   "metadata": {},
   "outputs": [],
   "source": [
    "from uncertainties import ufloat\n",
    "from uncertainties import unumpy as unp\n",
    "import numpy as np\n",
    "\n",
    "m = ufloat(0.0057,0.0003)\n",
    "V = ufloat(2.225e-3,0.005e-3)\n",
    "A = ufloat(0.135,0.003)\n",
    "pa = ufloat(0.988,0.001)\n",
    "g = 9.81"
   ]
  },
  {
   "cell_type": "code",
   "execution_count": 26,
   "metadata": {},
   "outputs": [],
   "source": [
    "F = m*g\n",
    "ps = F/A\n",
    "p = ps + pa"
   ]
  },
  {
   "cell_type": "code",
   "execution_count": 27,
   "metadata": {},
   "outputs": [],
   "source": [
    "def f(t):\n",
    "    return (4*np.pi**2*m*V)/(A**2*p*t**2)\n",
    "def s_t(t,n):\n",
    "    return (sum(t)/len(t))/np.sqrt(n)"
   ]
  },
  {
   "cell_type": "code",
   "execution_count": 28,
   "metadata": {},
   "outputs": [],
   "source": [
    "L = unp.uarray([39.09, 38.96, 39.16, 39, 39.96],[s_t([39.09, 38.96, 39.16, 39, 39.96],100)])\n",
    "Ar = unp.uarray([36.1,36.18,36.14,36.1,36.16],s_t([36.1,36.18,36.14,36.1,36.16],100))"
   ]
  },
  {
   "cell_type": "code",
   "execution_count": 29,
   "metadata": {},
   "outputs": [],
   "source": [
    "T1 = []\n",
    "for i in L:\n",
    "    T1.append(i/100)\n",
    "\n",
    "T2 = []\n",
    "for i in Ar:\n",
    "    T2.append(i/100)"
   ]
  },
  {
   "cell_type": "code",
   "execution_count": 30,
   "metadata": {},
   "outputs": [
    {
     "name": "stdout",
     "output_type": "stream",
     "text": [
      "0.128+/-0.027\n",
      "0.129+/-0.027\n",
      "0.128+/-0.026\n",
      "0.129+/-0.027\n",
      "0.123+/-0.025\n",
      "0.150+/-0.031\n",
      "0.150+/-0.031\n",
      "0.150+/-0.031\n",
      "0.150+/-0.031\n",
      "0.150+/-0.031\n"
     ]
    }
   ],
   "source": [
    "for i in T1:\n",
    "    print(f(i))\n",
    "    \n",
    "for i in T2:\n",
    "    print(f(i))"
   ]
  },
  {
   "cell_type": "code",
   "execution_count": 31,
   "metadata": {},
   "outputs": [
    {
     "name": "stdout",
     "output_type": "stream",
     "text": [
      "[0.12821999838433715+/-0.026622553347416093\n",
      " 0.1290771035851688+/-0.02688411074387926\n",
      " 0.1277620117678226+/-0.02648314157939918\n",
      " 0.12881246582065864+/-0.026803262140689718\n",
      " 0.12269762286887849+/-0.024957879026625388]\n"
     ]
    }
   ],
   "source": [
    "L100=L/100\n",
    "print(f(L100))"
   ]
  },
  {
   "cell_type": "code",
   "execution_count": null,
   "metadata": {},
   "outputs": [],
   "source": []
  }
 ],
 "metadata": {
  "kernelspec": {
   "display_name": "Python 3",
   "language": "python",
   "name": "python3"
  },
  "language_info": {
   "codemirror_mode": {
    "name": "ipython",
    "version": 3
   },
   "file_extension": ".py",
   "mimetype": "text/x-python",
   "name": "python",
   "nbconvert_exporter": "python",
   "pygments_lexer": "ipython3",
   "version": "3.6.5"
  }
 },
 "nbformat": 4,
 "nbformat_minor": 2
}
