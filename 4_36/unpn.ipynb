{
 "cells": [
  {
   "cell_type": "code",
   "execution_count": 39,
   "metadata": {},
   "outputs": [],
   "source": [
    "from uncertainties import ufloat\n",
    "from uncertainties import unumpy as unp\n",
    "import numpy as np\n",
    "\n",
    "m = ufloat(0.0057,0.0003)\n",
    "V = ufloat(2.225e-3,0.005e-3)\n",
    "A = ufloat(1.35e-4,0.03e-4)\n",
    "pa = ufloat(98800,100)\n",
    "g = 9.81"
   ]
  },
  {
   "cell_type": "code",
   "execution_count": 40,
   "metadata": {},
   "outputs": [],
   "source": [
    "F = m*g\n",
    "ps = F/A\n",
    "p = ps + pa"
   ]
  },
  {
   "cell_type": "code",
   "execution_count": 41,
   "metadata": {},
   "outputs": [],
   "source": [
    "def f(t):\n",
    "    return (4*np.pi**2*m*V)/(A**2*p*t**2)\n",
    "def s_t(t,n):\n",
    "    return (sum(t)/len(t))/np.sqrt(n)"
   ]
  },
  {
   "cell_type": "code",
   "execution_count": 42,
   "metadata": {},
   "outputs": [],
   "source": [
    "L = unp.uarray([39.09, 38.96, 39.16, 39, 39.96],[s_t([39.09, 38.96, 39.16, 39, 39.96],100)])\n",
    "Ar = unp.uarray([36.1,36.18,36.14,36.1,36.16],s_t([36.1,36.18,36.14,36.1,36.16],100))"
   ]
  },
  {
   "cell_type": "code",
   "execution_count": 43,
   "metadata": {},
   "outputs": [],
   "source": [
    "T1 = []\n",
    "for i in L:\n",
    "    T1.append(i/100)\n",
    "\n",
    "T2 = []\n",
    "for i in Ar:\n",
    "    T2.append(i/100)"
   ]
  },
  {
   "cell_type": "code",
   "execution_count": 44,
   "metadata": {},
   "outputs": [
    {
     "name": "stdout",
     "output_type": "stream",
     "text": [
      "1.8+/-0.4\n",
      "1.8+/-0.4\n",
      "1.8+/-0.4\n",
      "1.8+/-0.4\n",
      "1.7+/-0.4\n",
      "2.1+/-0.4\n",
      "2.1+/-0.4\n",
      "2.1+/-0.4\n",
      "2.1+/-0.4\n",
      "2.1+/-0.4\n"
     ]
    }
   ],
   "source": [
    "for i in T1:\n",
    "    print(f(i))\n",
    "    \n",
    "for i in T2:\n",
    "    print(f(i))"
   ]
  },
  {
   "cell_type": "code",
   "execution_count": 45,
   "metadata": {},
   "outputs": [
    {
     "name": "stdout",
     "output_type": "stream",
     "text": [
      "[1.8121406183239652+/-0.3844787882675074\n",
      " 1.8242541354677426+/-0.38820516140650596\n",
      " 1.805667867108144+/-0.3824925246155173\n",
      " 1.8205139947076883+/-0.387053343720814\n",
      " 1.7340925672609506+/-0.3607574793881025]\n"
     ]
    }
   ],
   "source": [
    "L100=L/100\n",
    "print(f(L100))"
   ]
  },
  {
   "cell_type": "code",
   "execution_count": 46,
   "metadata": {},
   "outputs": [],
   "source": [
    "L1000=np.array([6*60+32.32,6*60+32.52],s_t([6*60+32.32,6*60+32.52],1000))/1000\n",
    "Ar1000=np.array([6*60+10.68,6*60+04.06],s_t([6*60+10.68,6*60+04.06],1000))/1000"
   ]
  },
  {
   "cell_type": "code",
   "execution_count": 47,
   "metadata": {},
   "outputs": [
    {
     "name": "stdout",
     "output_type": "stream",
     "text": [
      "[1.7990462934623275+/-0.12360035599497056\n",
      " 1.7972134309726984+/-0.12347443235585623]\n"
     ]
    }
   ],
   "source": [
    "print(f(L1000))"
   ]
  },
  {
   "cell_type": "code",
   "execution_count": 48,
   "metadata": {},
   "outputs": [
    {
     "name": "stdout",
     "output_type": "stream",
     "text": [
      "[2.01523142657542+/-0.13845298069434597\n",
      " 2.0891869595125505+/-0.14353396734379734]\n"
     ]
    }
   ],
   "source": [
    "print(f(Ar1000))"
   ]
  },
  {
   "cell_type": "code",
   "execution_count": null,
   "metadata": {},
   "outputs": [],
   "source": []
  }
 ],
 "metadata": {
  "kernelspec": {
   "display_name": "Python 3",
   "language": "python",
   "name": "python3"
  },
  "language_info": {
   "codemirror_mode": {
    "name": "ipython",
    "version": 3
   },
   "file_extension": ".py",
   "mimetype": "text/x-python",
   "name": "python",
   "nbconvert_exporter": "python",
   "pygments_lexer": "ipython3",
   "version": "3.6.5"
  }
 },
 "nbformat": 4,
 "nbformat_minor": 2
}
