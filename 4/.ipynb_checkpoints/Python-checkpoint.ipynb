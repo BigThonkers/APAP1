{
 "cells": [
  {
   "cell_type": "code",
   "execution_count": 2,
   "metadata": {},
   "outputs": [
    {
     "name": "stdout",
     "output_type": "stream",
     "text": [
      "[8982.0+/-2009.8133136078973 8649.333333333334+/-1931.8232097115533\n",
      " 8649.333333333334+/-1931.8232097115533 8982.0+/-2009.8133136078973\n",
      " 9314.666666666666+/-2087.8348936661337]\n",
      "(8.9+/-0.9)e+03\n"
     ]
    }
   ],
   "source": [
    "import numpy as np\n",
    "from uncertainties import ufloat\n",
    "\n",
    "#Messwerte\n",
    "x_0=np.array([ufloat(441,1/2),ufloat(479,1/2),ufloat(473,1/2),ufloat(463,1/2),ufloat(468,1/2)])\n",
    "x_1=np.array([ufloat(414,1/2),ufloat(453,1/2),ufloat(447,1/2),ufloat(436,1/2),ufloat(440,1/2)])\n",
    "x_2=np.array([ufloat(417,1/2),ufloat(456,1/2),ufloat(450,1/2),ufloat(439,1/2),ufloat(443,1/2)])\n",
    "\n",
    "#Dichte von Wasser bei 20 Grad Celsius\n",
    "rho_o2=998\n",
    "\n",
    "#Formel fuer Dichte des Objektes\n",
    "rho=rho_o2*(x_1-x_0)/(x_1-x_2)\n",
    "\n",
    "print(rho)\n",
    "\n",
    "#Mittelwert (Bestwert) und Standardabweichung\n",
    "print(sum(rho)/len(rho))"
   ]
  },
  {
   "cell_type": "code",
   "execution_count": 3,
   "metadata": {},
   "outputs": [
    {
     "name": "stdout",
     "output_type": "stream",
     "text": [
      "[1068.0+/-321.4534790603455 953.5714285714286+/-287.8851820302507\n",
      " 1026.923076923077+/-309.4241593198329\n",
      " 988.8888888888889+/-298.265206056054]\n",
      "(1.01+/-0.23)e+03\n"
     ]
    }
   ],
   "source": [
    "import numpy as np\n",
    "from uncertainties import ufloat\n",
    "\n",
    "#Messwerte\n",
    "x_0=np.array([ufloat(449,1/2),ufloat(466,1/2),ufloat(440,1/2),ufloat(482,1/2)])\n",
    "x_1=np.array([ufloat(424,1/2),ufloat(438,1/2),ufloat(414,1/2),ufloat(455,1/2)])\n",
    "x_2=np.array([ufloat(427,1/2),ufloat(441,1/2),ufloat(417,1/2),ufloat(458,1/2)])\n",
    "\n",
    "#Dichte von Objekt\n",
    "rho_obj=ufloat(8900,1800)\n",
    "\n",
    "#Formel fuer Dichte der Fluessigkeit\n",
    "rho_fl=rho_obj*(x_1-x_2)/(x_1-x_0)\n",
    "\n",
    "print(rho_fl)\n",
    "\n",
    "#Mittelwert (Bestwert) und Standardabweichung\n",
    "print(sum(rho_fl)/len(rho_fl))"
   ]
  },
  {
   "cell_type": "code",
   "execution_count": 4,
   "metadata": {},
   "outputs": [
    {
     "name": "stdout",
     "output_type": "stream",
     "text": [
      "1.0\n"
     ]
    }
   ],
   "source": [
    "x=[1,3]\n",
    "print(np.std(x,ddof=1)/np.sqrt(2))"
   ]
  },
  {
   "cell_type": "code",
   "execution_count": 5,
   "metadata": {},
   "outputs": [
    {
     "name": "stdout",
     "output_type": "stream",
     "text": [
      "8649.333333333334\n"
     ]
    }
   ],
   "source": [
    "from uncertainties import nominal_value\n",
    "x=rho[1]\n",
    "print(x.nominal_value)"
   ]
  },
  {
   "cell_type": "code",
   "execution_count": 6,
   "metadata": {},
   "outputs": [
    {
     "ename": "SyntaxError",
     "evalue": "unexpected EOF while parsing (<ipython-input-6-10636d8bc001>, line 2)",
     "output_type": "error",
     "traceback": [
      "\u001b[0;36m  File \u001b[0;32m\"<ipython-input-6-10636d8bc001>\"\u001b[0;36m, line \u001b[0;32m2\u001b[0m\n\u001b[0;31m    print(np.mean(n),'+/-',np.std(n,ddof=1)\u001b[0m\n\u001b[0m                                           ^\u001b[0m\n\u001b[0;31mSyntaxError\u001b[0m\u001b[0;31m:\u001b[0m unexpected EOF while parsing\n"
     ]
    }
   ],
   "source": [
    "n=np.array([8982,8649,8649,8982,9315])\n",
    "print(np.mean(n),'+/-',np.std(n,ddof=1)"
   ]
  },
  {
   "cell_type": "code",
   "execution_count": 7,
   "metadata": {},
   "outputs": [
    {
     "name": "stdout",
     "output_type": "stream",
     "text": [
      "1009.5 +/- 49.08835571361773\n"
     ]
    }
   ],
   "source": [
    "n=np.array([1068,954,1027,989])\n",
    "print(np.mean(n),'+/-',np.std(n,ddof=1))"
   ]
  },
  {
   "cell_type": "code",
   "execution_count": 8,
   "metadata": {},
   "outputs": [
    {
     "data": {
      "text/plain": [
       "3987.088089320325+/-124.59719097957223"
      ]
     },
     "execution_count": 8,
     "metadata": {},
     "output_type": "execute_result"
    }
   ],
   "source": [
    "n=np.array([8982,8649,8649,8982,9315])\n",
    "ufloat(np.mean(n),np.std(n,ddof=1))/np.sqrt(5)"
   ]
  },
  {
   "cell_type": "code",
   "execution_count": 9,
   "metadata": {},
   "outputs": [
    {
     "data": {
      "text/plain": [
       "504.75+/-24.544177856808865"
      ]
     },
     "execution_count": 9,
     "metadata": {},
     "output_type": "execute_result"
    }
   ],
   "source": [
    "n=np.array([1068,954,1027,989])\n",
    "ufloat(np.mean(n),np.std(n,ddof=1))/np.sqrt(4)"
   ]
  },
  {
   "cell_type": "code",
   "execution_count": 10,
   "metadata": {},
   "outputs": [
    {
     "name": "stderr",
     "output_type": "stream",
     "text": [
      "/usr/lib/python3.6/site-packages/ipykernel_launcher.py:8: RuntimeWarning: overflow encountered in exp\n",
      "  \n"
     ]
    },
    {
     "data": {
      "image/png": "[encoded data removed]",
      "text/plain": [
       "<Figure size 432x288 with 1 Axes>"
      ]
     },
     "metadata": {},
     "output_type": "display_data"
    }
   ],
   "source": [
    "#Wasser\n",
    "import matplotlib.pyplot as plt\n",
    "from scipy import interpolate\n",
    "import pylab\n",
    "from scipy.optimize import curve_fit\n",
    "\n",
    "def sigmoid(x,a,b,c,d):\n",
    "    return d*(1/(1+np.exp(-c*(x-a)))+b)\n",
    "\n",
    "h1=np.array([2,4,6,8,9])\n",
    "h2=np.array([2,4,5,6,8,9,10])\n",
    "r1=np.array([0.26,0.33,1.25,3.9,4.75])\n",
    "r2=np.array([0.23,0.25,0.3,0.83,3.85,4.6,4.7])\n",
    "popt,pvoc=curve_fit(sigmoid,h1,r1)\n",
    "a,b,c,d=popt\n",
    "y=sigmoid(h1,a,b,c,d)\n",
    "#plt.plot(h1,r1)\n",
    "#plt.grid()\n",
    "#plt.show()\n",
    "x=h1\n",
    "#y=r1\n",
    "tck = interpolate.splrep(x, y, s=0)\n",
    "xnew = np.arange(2, 9, np.pi/50)\n",
    "ynew = interpolate.splev(xnew, tck, der=0)\n",
    "\n",
    "plt.figure()\n",
    "plt.plot(xnew, ynew,color='blue')\n",
    "plt.plot(x, y, 'o', color='blue', label='Wasser 1')\n",
    "\n",
    "x=h2\n",
    "y=r2\n",
    "tck = interpolate.splrep(x, y, s=0)\n",
    "xnew = np.arange(2, 10, np.pi/50)\n",
    "ynew = interpolate.splev(xnew, tck, der=0)\n",
    "plt.plot(xnew, ynew,color='red')\n",
    "plt.plot(x, y, 'o', color='red', label='Wasser 2')\n",
    "plt.grid()\n",
    "plt.legend()\n",
    "plt.xlabel(r'$\\mathrm{H\\\"ohe\\ [mm]}$')\n",
    "plt.ylabel('Kraft [mN]')\n",
    "plt.show()"
   ]
  },
  {
   "cell_type": "code",
   "execution_count": 11,
   "metadata": {},
   "outputs": [
    {
     "name": "stdout",
     "output_type": "stream",
     "text": [
      "33.76143272054295 -0.565136557278014 -16.341658055392504 1.6288496580355352\n"
     ]
    },
    {
     "name": "stderr",
     "output_type": "stream",
     "text": [
      "/usr/lib/python3.6/site-packages/scipy/optimize/minpack.py:794: OptimizeWarning: Covariance of the parameters could not be estimated\n",
      "  category=OptimizeWarning)\n"
     ]
    },
    {
     "data": {
      "image/png": "[encoded data removed]",
      "text/plain": [
       "<Figure size 432x288 with 1 Axes>"
      ]
     },
     "metadata": {},
     "output_type": "display_data"
    }
   ],
   "source": [
    "#Ethanol\n",
    "\n",
    "h1=np.array([0,1,3.75,5,7,8])\n",
    "h2=np.array([0,3.75,5,5.5,6,6.5])\n",
    "h3=np.array([3.5,4,4.5,5,5.5,6,6.2,6.4,6.6])\n",
    "r1=np.array([-0.35,-0.2,0,0.67,1.25,1.25])\n",
    "r2=np.array([-0.35,0,0.85,1.1,1.3,1.35])\n",
    "r3=np.array([0,0.15,0.46,1.1,1.25,1.4,1.43,1.4,1.3])\n",
    "\n",
    "x=h1\n",
    "y=r1\n",
    "tck = interpolate.splrep(x, y, s=0)\n",
    "xnew = np.arange(0, 8, np.pi/50)\n",
    "ynew = interpolate.splev(xnew, tck, der=0)\n",
    "#plt.plot(xnew, ynew,color='blue')\n",
    "plt.plot(x, y, 'o', color='blue', label='Fluessigkeit 1')\n",
    "def sigmoid(x,a,b,c,d):\n",
    "    return d*(1/(1+np.exp(-c*(x-a)))+b)\n",
    "popt,pvoc=curve_fit(sigmoid,h1,r1)\n",
    "a,b,c,d=popt\n",
    "r1_fit=sigmoid(np.linspace(0,10,50),a,b,c,d)\n",
    "plt.plot(np.linspace(0,10,50),r1_fit,color='blue')\n",
    "\n",
    "\n",
    "def sigmoid(x,a,b,c,d):\n",
    "    return d*(1/(1+np.exp(-c*(x-a)))+b)\n",
    "popt,pvoc=curve_fit(sigmoid,h2,r2)\n",
    "a,b,c,d=popt\n",
    "r2_fit=sigmoid(h2,a,b,c,d)\n",
    "x=h2\n",
    "#y=r2\n",
    "tck = interpolate.splrep(x, y, s=0)\n",
    "xnew = np.arange(0, 6.5, np.pi/50)\n",
    "ynew = interpolate.splev(xnew, tck, der=0)\n",
    "#plt.plot(xnew, ynew,color='red')\n",
    "#plt.plot(x, y, 'x', color='red', label='Fluessigkeit 2')\n",
    "plt.plot(h2,r2_fit,color='red')\n",
    "print(a,b,c,d)\n",
    "\n",
    "x=h3\n",
    "y=r3\n",
    "tck = interpolate.splrep(x, y, s=0)\n",
    "xnew = np.arange(3.5, 6.6, np.pi/50)\n",
    "ynew = interpolate.splev(xnew, tck, der=0)\n",
    "\n",
    "plt.plot(xnew, ynew,color='green')\n",
    "plt.plot(x, y, 'gD', color='green', label='Fluessigkeit 3')\n",
    "plt.legend()\n",
    "plt.xlabel(r'$\\mathrm{H\\\"ohe\\ [mm]}$')\n",
    "plt.ylabel(r'Kraft [mN]')\n",
    "plt.grid()\n",
    "plt.show()"
   ]
  },
  {
   "cell_type": "code",
   "execution_count": 12,
   "metadata": {},
   "outputs": [
    {
     "name": "stdout",
     "output_type": "stream",
     "text": [
      "5.162208690929833\n"
     ]
    },
    {
     "data": {
      "image/png": "[encoded data removed]",
      "text/plain": [
       "<Figure size 432x288 with 1 Axes>"
      ]
     },
     "metadata": {},
     "output_type": "display_data"
    },
    {
     "name": "stdout",
     "output_type": "stream",
     "text": [
      "4.749176204601117\n"
     ]
    },
    {
     "data": {
      "text/plain": [
       "<ErrorbarContainer object of 3 artists>"
      ]
     },
     "execution_count": 12,
     "metadata": {},
     "output_type": "execute_result"
    }
   ],
   "source": [
    "#Wasser\n",
    "import matplotlib.pyplot as plt\n",
    "from scipy import interpolate\n",
    "import pylab\n",
    "from scipy.optimize import curve_fit\n",
    "from pylab import savefig\n",
    "\n",
    "def sigmoid(x,a,b,c,d):\n",
    "    return d*(1/(1+np.exp(-c*(x-a))))+b\n",
    "\n",
    "h1=np.array([2,4,6,8,9])\n",
    "h2=np.array([2,4,5,6,8,9,10])\n",
    "r1=np.array([0.26,0.33,1.25,3.9,4.75])\n",
    "r2=np.array([0.23,0.25,0.3,0.83,3.85,4.6,4.7])\n",
    "popt,pvoc=curve_fit(sigmoid,h1,r1,method='dogbox')\n",
    "a,b,c,d=popt\n",
    "r1_fit=sigmoid(np.linspace(0,11,50),a,b,c,d)\n",
    "plt.plot(np.linspace(0,11,50),r1_fit,color='blue')\n",
    "plt.plot(h1,r1,color='blue',marker='o',LineStyle='none')\n",
    "print(sigmoid(10.5,a,b,c,d))\n",
    "\n",
    "popt,pvoc=curve_fit(sigmoid,h2,r2,method='dogbox')\n",
    "a,b,c,d=popt\n",
    "r2_fit=sigmoid(np.linspace(0,11,50),a,b,c,d)\n",
    "plt.plot(np.linspace(0,11,50),r2_fit,color='red')\n",
    "plt.plot(h2,r2,color='red',marker='o',LineStyle='none')\n",
    "\n",
    "plt.suptitle('Kraftverlauf Wasser')\n",
    "plt.xlabel(r'$\\mathrm{H\\\"ohe\\ [mm]}$')\n",
    "plt.ylabel(r'Kraft [mN]')\n",
    "plt.grid()\n",
    "plt.show()\n",
    "print(sigmoid(10.5,a,b,c,d))\n",
    "x=[10.5]\n",
    "y=[sigmoid(x,a,b,c,d)]\n",
    "plt.errorbar(x,y,[0.2],capsize=5,elinewidth=2,markeredgewidth=2,ecolor='red')\n",
    "x=[10.5]\n",
    "y=[sigmoid(x,a,b,c,d)]\n",
    "plt.errorbar(x,y,[0.2],capsize=5,elinewidth=2,markeredgewidth=2,ecolor='blue')"
   ]
  },
  {
   "cell_type": "code",
   "execution_count": 13,
   "metadata": {},
   "outputs": [
    {
     "data": {
      "image/png": "[encoded data removed]",
      "text/plain": [
       "<Figure size 432x288 with 1 Axes>"
      ]
     },
     "metadata": {},
     "output_type": "display_data"
    }
   ],
   "source": [
    "#Ethanol\n",
    "h1=np.array([0,1,3.75,5,7,8])\n",
    "h2=np.array([0,3.75,5,5.5,6,6.5])\n",
    "h3=np.array([3.5,4,4.5,5,5.5,6,6.2,6.4,6.6])\n",
    "r1=np.array([-0.35,-0.2,0,0.67,1.25,1.25])\n",
    "r2=np.array([-0.35,0,0.85,1.1,1.3,1.35])\n",
    "r3=np.array([0,0.15,0.46,1.1,1.25,1.4,1.43,1.4,1.3])\n",
    "popt,pvoc=curve_fit(sigmoid,h1,r1,method='dogbox')\n",
    "a,b,c,d=popt\n",
    "r1_fit=sigmoid(np.linspace(0,10,50),a,b,c,d)\n",
    "plt.plot(np.linspace(0,10,50),r1_fit,color='blue')\n",
    "plt.plot(h1,r1,color='blue',marker='o',LineStyle='none')\n",
    "\n",
    "popt,pvoc=curve_fit(sigmoid,h2,r2,method='dogbox')\n",
    "a,b,c,d=popt\n",
    "r2_fit=sigmoid(np.linspace(0,10,50),a,b,c,d)\n",
    "plt.plot(np.linspace(0,10,50),r2_fit,color='red')\n",
    "plt.plot(h2,r2,color='red',marker='o',LineStyle='none')\n",
    "\n",
    "popt,pvoc=curve_fit(sigmoid,h3,r3,method='dogbox')\n",
    "a,b,c,d=popt\n",
    "r3_fit=sigmoid(np.linspace(0,10,50),a,b,c,d)\n",
    "plt.plot(np.linspace(0,10,50),r3_fit,color='green')\n",
    "plt.plot(h3,r3,color='green',marker='o',LineStyle='none')\n",
    "\n",
    "plt.suptitle('Kraftverlauf Ethanol')\n",
    "plt.xlabel(r'$\\mathrm{H\\\"ohe\\ [mm]}$')\n",
    "plt.ylabel(r'Kraft [mN]')\n",
    "plt.grid()\n",
    "plt.show()"
   ]
  },
  {
   "cell_type": "code",
   "execution_count": null,
   "metadata": {},
   "outputs": [],
   "source": []
  },
  {
   "cell_type": "code",
   "execution_count": null,
   "metadata": {},
   "outputs": [],
   "source": []
  }
 ],
 "metadata": {
  "kernelspec": {
   "display_name": "Python 3",
   "language": "python",
   "name": "python3"
  },
  "language_info": {
   "codemirror_mode": {
    "name": "ipython",
    "version": 3
   },
   "file_extension": ".py",
   "mimetype": "text/x-python",
   "name": "python",
   "nbconvert_exporter": "python",
   "pygments_lexer": "ipython3",
   "version": "3.6.5"
  }
 },
 "nbformat": 4,
 "nbformat_minor": 2
}
