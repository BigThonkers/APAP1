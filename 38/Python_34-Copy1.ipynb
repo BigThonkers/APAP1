{
 "cells": [
  {
   "cell_type": "code",
   "execution_count": 1,
   "metadata": {},
   "outputs": [
    {
     "name": "stdout",
     "output_type": "stream",
     "text": [
      "c_w fuer erste Messung = (5.5+/-2.0)e+03\n",
      "c_w fuer zweite Messung = (2.6+/-2.6)e+03\n",
      "c_w Mittelwert = (4.0+/-1.7)e+03\n"
     ]
    }
   ],
   "source": [
    "#Pakete importieren\n",
    "import numpy as np\n",
    "from uncertainties import ufloat\n",
    "from uncertainties import unumpy as unp\n",
    "\n",
    "#Eingabe von Messwerten mit Fehlern\n",
    "un=0.1\n",
    "ut=0.3\n",
    "n1=unp.uarray([0,50],[un])\n",
    "T1=unp.uarray([0.9],[ut])\n",
    "n2=unp.uarray([0,5,10,15,20,25,30,35,40,45,50,55,60,65,70,75,80,85,90,95,100],[un])\n",
    "T2=unp.uarray([0,0,0.1,0.1,0.1,0.1,0.1,0.1,0.1,0.1,0.1,0,0.2,0.1,0,0.1,0,0.1,0.1,0.2,0],[ut])\n",
    "c_Cu=380\n",
    "m_Kal=0.098\n",
    "C_Kal=m_Kal*c_Cu\n",
    "C_T=5\n",
    "m_w=ufloat(0.06636,0.00001)\n",
    "m=5\n",
    "g=9.81\n",
    "d=ufloat(0.0472,0.00005)\n",
    "T1_tot=sum(T1)\n",
    "n1_tot=ufloat(50,un)\n",
    "T2_tot=sum(T2)\n",
    "n2_tot=ufloat(100,un)\n",
    "\n",
    "#Berechnen von C\n",
    "C1=m*g*n1_tot*np.pi*d/T1_tot\n",
    "C2=m*g*n1_tot*np.pi*d/T2_tot\n",
    "\n",
    "#Definition von Funktion zur Berechnung von c_w\n",
    "def c_w(C_1,C_2,m_1,C_3):\n",
    "    return (C_3-C_1-C_2)/m_1\n",
    "\n",
    "#Ausgabe von Ergebnissen\n",
    "print('c_w fuer erste Messung =',c_w(C_1=C_Kal,C_2=C_T,m_1=m_w,C_3=C1))\n",
    "print('c_w fuer zweite Messung =',c_w(C_Kal,C_T,m_w,C2))\n",
    "print('c_w Mittelwert =',(c_w(C_1=C_Kal,C_2=C_T,m_1=m_w,C_3=C1)+c_w(C_Kal,C_T,m_w,C2))/2)"
   ]
  },
  {
   "cell_type": "code",
   "execution_count": null,
   "metadata": {},
   "outputs": [],
   "source": []
  }
 ],
 "metadata": {
  "kernelspec": {
   "display_name": "Python 3",
   "language": "python",
   "name": "python3"
  },
  "language_info": {
   "codemirror_mode": {
    "name": "ipython",
    "version": 3
   },
   "file_extension": ".py",
   "mimetype": "text/x-python",
   "name": "python",
   "nbconvert_exporter": "python",
   "pygments_lexer": "ipython3",
   "version": "3.6.5"
  }
 },
 "nbformat": 4,
 "nbformat_minor": 2
}
