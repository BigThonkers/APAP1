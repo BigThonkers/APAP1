{
 "cells": [
  {
   "cell_type": "code",
   "execution_count": 2,
   "metadata": {},
   "outputs": [],
   "source": [
    "from uncertainties import ufloat\n",
    "from uncertainties import unumpy as unp\n",
    "import numpy as np\n",
    "\n",
    "m = ufloat(0.0057,0.0003)\n",
    "V = ufloat(2.225e-3,0.005e-3)\n",
    "A = ufloat(0.135,0.003)\n",
    "pa = ufloat(988,1)\n",
    "g = 9.81"
   ]
  },
  {
   "cell_type": "code",
   "execution_count": 3,
   "metadata": {},
   "outputs": [],
   "source": [
    "F = m*g\n",
    "ps = F/A\n",
    "p = ps + pa"
   ]
  },
  {
   "cell_type": "code",
   "execution_count": 4,
   "metadata": {},
   "outputs": [],
   "source": [
    "def f(t):\n",
    "    #k=\n",
    "    return (4*np.pi**2*m*V)/(A**2*p*t**2)\n",
    "def s_t(t,n):\n",
    "    return (sum(t)/len(t))/np.sqrt(n)"
   ]
  },
  {
   "cell_type": "code",
   "execution_count": 5,
   "metadata": {},
   "outputs": [],
   "source": [
    "L = unp.uarray([39.09, 38.96, 39.16, 39, 39.96],[s_t([39.09, 38.96, 39.16, 39, 39.96],100)])\n",
    "Ar = unp.uarray([36.1,36.18,36.14,36.1,36.16],s_t([36.1,36.18,36.14,36.1,36.16],100))"
   ]
  },
  {
   "cell_type": "code",
   "execution_count": 14,
   "metadata": {},
   "outputs": [],
   "source": [
    "T1 = []\n",
    "for i in L:\n",
    "    T1.append(i/100)\n",
    "\n",
    "T2 = []\n",
    "for i in Ar:\n",
    "    T2.append(i/100)"
   ]
  },
  {
   "cell_type": "code",
   "execution_count": 15,
   "metadata": {},
   "outputs": [
    {
     "name": "stdout",
     "output_type": "stream",
     "text": [
      "0.00018+/-0.00004\n",
      "0.00018+/-0.00004\n",
      "0.00018+/-0.00004\n",
      "0.00018+/-0.00004\n",
      "0.00017+/-0.00004\n",
      "0.00021+/-0.00005\n",
      "0.00021+/-0.00004\n",
      "0.00021+/-0.00005\n",
      "0.00021+/-0.00005\n",
      "0.00021+/-0.00004\n"
     ]
    }
   ],
   "source": [
    "for i in T1:\n",
    "    print(f(i))\n",
    "    \n",
    "for i in T2:\n",
    "    print(f(i))"
   ]
  },
  {
   "cell_type": "code",
   "execution_count": null,
   "metadata": {
    "collapsed": true
   },
   "outputs": [],
   "source": []
  }
 ],
 "metadata": {
  "kernelspec": {
   "display_name": "Python 3",
   "language": "python",
   "name": "python3"
  },
  "language_info": {
   "codemirror_mode": {
    "name": "ipython",
    "version": 3
   },
   "file_extension": ".py",
   "mimetype": "text/x-python",
   "name": "python",
   "nbconvert_exporter": "python",
   "pygments_lexer": "ipython3",
   "version": "3.6.5"
  }
 },
 "nbformat": 4,
 "nbformat_minor": 2
}
